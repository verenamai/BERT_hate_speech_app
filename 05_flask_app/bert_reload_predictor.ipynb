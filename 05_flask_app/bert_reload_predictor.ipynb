{
 "cells": [
  {
   "cell_type": "code",
   "execution_count": 2,
   "metadata": {},
   "outputs": [
    {
     "name": "stdout",
     "output_type": "stream",
     "text": [
      "using Keras version: 2.2.4-tf\n"
     ]
    },
    {
     "name": "stderr",
     "output_type": "stream",
     "text": [
      "Using TensorFlow backend.\n"
     ]
    }
   ],
   "source": [
    "import numpy as np\n",
    "import pandas as pd\n",
    "import time\n",
    "\n",
    "import ktrain\n",
    "from ktrain import text\n",
    "from keras.models import load_model\n",
    "\n",
    "import sklearn"
   ]
  },
  {
   "cell_type": "code",
   "execution_count": 3,
   "metadata": {},
   "outputs": [
    {
     "name": "stdout",
     "output_type": "stream",
     "text": [
      "Dockerfile                    predict_bert2.json\r\n",
      "\u001b[34m__pycache__\u001b[m\u001b[m                   preprocess.py\r\n",
      "api.py                        \u001b[35mrequirements.txt\u001b[m\u001b[m\r\n",
      "\u001b[34mbert\u001b[m\u001b[m                          requirements.txt.macbook\r\n",
      "bert_reload_predictor.ipynb   requirements.txt.nas.tf_1.5\r\n",
      "flask_detecthate_bert_api.log \u001b[34mstatic\u001b[m\u001b[m\r\n",
      "\u001b[34mmodels\u001b[m\u001b[m                        \u001b[34mtemplates\u001b[m\u001b[m\r\n",
      "predict_bert.json\r\n"
     ]
    }
   ],
   "source": [
    "!ls"
   ]
  },
  {
   "cell_type": "code",
   "execution_count": 4,
   "metadata": {},
   "outputs": [],
   "source": [
    "outpath_predictor = \"bert\""
   ]
  },
  {
   "cell_type": "code",
   "execution_count": 5,
   "metadata": {},
   "outputs": [
    {
     "name": "stdout",
     "output_type": "stream",
     "text": [
      "dectet_hatespeech_1000_ep_5_20200102\r\n",
      "dectet_hatespeech_1000_ep_5_20200102.preproc\r\n",
      "dectet_hatespeech_79000_ep_1_20200105\r\n",
      "dectet_hatespeech_79000_ep_1_20200105.preproc\r\n",
      "xx_load_predictor.ipynb\r\n"
     ]
    }
   ],
   "source": [
    "!ls bert"
   ]
  },
  {
   "cell_type": "code",
   "execution_count": 6,
   "metadata": {},
   "outputs": [],
   "source": [
    "#reloaded_predictor = ktrain.load_predictor(outpath_predictor + \"/\" + 'dectet_hatespeech_1000_ep_5_20200102')\n",
    "reloaded_predictor = ktrain.load_predictor(outpath_predictor + \"/\" + 'dectet_hatespeech_79000_ep_1_20200105')"
   ]
  },
  {
   "cell_type": "code",
   "execution_count": 7,
   "metadata": {},
   "outputs": [
    {
     "data": {
      "text/html": [],
      "text/plain": [
       "<IPython.core.display.HTML object>"
      ]
     },
     "metadata": {},
     "output_type": "display_data"
    },
    {
     "data": {
      "text/plain": [
       "array([0.9904274 , 0.00957257], dtype=float32)"
      ]
     },
     "execution_count": 7,
     "metadata": {},
     "output_type": "execute_result"
    }
   ],
   "source": [
    "reloaded_predictor.predict_proba('hello my little Darling')"
   ]
  },
  {
   "cell_type": "code",
   "execution_count": 8,
   "metadata": {},
   "outputs": [],
   "source": [
    "test_data = ['I am a man',\n",
    "             'I am a woman', \n",
    "             'I am a lesbian', \n",
    "             'I am a gay', \n",
    "             'I am a gay man', \n",
    "             'I am dyke', \n",
    "             'I am a white man', \n",
    "             'I am a gay woman',\n",
    "             'I am a white woman', \n",
    "             'I am a gay white man', \n",
    "             'I am a black man',\n",
    "             'I am a gay black man', \n",
    "             'I am a black woman', \n",
    "             'I am a black gay woman',\n",
    "             'Hello sunshine', \n",
    "             'you stupid asshole motherfucker cocksucker']"
   ]
  },
  {
   "cell_type": "code",
   "execution_count": 9,
   "metadata": {},
   "outputs": [
    {
     "data": {
      "text/html": [],
      "text/plain": [
       "<IPython.core.display.HTML object>"
      ]
     },
     "metadata": {},
     "output_type": "display_data"
    },
    {
     "data": {
      "text/plain": [
       "array([[0.98000723, 0.01999276],\n",
       "       [0.9573393 , 0.04266073],\n",
       "       [0.6642738 , 0.3357262 ],\n",
       "       [0.84140944, 0.15859058],\n",
       "       [0.93932897, 0.06067106],\n",
       "       [0.00964075, 0.99035925],\n",
       "       [0.19420415, 0.80579585],\n",
       "       [0.9325418 , 0.06745818],\n",
       "       [0.2889011 , 0.7110989 ],\n",
       "       [0.43378064, 0.5662193 ],\n",
       "       [0.2218088 , 0.77819115],\n",
       "       [0.5386604 , 0.46133956],\n",
       "       [0.3340262 , 0.6659738 ],\n",
       "       [0.5529373 , 0.44706264],\n",
       "       [0.9902114 , 0.0097885 ],\n",
       "       [0.02837872, 0.9716213 ]], dtype=float32)"
      ]
     },
     "execution_count": 9,
     "metadata": {},
     "output_type": "execute_result"
    }
   ],
   "source": [
    "reloaded_predictor.predict_proba(test_data)"
   ]
  },
  {
   "cell_type": "code",
   "execution_count": null,
   "metadata": {},
   "outputs": [],
   "source": []
  }
 ],
 "metadata": {
  "kernelspec": {
   "display_name": "keras-bert-kernel",
   "language": "python",
   "name": "keras-bert-kernel"
  },
  "language_info": {
   "codemirror_mode": {
    "name": "ipython",
    "version": 3
   },
   "file_extension": ".py",
   "mimetype": "text/x-python",
   "name": "python",
   "nbconvert_exporter": "python",
   "pygments_lexer": "ipython3",
   "version": "3.7.4"
  }
 },
 "nbformat": 4,
 "nbformat_minor": 2
}
