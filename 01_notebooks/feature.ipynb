{
 "cells": [
  {
   "cell_type": "code",
   "execution_count": 25,
   "metadata": {
    "ExecuteTime": {
     "end_time": "2020-02-06T15:58:00.956165Z",
     "start_time": "2020-02-06T15:58:00.953821Z"
    }
   },
   "outputs": [],
   "source": [
    "# Import OLID dataset an see whats in it"
   ]
  },
  {
   "cell_type": "code",
   "execution_count": 1,
   "metadata": {
    "ExecuteTime": {
     "end_time": "2020-03-06T10:34:33.723374Z",
     "start_time": "2020-03-06T10:34:32.351306Z"
    }
   },
   "outputs": [
    {
     "name": "stdout",
     "output_type": "stream",
     "text": [
      "done with change concat\n",
      "length df_tweets_all: 101017\n",
      "0    69738\n",
      "1    31279\n",
      "Name: label_all, dtype: int64\n",
      "done\n"
     ]
    }
   ],
   "source": [
    "%run zzz_import_data.ipynb"
   ]
  },
  {
   "cell_type": "code",
   "execution_count": 2,
   "metadata": {
    "ExecuteTime": {
     "end_time": "2020-03-06T10:34:37.955277Z",
     "start_time": "2020-03-06T10:34:35.699357Z"
    }
   },
   "outputs": [],
   "source": [
    "import numpy as np\n",
    "import codecs\n",
    "import unidecode\n",
    "import re\n",
    "import ftfy\n",
    "import pandas as pd\n",
    "from wordcloud import WordCloud\n",
    "import emoji\n",
    "import nltk\n",
    "import matplotlib.pyplot as plt\n",
    "import seaborn as sns\n",
    "from nltk.tokenize import WordPunctTokenizer\n",
    "tok = WordPunctTokenizer()\n",
    "from spacy.lemmatizer import Lemmatizer\n",
    "lemmatizer = Lemmatizer()\n",
    "import spacy\n",
    "import sklearn\n",
    "from num2words import num2words\n",
    "\n",
    "nlp = spacy.load('en', disable=['parser', 'tagger', 'ner'])\n",
    "\n",
    "plt.style.use('ggplot')"
   ]
  },
  {
   "cell_type": "code",
   "execution_count": 3,
   "metadata": {
    "ExecuteTime": {
     "end_time": "2020-03-06T10:34:38.014938Z",
     "start_time": "2020-03-06T10:34:38.012243Z"
    }
   },
   "outputs": [],
   "source": [
    "# \"If max_cols is exceeded, switch to truncate view\"\n",
    "pd.set_option('display.max_columns', 5400)\n",
    "# \"The maximum width in characters of a column\"\n",
    "pd.set_option('display.max_colwidth', 500)"
   ]
  },
  {
   "cell_type": "code",
   "execution_count": null,
   "metadata": {
    "ExecuteTime": {
     "end_time": "2020-03-06T10:34:40.834009Z",
     "start_time": "2020-03-06T10:34:40.821207Z"
    }
   },
   "outputs": [],
   "source": [
    "df_tweets_all"
   ]
  },
  {
   "cell_type": "code",
   "execution_count": 7,
   "metadata": {
    "ExecuteTime": {
     "end_time": "2020-03-06T10:34:42.862963Z",
     "start_time": "2020-03-06T10:34:42.790501Z"
    }
   },
   "outputs": [],
   "source": [
    "# before extracting hashtags from tweets, we need to ride of html parts which are \n",
    "# in tweets like: &#128111;&#128131;&#128131;\n",
    "import html\n",
    "df_tweets_all['tweet_no_html'] = df_tweets_all['tweet'].apply(html.unescape)\n",
    "#df_tweets_all['tweet_lower'] = df_tweets_all['tweet_no_html'].apply(str.lower)"
   ]
  },
  {
   "cell_type": "code",
   "execution_count": 8,
   "metadata": {
    "ExecuteTime": {
     "end_time": "2020-03-06T10:34:44.411595Z",
     "start_time": "2020-03-06T10:34:44.407543Z"
    }
   },
   "outputs": [],
   "source": [
    "# before start text cleaning lets look at used hashtags\n",
    "# function to collect hashtags\n",
    "def hashtag_extract(x):\n",
    "    x = x.str.lower()\n",
    "    hashtags = []\n",
    "    # Loop over the words in the tweet\n",
    "    for i in x:\n",
    "        ht = re.findall(r\"#(\\w+)\", i)\n",
    "        hashtags.append(ht)\n",
    "    return hashtags"
   ]
  },
  {
   "cell_type": "code",
   "execution_count": 9,
   "metadata": {
    "ExecuteTime": {
     "end_time": "2020-03-06T10:34:44.778938Z",
     "start_time": "2020-03-06T10:34:44.775198Z"
    }
   },
   "outputs": [],
   "source": [
    "def emojis_extract(x):\n",
    "    emojies = []\n",
    "    # Loop over the words in the tweet\n",
    "    for i in x:\n",
    "        em = re.findall(r\":(\\w+):\", i)\n",
    "        emojies.append(em)\n",
    "    return emojies"
   ]
  },
  {
   "cell_type": "code",
   "execution_count": 10,
   "metadata": {
    "ExecuteTime": {
     "end_time": "2020-03-06T10:34:45.050996Z",
     "start_time": "2020-03-06T10:34:45.047481Z"
    }
   },
   "outputs": [],
   "source": [
    "def wrap_points(emoji_list):\n",
    "    for i, emo  in enumerate(emoji_list):\n",
    "        #print(i, emo)\n",
    "        emoji_list[i] = \":\" + emo + \":\"\n",
    "    return emoji_list"
   ]
  },
  {
   "cell_type": "code",
   "execution_count": 11,
   "metadata": {
    "ExecuteTime": {
     "end_time": "2020-03-06T10:34:45.523603Z",
     "start_time": "2020-03-06T10:34:45.520045Z"
    }
   },
   "outputs": [],
   "source": [
    "def wrap_emojies(emoji_list):\n",
    "    emojies = []\n",
    "    for emo in emoji_list:\n",
    "        emojies.append(emoji.emojize(emo))\n",
    "    return emojies"
   ]
  },
  {
   "cell_type": "code",
   "execution_count": 12,
   "metadata": {
    "ExecuteTime": {
     "end_time": "2020-03-06T10:34:46.682101Z",
     "start_time": "2020-03-06T10:34:46.663201Z"
    }
   },
   "outputs": [],
   "source": [
    "pattern_retweet = r'^rt '\n",
    "pattern_char = r'@[A-Za-z0-9_]+'\n",
    "pattern_html = r'https?://[^ ]+'\n",
    "pattern_combi = r'|'.join((pattern_char, pattern_html))\n",
    "pattern_www = r'www.[^ ]+'\n",
    "negations_dic = {\"ain't\": \"is not\", \"aren't\": \"are not\",\"can't\": \"cannot\", \n",
    "                   \"can't've\": \"cannot have\", \"'cause\": \"because\", \"could've\": \"could have\", \n",
    "                   \"couldn't\": \"could not\", \"couldn't've\": \"could not have\",\"didn't\": \"did not\", \n",
    "                   \"doesn't\": \"does not\", \"don't\": \"do not\", \"hadn't\": \"had not\", \n",
    "                   \"hadn't've\": \"had not have\", \"hasn't\": \"has not\", \"haven't\": \"have not\", \n",
    "                   \"he'd\": \"he would\", \"he'd've\": \"he would have\", \"he'll\": \"he will\", \n",
    "                   \"he'll've\": \"he will have\", \"he's\": \"he is\", \"how'd\": \"how did\", \n",
    "                   \"how'd'y\": \"how do you\", \"how'll\": \"how will\", \"how's\": \"how is\", \n",
    "                   \"I'd\": \"I would\", \"I'd've\": \"I would have\", \"I'll\": \"I will\", \n",
    "                   \"I'll've\": \"I will have\",\"I'm\": \"I am\", \"I've\": \"I have\", \n",
    "                   \"i'd\": \"i would\", \"i'd've\": \"i would have\", \"i'll\": \"i will\", \n",
    "                   \"i'll've\": \"i will have\",\"i'm\": \"i am\", \"i've\": \"i have\", \n",
    "                   \"isn't\": \"is not\", \"it'd\": \"it would\", \"it'd've\": \"it would have\", \n",
    "                   \"it'll\": \"it will\", \"it'll've\": \"it will have\",\"it's\": \"it is\", \n",
    "                   \"let's\": \"let us\", \"luv\" : \"love\", \"ma'am\": \"madam\", \"mayn't\": \"may not\", \n",
    "                   \"might've\": \"might have\",\"mightn't\": \"might not\",\"mightn't've\": \"might not have\", \n",
    "                   \"must've\": \"must have\", \"mustn't\": \"must not\", \"mustn't've\": \"must not have\", \n",
    "                   \"needn't\": \"need not\", \"needn't've\": \"need not have\",\"o'clock\": \"of the clock\", \n",
    "                   \"oughtn't\": \"ought not\", \"oughtn't've\": \"ought not have\", \"shan't\": \"shall not\",\n",
    "                   \"sha'n't\": \"shall not\", \"shan't've\": \"shall not have\", \"she'd\": \"she would\", \n",
    "                   \"she'd've\": \"she would have\", \"she'll\": \"she will\", \"she'll've\": \"she will have\", \n",
    "                   \"she's\": \"she is\", \"should've\": \"should have\", \"shouldn't\": \"should not\", \n",
    "                   \"shouldn't've\": \"should not have\", \"so've\": \"so have\",\"so's\": \"so as\", \n",
    "                   \"this's\": \"this is\",\n",
    "                   \"that'd\": \"that would\", \"that'd've\": \"that would have\",\"that's\": \"that is\", \n",
    "                   \"there'd\": \"there would\", \"there'd've\": \"there would have\",\"there's\": \"there is\", \n",
    "                       \"here's\": \"here is\",\n",
    "                   \"they'd\": \"they would\", \"they'd've\": \"they would have\", \"they'll\": \"they will\", \n",
    "                   \"they'll've\": \"they will have\", \"they're\": \"they are\", \"they've\": \"they have\", \n",
    "                   \"to've\": \"to have\", \"wasn't\": \"was not\", \"we'd\": \"we would\", \n",
    "                   \"we'd've\": \"we would have\", \"we'll\": \"we will\", \"we'll've\": \"we will have\", \n",
    "                   \"we're\": \"we are\", \"we've\": \"we have\", \"weren't\": \"were not\", \n",
    "                   \"what'll\": \"what will\", \"what'll've\": \"what will have\", \"what're\": \"what are\", \n",
    "                   \"what's\": \"what is\", \"what've\": \"what have\", \"when's\": \"when is\", \n",
    "                   \"when've\": \"when have\", \"where'd\": \"where did\", \"where's\": \"where is\", \n",
    "                   \"where've\": \"where have\", \"who'll\": \"who will\", \"who'll've\": \"who will have\", \n",
    "                   \"who's\": \"who is\", \"who've\": \"who have\", \"why's\": \"why is\", \n",
    "                   \"why've\": \"why have\", \"will've\": \"will have\", \"won't\": \"will not\", \n",
    "                   \"won't've\": \"will not have\", \"would've\": \"would have\", \"wouldn't\": \"would not\", \n",
    "                   \"wouldn't've\": \"would not have\", \"y'all\": \"you all\", \"y'all'd\": \"you all would\",\n",
    "                   \"y'all'd've\": \"you all would have\",\"y'all're\": \"you all are\",\"y'all've\": \"you all have\", \"yo\" : \"you\",\n",
    "                   \"you'd\": \"you would\", \"you'd've\": \"you would have\", \"you'll\": \"you will\", \n",
    "                   \"you'll've\": \"you will have\", \"you're\": \"you are\", \"you've\": \"you have\", \"yu\" : \"you\" }\n",
    "pattern_neg = re.compile(r'\\b(' + '|'.join(negations_dic.keys()) + r')\\b')"
   ]
  },
  {
   "cell_type": "code",
   "execution_count": null,
   "metadata": {},
   "outputs": [],
   "source": []
  },
  {
   "cell_type": "code",
   "execution_count": 13,
   "metadata": {
    "ExecuteTime": {
     "end_time": "2020-03-06T10:34:47.400095Z",
     "start_time": "2020-03-06T10:34:47.397570Z"
    }
   },
   "outputs": [],
   "source": [
    "#(http(s)?:\\/\\/.)?(www\\.)?[-a-zA-Z0-9@:%._\\+~#=]{2,256}\\.[a-z]{2,6}\\b([-a-zA-Z0-9@:%_\\+.~#?&//=]*)"
   ]
  },
  {
   "cell_type": "code",
   "execution_count": 14,
   "metadata": {
    "ExecuteTime": {
     "end_time": "2020-03-06T10:34:47.703244Z",
     "start_time": "2020-03-06T10:34:47.698304Z"
    }
   },
   "outputs": [
    {
     "name": "stdout",
     "output_type": "stream",
     "text": [
      "replaced = hello world this replaced_url is a sentence replaced_url with replaced_url urls replaced_url\n"
     ]
    }
   ],
   "source": [
    "pattern_replace_url = re.compile(r'(http(s)?:\\/\\/.)?(www\\.)?[-a-zA-Z0-9@:%._\\+~#=]{2,256}\\.[a-z]{2,6}\\b([-a-zA-Z0-9@:%_\\+.~#?&//=]*)')\n",
    "old = 'hello world this https://www.gooogle.ch is a sentence www.google.com with google.ch urls http://www.bleuwin.ch'\n",
    "\n",
    "new_ip = 'replaced_url'\n",
    "\n",
    "replaced_url = re.sub(pattern_replace_url, new_ip, old)\n",
    "\n",
    "print('replaced = %s' %(replaced_url))"
   ]
  },
  {
   "cell_type": "code",
   "execution_count": 15,
   "metadata": {
    "ExecuteTime": {
     "end_time": "2020-03-06T10:34:48.374052Z",
     "start_time": "2020-03-06T10:34:48.371027Z"
    }
   },
   "outputs": [],
   "source": [
    "def replace_url(input_text):\n",
    "    replaced_url = re.sub(pattern_replace_url, new_ip, input_text)\n",
    "    return replaced_url"
   ]
  },
  {
   "cell_type": "code",
   "execution_count": 16,
   "metadata": {
    "ExecuteTime": {
     "end_time": "2020-03-06T10:34:49.010998Z",
     "start_time": "2020-03-06T10:34:49.007155Z"
    }
   },
   "outputs": [
    {
     "data": {
      "text/plain": [
       "'hello world this replaced_url is a sentence replaced_url with replaced_url urls replaced_url'"
      ]
     },
     "execution_count": 16,
     "metadata": {},
     "output_type": "execute_result"
    }
   ],
   "source": [
    "replace_url(old)"
   ]
  },
  {
   "cell_type": "code",
   "execution_count": null,
   "metadata": {},
   "outputs": [],
   "source": []
  },
  {
   "cell_type": "code",
   "execution_count": 17,
   "metadata": {
    "ExecuteTime": {
     "end_time": "2020-03-06T10:34:51.828537Z",
     "start_time": "2020-03-06T10:34:51.824463Z"
    }
   },
   "outputs": [],
   "source": [
    "def preprocess(input_text):\n",
    "    #print(\"raw text: \\n{} \\n\".format(input_text))\n",
    "    decoded = ftfy.fix_encoding(input_text)\n",
    "    #print(\"decoded: \\n{} \\n\".format(decoded))\n",
    "    #lower = decoded.lower()\n",
    "    #print(\"lower: \\n{} \\n\".format(lower))\n",
    "    #html_free = re.sub(pattern_combi, '', lower)\n",
    "    #url_free = re.sub(pattern_www, '', html_free)\n",
    "    #print(\"html and url free: \\n{}\\n\".format(url_free))\n",
    "    neg_handled = pattern_neg.sub(lambda x: negations_dic[x.group()], decoded)\n",
    "    #print(\"neg_handled: \\n{}\\n\".format(neg_handled))\n",
    "    demo = emoji.demojize(neg_handled)\n",
    "    #to do sonderzeichen remove\n",
    "    # remove special characters, numbers, punctuations aber erst nach rettung der emojies -> new function\n",
    "    #combi['tidy_tweet'] = combi['tidy_tweet'].str.replace(\"[^a-zA-Z#]\", \" \")\n",
    "    ## remove twitter handles (@user)\n",
    "    #combi['tidy_tweet'] = np.vectorize(remove_pattern)(combi['tweet'], \"@[\\w]*\")\n",
    "    return demo\n",
    "    #stripped = re.sub(combined_pat, '', bom_removed)\n",
    "    #stripped = re.sub(www_pat, '', stripped)\n",
    "    #lower_case = stripped.lower()\n",
    "    #neg_handled = neg_pattern.sub(lambda x: negations_dic[x.group()], lower_case)\n",
    "    #letters_only = re.sub(\"[^a-zA-Z]\", \" \", neg_handled)"
   ]
  },
  {
   "cell_type": "code",
   "execution_count": 18,
   "metadata": {
    "ExecuteTime": {
     "end_time": "2020-03-06T10:34:52.196815Z",
     "start_time": "2020-03-06T10:34:52.192386Z"
    }
   },
   "outputs": [],
   "source": [
    "def remove_signs(input_text):\n",
    "    letters_only = re.sub(\"[^a-zA-Z]\", \" \", input_text)\n",
    "    n_rt = re.sub(pattern_retweet, ' ', letters_only)\n",
    "    # During the letters_only process two lines above, it has created unnecessay white spaces,\n",
    "    # I will tokenize and join together to remove unneccessary white spaces\n",
    "    words = [x for x  in tok.tokenize(n_rt) if len(x) > 1]\n",
    "    #stemmed = [x for x  in stemmer.stem(words)]\n",
    "    #stemmed = [stemmer.stem(word) for word in words]\n",
    "    #print(stemmed)\n",
    "    #print(words)\n",
    "    return (\" \".join(words)).strip()"
   ]
  },
  {
   "cell_type": "code",
   "execution_count": 19,
   "metadata": {
    "ExecuteTime": {
     "end_time": "2020-03-06T10:34:52.763472Z",
     "start_time": "2020-03-06T10:34:52.760218Z"
    }
   },
   "outputs": [],
   "source": [
    "def lemm(input_text):\n",
    "    doc = nlp(input_text)\n",
    "    # Extract the lemma for each token and join\n",
    "    return(\" \".join([token.lemma_ for token in doc]))"
   ]
  },
  {
   "cell_type": "code",
   "execution_count": 20,
   "metadata": {
    "ExecuteTime": {
     "end_time": "2020-03-06T10:34:54.242374Z",
     "start_time": "2020-03-06T10:34:54.234408Z"
    }
   },
   "outputs": [],
   "source": [
    "def spacy_cleaner(input_text):\n",
    "    try:\n",
    "        decoded = unidecode.unidecode(codecs.decode(input_text, 'unicode_escape'))\n",
    "    except:\n",
    "        decoded = unidecode.unidecode(input_text)\n",
    "    apostrophe_handled = re.sub(\"’\", \"'\", decoded)\n",
    "    expanded = ' '.join([negations_dic[t] if t in negations_dic else t for t in apostrophe_handled.split(\" \")])\n",
    "    parsed = nlp(expanded)\n",
    "    final_tokens = []\n",
    "    for t in parsed:\n",
    "        if t.is_punct or t.is_space or t.like_num or t.like_url or str(t).startswith('@'):\n",
    "            pass\n",
    "        else:\n",
    "            if t.lemma_ == '-PRON-':\n",
    "                final_tokens.append(str(t))\n",
    "            else:\n",
    "                sc_removed = re.sub(\"[^a-zA-Z]\", '', str(t.lemma_))\n",
    "                if len(sc_removed) > 1:\n",
    "                    final_tokens.append(sc_removed)\n",
    "    joined = ' '.join(final_tokens)\n",
    "    spell_corrected = re.sub(r'(.)\\1+', r'\\1\\1', joined)\n",
    "    return spell_corrected"
   ]
  },
  {
   "cell_type": "code",
   "execution_count": 21,
   "metadata": {
    "ExecuteTime": {
     "end_time": "2020-03-06T10:34:55.834805Z",
     "start_time": "2020-03-06T10:34:55.829357Z"
    }
   },
   "outputs": [],
   "source": [
    "def remove_stopwords(input_text, stopword_list):\n",
    "    '''a function for removing the stopword'''\n",
    "    # removing the stop words and lowercasing the selected words\n",
    "    text = [word.lower() for word in input_text.split() if word.lower() not in stopword_list]\n",
    "    # joining the list of words with space separator\n",
    "    return \" \".join(text)"
   ]
  },
  {
   "cell_type": "code",
   "execution_count": null,
   "metadata": {
    "ExecuteTime": {
     "end_time": "2020-03-06T10:35:23.467160Z",
     "start_time": "2020-03-06T10:35:23.449211Z"
    }
   },
   "outputs": [],
   "source": [
    "df_tweets_all.sample(10)"
   ]
  },
  {
   "cell_type": "code",
   "execution_count": 26,
   "metadata": {
    "ExecuteTime": {
     "end_time": "2020-03-06T10:35:53.653660Z",
     "start_time": "2020-03-06T10:35:27.413575Z"
    }
   },
   "outputs": [],
   "source": [
    "df_tweets_all['tweet_tidy_1'] = df_tweets_all['tweet_no_html'].apply(preprocess)"
   ]
  },
  {
   "cell_type": "code",
   "execution_count": 31,
   "metadata": {
    "ExecuteTime": {
     "end_time": "2020-03-05T17:44:24.980586Z",
     "start_time": "2020-03-05T17:44:24.714979Z"
    }
   },
   "outputs": [],
   "source": [
    "df_tweets_all['tweet_hash'] = hashtag_extract(df_tweets_all['tweet_tidy_1'])"
   ]
  },
  {
   "cell_type": "code",
   "execution_count": 32,
   "metadata": {
    "ExecuteTime": {
     "end_time": "2020-03-05T17:44:44.618134Z",
     "start_time": "2020-03-05T17:44:25.010916Z"
    }
   },
   "outputs": [],
   "source": [
    "# extracting hashtags from non abusive/racist/sexist tweets\n",
    "#ht_regular = hashtag_extract(df_tweets_all['tweet_no_html'][df_tweets_all['label_all'] == 0])\n",
    "\n",
    "ht_regular = df_tweets_all['tweet_hash'][df_tweets_all['label_all'] == 0]\n",
    "ht_abusive = df_tweets_all['tweet_hash'][df_tweets_all['label_all'] == 1]\n",
    "\n",
    "\n",
    "\"\"\"\n",
    "# extracting hashtags from abusive/racist/sexist tweets\n",
    "ht_abusive = hashtag_extract(df_tweets_all['tweet_lower'][df_tweets_all['label_all'] == 1])\n",
    "ht_sexist = hashtag_extract(df_tweets_all['tweet_lower'][df_tweets_all['label_sex'] == 1])\n",
    "ht_racist = hashtag_extract(df_tweets_all['tweet_lower'][df_tweets_all['label_rac'] == 1])\n",
    "\"\"\"\n",
    "\n",
    "# unnesting list\n",
    "ht_regular = sum(ht_regular,[])\n",
    "ht_abusive = sum(ht_abusive,[])\n"
   ]
  },
  {
   "cell_type": "code",
   "execution_count": 33,
   "metadata": {
    "ExecuteTime": {
     "end_time": "2020-03-05T17:44:44.721904Z",
     "start_time": "2020-03-05T17:44:44.656197Z"
    }
   },
   "outputs": [
    {
     "data": {
      "text/plain": [
       "FreqDist({'mkr': 3975, 'love': 1604, 'positive': 880, 'smile': 580, 'healthy': 576, 'thankful': 497, 'fun': 462, 'life': 429, 'summer': 378, 'cute': 371, ...})"
      ]
     },
     "execution_count": 33,
     "metadata": {},
     "output_type": "execute_result"
    }
   ],
   "source": [
    "nltk.FreqDist(ht_regular)"
   ]
  },
  {
   "cell_type": "code",
   "execution_count": 34,
   "metadata": {
    "ExecuteTime": {
     "end_time": "2020-03-05T17:44:44.774239Z",
     "start_time": "2020-03-05T17:44:44.763103Z"
    }
   },
   "outputs": [
    {
     "data": {
      "text/plain": [
       "FreqDist({'mkr': 895, 'notsexist': 204, 'trump': 136, 'islam': 133, 'politics': 95, 'allahsoil': 92, 'feminazi': 91, 'libtard': 79, 'sjw': 76, 'liberal': 76, ...})"
      ]
     },
     "execution_count": 34,
     "metadata": {},
     "output_type": "execute_result"
    }
   ],
   "source": [
    "nltk.FreqDist(ht_abusive)"
   ]
  },
  {
   "cell_type": "code",
   "execution_count": 52,
   "metadata": {
    "ExecuteTime": {
     "end_time": "2020-02-06T16:01:37.391555Z",
     "start_time": "2020-02-06T16:01:36.895649Z"
    }
   },
   "outputs": [
    {
     "data": {
      "image/png": "[encoded data removed]",
      "text/plain": [
       "<Figure size 1152x360 with 1 Axes>"
      ]
     },
     "metadata": {},
     "output_type": "display_data"
    }
   ],
   "source": [
    "a = nltk.FreqDist(ht_regular)\n",
    "d = pd.DataFrame({'Hashtag': list(a.keys()),\n",
    "                  'Count': list(a.values())})\n",
    "# selecting top 10 most frequent hashtags     \n",
    "d = d.nlargest(columns=\"Count\", n = 10) \n",
    "plt.figure(figsize=(16,5))\n",
    "ax = sns.barplot(data=d, x= \"Hashtag\", y = \"Count\")\n",
    "ax.set(ylabel = 'Count')\n",
    "plt.title('Frequence distribution hashtag non abusive')\n",
    "plt.savefig('./diagrams/olid_freq_dist_ht_nonab.png', dpi=200)\n",
    "plt.show()"
   ]
  },
  {
   "cell_type": "code",
   "execution_count": 35,
   "metadata": {
    "ExecuteTime": {
     "end_time": "2020-03-05T17:44:56.523405Z",
     "start_time": "2020-03-05T17:44:56.070267Z"
    }
   },
   "outputs": [
    {
     "data": {
      "image/png": "[encoded data removed]",
      "text/plain": [
       "<Figure size 1152x360 with 1 Axes>"
      ]
     },
     "metadata": {
      "needs_background": "light"
     },
     "output_type": "display_data"
    }
   ],
   "source": [
    "a = nltk.FreqDist(ht_regular)\n",
    "d = pd.DataFrame({'Hashtag': list(a.keys()),\n",
    "                  'Count': list(a.values())})\n",
    "# selecting top 10 most frequent hashtags     \n",
    "d = d.nlargest(columns=\"Count\", n = 10) \n",
    "plt.figure(figsize=(16,5))\n",
    "ax = sns.barplot(data=d, x= \"Hashtag\", y = \"Count\")\n",
    "ax.set(ylabel = 'Count')\n",
    "plt.title('Frequence distribution hashtag non abusive')\n",
    "plt.savefig('./diagrams/all_data_freq_dist_ht_nonab.png', dpi=200)\n",
    "plt.show()"
   ]
  },
  {
   "cell_type": "code",
   "execution_count": 53,
   "metadata": {
    "ExecuteTime": {
     "end_time": "2020-02-06T16:01:37.755911Z",
     "start_time": "2020-02-06T16:01:37.437325Z"
    }
   },
   "outputs": [
    {
     "data": {
      "image/png": "[encoded data removed]",
      "text/plain": [
       "<Figure size 1152x360 with 1 Axes>"
      ]
     },
     "metadata": {},
     "output_type": "display_data"
    }
   ],
   "source": [
    "a = nltk.FreqDist(ht_abusive)\n",
    "d = pd.DataFrame({'Hashtag': list(a.keys()),\n",
    "                  'Count': list(a.values())})\n",
    "# selecting top 10 most frequent hashtags     \n",
    "d = d.nlargest(columns=\"Count\", n = 10) \n",
    "plt.figure(figsize=(16,5))\n",
    "ax = sns.barplot(data=d, x= \"Hashtag\", y = \"Count\")\n",
    "ax.set(ylabel = 'Count')\n",
    "plt.title('Frequence distribution hashtag abusive')\n",
    "plt.savefig('./diagrams/olid_freq_dist_ht_ab.png.png', dpi=200)\n",
    "plt.show()"
   ]
  },
  {
   "cell_type": "code",
   "execution_count": 36,
   "metadata": {
    "ExecuteTime": {
     "end_time": "2020-03-05T17:45:25.881775Z",
     "start_time": "2020-03-05T17:45:25.495005Z"
    }
   },
   "outputs": [
    {
     "data": {
      "image/png": "[encoded data removed]",
      "text/plain": [
       "<Figure size 1152x360 with 1 Axes>"
      ]
     },
     "metadata": {
      "needs_background": "light"
     },
     "output_type": "display_data"
    }
   ],
   "source": [
    "a = nltk.FreqDist(ht_abusive)\n",
    "d = pd.DataFrame({'Hashtag': list(a.keys()),\n",
    "                  'Count': list(a.values())})\n",
    "# selecting top 10 most frequent hashtags     \n",
    "d = d.nlargest(columns=\"Count\", n = 10) \n",
    "plt.figure(figsize=(16,5))\n",
    "ax = sns.barplot(data=d, x= \"Hashtag\", y = \"Count\")\n",
    "ax.set(ylabel = 'Count')\n",
    "plt.title('Frequence distribution hashtag abusive')\n",
    "plt.savefig('./diagrams/all_data_freq_dist_ht_ab.png.png', dpi=200)\n",
    "plt.show()"
   ]
  },
  {
   "cell_type": "code",
   "execution_count": 37,
   "metadata": {
    "ExecuteTime": {
     "end_time": "2020-03-05T17:45:41.850237Z",
     "start_time": "2020-03-05T17:45:41.846414Z"
    }
   },
   "outputs": [
    {
     "data": {
      "text/plain": [
       "101017"
      ]
     },
     "execution_count": 37,
     "metadata": {},
     "output_type": "execute_result"
    }
   ],
   "source": [
    "len(df_tweets_all)"
   ]
  },
  {
   "cell_type": "code",
   "execution_count": 38,
   "metadata": {
    "ExecuteTime": {
     "end_time": "2020-03-05T17:45:45.287905Z",
     "start_time": "2020-03-05T17:45:45.281220Z"
    }
   },
   "outputs": [
    {
     "data": {
      "text/plain": [
       "0    69738\n",
       "1    31279\n",
       "Name: label_all, dtype: int64"
      ]
     },
     "execution_count": 38,
     "metadata": {},
     "output_type": "execute_result"
    }
   ],
   "source": [
    "df_tweets_all['label_all'].value_counts()"
   ]
  },
  {
   "cell_type": "code",
   "execution_count": 28,
   "metadata": {
    "ExecuteTime": {
     "end_time": "2020-03-06T10:36:18.480403Z",
     "start_time": "2020-03-06T10:36:16.933280Z"
    }
   },
   "outputs": [
    {
     "data": {
      "text/plain": [
       "CountVectorizer(analyzer='word', binary=False, decode_error='strict',\n",
       "                dtype=<class 'numpy.int64'>, encoding='utf-8', input='content',\n",
       "                lowercase=True, max_df=1.0, max_features=None, min_df=1,\n",
       "                ngram_range=(1, 1), preprocessor=None, stop_words=None,\n",
       "                strip_accents=None, token_pattern='(?u)\\\\b\\\\w\\\\w+\\\\b',\n",
       "                tokenizer=None, vocabulary=None)"
      ]
     },
     "execution_count": 28,
     "metadata": {},
     "output_type": "execute_result"
    }
   ],
   "source": [
    "from sklearn.feature_extraction.text import CountVectorizer\n",
    "cvec = CountVectorizer(analyzer='word', ngram_range=(1, 1))\n",
    "cvec.fit(df_tweets_all.tweet_tidy_1)"
   ]
  },
  {
   "cell_type": "code",
   "execution_count": 57,
   "metadata": {
    "ExecuteTime": {
     "end_time": "2020-03-05T18:34:25.654014Z",
     "start_time": "2020-03-05T18:34:24.559210Z"
    }
   },
   "outputs": [
    {
     "data": {
      "text/plain": [
       "811045"
      ]
     },
     "execution_count": 57,
     "metadata": {},
     "output_type": "execute_result"
    }
   ],
   "source": [
    "len(cvec.get_feature_names())"
   ]
  },
  {
   "cell_type": "code",
   "execution_count": null,
   "metadata": {},
   "outputs": [],
   "source": []
  },
  {
   "cell_type": "code",
   "execution_count": 58,
   "metadata": {
    "ExecuteTime": {
     "end_time": "2020-03-05T18:35:20.721947Z",
     "start_time": "2020-03-05T18:34:28.459538Z"
    }
   },
   "outputs": [],
   "source": [
    "neg_doc_matrix = cvec.transform(df_tweets_all[df_tweets_all.label_all == 1].tweet)\n",
    "pos_doc_matrix = cvec.transform(df_tweets_all[df_tweets_all.label_all == 0].tweet)\n",
    "\n",
    "neg_tf = np.sum(neg_doc_matrix,axis=0)\n",
    "pos_tf = np.sum(pos_doc_matrix,axis=0)\n",
    "\n",
    "\n",
    "neg_all = np.squeeze(np.asarray(neg_tf))\n",
    "pos = np.squeeze(np.asarray(pos_tf))\n",
    "\n",
    "\n",
    "term_freq_df_all = pd.DataFrame([neg_all,pos],columns=cvec.get_feature_names()).transpose()"
   ]
  },
  {
   "cell_type": "code",
   "execution_count": 59,
   "metadata": {
    "ExecuteTime": {
     "end_time": "2020-03-05T18:35:20.934820Z",
     "start_time": "2020-03-05T18:35:20.791791Z"
    }
   },
   "outputs": [
    {
     "data": {
      "text/html": [
       "<div>\n",
       "<style scoped>\n",
       "    .dataframe tbody tr th:only-of-type {\n",
       "        vertical-align: middle;\n",
       "    }\n",
       "\n",
       "    .dataframe tbody tr th {\n",
       "        vertical-align: top;\n",
       "    }\n",
       "\n",
       "    .dataframe thead th {\n",
       "        text-align: right;\n",
       "    }\n",
       "</style>\n",
       "<table border=\"1\" class=\"dataframe\">\n",
       "  <thead>\n",
       "    <tr style=\"text-align: right;\">\n",
       "      <th></th>\n",
       "      <th>negative</th>\n",
       "      <th>positive</th>\n",
       "      <th>total</th>\n",
       "    </tr>\n",
       "  </thead>\n",
       "  <tbody>\n",
       "    <tr>\n",
       "      <th>user user user</th>\n",
       "      <td>179</td>\n",
       "      <td>1554</td>\n",
       "      <td>1733</td>\n",
       "    </tr>\n",
       "    <tr>\n",
       "      <th>not sexist but</th>\n",
       "      <td>595</td>\n",
       "      <td>25</td>\n",
       "      <td>620</td>\n",
       "    </tr>\n",
       "    <tr>\n",
       "      <th>am thankful for</th>\n",
       "      <td>0</td>\n",
       "      <td>429</td>\n",
       "      <td>429</td>\n",
       "    </tr>\n",
       "    <tr>\n",
       "      <th>all the time</th>\n",
       "      <td>27</td>\n",
       "      <td>385</td>\n",
       "      <td>412</td>\n",
       "    </tr>\n",
       "    <tr>\n",
       "      <th>with all the</th>\n",
       "      <td>16</td>\n",
       "      <td>341</td>\n",
       "      <td>357</td>\n",
       "    </tr>\n",
       "    <tr>\n",
       "      <th>i_am positive affirmation</th>\n",
       "      <td>0</td>\n",
       "      <td>352</td>\n",
       "      <td>352</td>\n",
       "    </tr>\n",
       "    <tr>\n",
       "      <th>kat and andre</th>\n",
       "      <td>35</td>\n",
       "      <td>304</td>\n",
       "      <td>339</td>\n",
       "    </tr>\n",
       "    <tr>\n",
       "      <th>the time in</th>\n",
       "      <td>0</td>\n",
       "      <td>326</td>\n",
       "      <td>326</td>\n",
       "    </tr>\n",
       "    <tr>\n",
       "      <th>take with all</th>\n",
       "      <td>0</td>\n",
       "      <td>325</td>\n",
       "      <td>325</td>\n",
       "    </tr>\n",
       "    <tr>\n",
       "      <th>model love take</th>\n",
       "      <td>0</td>\n",
       "      <td>325</td>\n",
       "      <td>325</td>\n",
       "    </tr>\n",
       "  </tbody>\n",
       "</table>\n",
       "</div>"
      ],
      "text/plain": [
       "                           negative  positive  total\n",
       "user user user                  179      1554   1733\n",
       "not sexist but                  595        25    620\n",
       "am thankful for                   0       429    429\n",
       "all the time                     27       385    412\n",
       "with all the                     16       341    357\n",
       "i_am positive affirmation         0       352    352\n",
       "kat and andre                    35       304    339\n",
       "the time in                       0       326    326\n",
       "take with all                     0       325    325\n",
       "model love take                   0       325    325"
      ]
     },
     "execution_count": 59,
     "metadata": {},
     "output_type": "execute_result"
    }
   ],
   "source": [
    "term_freq_df_all.columns = ['negative', 'positive']\n",
    "term_freq_df_all['total'] = term_freq_df_all['negative'] + term_freq_df_all['positive']\n",
    "term_freq_df_all.sort_values(by='total', ascending=False).iloc[:10]"
   ]
  },
  {
   "cell_type": "code",
   "execution_count": 60,
   "metadata": {
    "ExecuteTime": {
     "end_time": "2020-03-05T18:35:47.540261Z",
     "start_time": "2020-03-05T18:35:46.406400Z"
    }
   },
   "outputs": [
    {
     "data": {
      "text/plain": [
       "['00 187 00',\n",
       " '00 32 00',\n",
       " '00 48 00',\n",
       " '00 added 10',\n",
       " '00 added 30',\n",
       " '00 am for',\n",
       " '00 and 13',\n",
       " '00 and 50',\n",
       " '00 bamaman 10',\n",
       " '00 bet its',\n",
       " '00 bigguy 20',\n",
       " '00 blog silver',\n",
       " '00 bucks of',\n",
       " '00 burg mall',\n",
       " '00 cabal 88',\n",
       " '00 dh maryland',\n",
       " '00 dh na',\n",
       " '00 drc florida',\n",
       " '00 drops to',\n",
       " '00 flax 300',\n",
       " '00 florida88 10',\n",
       " '00 from vendor',\n",
       " '00 gauleiter 20',\n",
       " '00 get here',\n",
       " '00 hours would',\n",
       " '00 html attaboy',\n",
       " '00 html cop',\n",
       " '00 html executive',\n",
       " '00 iconoclast14 32',\n",
       " '00 jd hyde',\n",
       " '00 lawdog 25',\n",
       " '00 level after',\n",
       " '00 lives with',\n",
       " '00 mark from',\n",
       " '00 never knew',\n",
       " '00 new total',\n",
       " '00 octavian 20',\n",
       " '00 of the',\n",
       " '00 on profit',\n",
       " '00 on their',\n",
       " '00 on this',\n",
       " '00 online pure',\n",
       " '00 open to',\n",
       " '00 pm eastern',\n",
       " '00 pm to',\n",
       " '00 pm today',\n",
       " '00 psychological mark',\n",
       " '00 scipio americanus',\n",
       " '00 shopalyssas upsideofflorida',\n",
       " '00 suppo blog',\n",
       " '00 total so',\n",
       " '00 umberto 25',\n",
       " '00 upsideofflorida shopalyssas',\n",
       " '00 vonfreyja88 sent',\n",
       " '00 warnung wetter',\n",
       " '00 what did',\n",
       " '00 which do',\n",
       " '00 which ve',\n",
       " '00 whitelion 30',\n",
       " '000 000 bc',\n",
       " '000 000 euro',\n",
       " '000 000 people',\n",
       " '000 27 photooftheday',\n",
       " '000 agree raising_hands_medium',\n",
       " '000 and 70',\n",
       " '000 and it',\n",
       " '000 annually while',\n",
       " '000 are active',\n",
       " '000 are antis',\n",
       " '000 bed flat',\n",
       " '000 bihday bihday',\n",
       " '000 birds year',\n",
       " '000 bitches people',\n",
       " '000 buck is',\n",
       " '000 buck would',\n",
       " '000 buckshot 45lc',\n",
       " '000 civilians and',\n",
       " '000 copies of',\n",
       " '000 deaths confounded_face',\n",
       " '000 dinner dates',\n",
       " '000 dollars at',\n",
       " '000 elixer that',\n",
       " '000 euro cash',\n",
       " '000 face_with_tears_of_joy face_with_tears_of_joy',\n",
       " '000 feet are',\n",
       " '000 feet to',\n",
       " '000 florida jobs',\n",
       " '000 followers 22',\n",
       " '000 followers breh',\n",
       " '000 followers she',\n",
       " '000 followers thank',\n",
       " '000 followers you',\n",
       " '000 foot cliff',\n",
       " '000 for user',\n",
       " '000 foreign recruits',\n",
       " '000 from it',\n",
       " '000 has been',\n",
       " '000 house we',\n",
       " '000 http co',\n",
       " '000 immigrants 18',\n",
       " '000 immigrants total',\n",
       " '000 in 2007',\n",
       " '000 in southern',\n",
       " '000 in town',\n",
       " '000 inmates ever',\n",
       " '000 is 9000',\n",
       " '000 isis sites',\n",
       " '000 islamic attacks',\n",
       " '000 islamic terrorist',\n",
       " '000 jacket thinking_face',\n",
       " '000 let us',\n",
       " '000 light years',\n",
       " '000 mc turdos',\n",
       " '000 mkr http',\n",
       " '000 new stores',\n",
       " '000 neworleans 0000000000000',\n",
       " '000 nigerians in',\n",
       " '000 of men',\n",
       " '000 of retail',\n",
       " '000 off of',\n",
       " '000 people in',\n",
       " '000 people legally',\n",
       " '000 people or',\n",
       " '000 people the',\n",
       " '000 per year',\n",
       " '000 person poll',\n",
       " '000 pigs burn',\n",
       " '000 police say',\n",
       " '000 ppl became',\n",
       " '000 pregnant women',\n",
       " '000 private emails',\n",
       " '000 readers month',\n",
       " '000 rounds out',\n",
       " '000 soon we',\n",
       " '000 sq feet',\n",
       " '000 standard velocity',\n",
       " '000 stores are',\n",
       " '000 subies yay',\n",
       " '000 teams when',\n",
       " '000 terrorist attacks',\n",
       " '000 terrorists in',\n",
       " '000 that closed',\n",
       " '000 that have',\n",
       " '000 the fade',\n",
       " '000 tickets to',\n",
       " '000 times in',\n",
       " '000 times mkr',\n",
       " '000 to 125',\n",
       " '000 to 50',\n",
       " '000 tweets still',\n",
       " '000 tweets with',\n",
       " '000 views grateful',\n",
       " '000 views so',\n",
       " '000 vs buck',\n",
       " '000 ways like',\n",
       " '000 wish work',\n",
       " '000 words now',\n",
       " '000 worth of',\n",
       " '000 would be',\n",
       " '000 years ago',\n",
       " '000 years behind',\n",
       " '000 years ij',\n",
       " '000 yr old',\n",
       " '000 yrs destroyed',\n",
       " '0000000000000 fuckbyrd whone',\n",
       " '000001 polluting niger',\n",
       " '001 0627 received',\n",
       " '001 misdemeanor count',\n",
       " '003 http co',\n",
       " '005 02 02',\n",
       " '007 http co',\n",
       " '007beardownjedi the afl',\n",
       " '007hertzrumble http co',\n",
       " '007m_h lilduval damn',\n",
       " '0099 approved and',\n",
       " '00_jackie darknight420 allahthefairy',\n",
       " '00_jackie no wanna',\n",
       " '00am not tonight',\n",
       " '00am user delayed',\n",
       " '00pm proof on',\n",
       " '00sexilexi00 freeze bitch',\n",
       " '00sexilexi00 http co',\n",
       " '00sexilexi00 nigga wtf',\n",
       " '00sexilexi00 socass_ sang',\n",
       " '00sexilexi00 socass_ yasss',\n",
       " '00sexilexi00 swiggety swag',\n",
       " '00sexilexi00 you is',\n",
       " '00simmerforlife am not',\n",
       " '01 14 06',\n",
       " '01 15 19',\n",
       " '01 18 06',\n",
       " '01 2015 peshmerga',\n",
       " '01 43hr which',\n",
       " '01 armenia pdf',\n",
       " '01 for 49',\n",
       " '01 for 79',\n",
       " '01 gb read',\n",
       " '01 is from',\n",
       " '01 pm moblie',\n",
       " '01 read more',\n",
       " '01 shopalyssas upsideofflorida',\n",
       " '01 the elite',\n",
       " '01 yankee jim',\n",
       " '0115 8599968 revamp',\n",
       " '0124jessi haha lml',\n",
       " '0124jessi lml se',\n",
       " '0147 dead pig',\n",
       " '0161 manny on',\n",
       " '0179 0333 1040',\n",
       " '01takesthelead no bitch',\n",
       " '01vjzqnahh its_gabbyella lyssa_rae16',\n",
       " '02 02 htmhttp',\n",
       " '02 05 2010',\n",
       " '02 06 movies',\n",
       " '02 11 moscow',\n",
       " '02 2015 http',\n",
       " '02 academy night',\n",
       " '02 animation anime',\n",
       " '02 charcoal 7s',\n",
       " '02 feb 1100',\n",
       " '02 htmhttp thezebraproject',\n",
       " '02 http co',\n",
       " '02 jour sey',\n",
       " '02 rt bropha',\n",
       " '02 sea doo',\n",
       " '02 update social',\n",
       " '0221 24 http',\n",
       " '0227 0441 0606',\n",
       " '022ssmwp pennsylvania https',\n",
       " '0249 0290 0745',\n",
       " '0254 304 48',\n",
       " '0266808099 byronbay byronnails',\n",
       " '0290 0745 compare',\n",
       " '02jbywfj2f top kek',\n",
       " '03 03 ampaign',\n",
       " '03 ampaign buffer',\n",
       " '03 impression on',\n",
       " '03 update social',\n",
       " '0300 problem is',\n",
       " '031206nn2 htmlwillieatkinshttp www',\n",
       " '033 386 prime',\n",
       " '0333 1040 1034',\n",
       " '0345 872 8630',\n",
       " '0375764851 pm if',\n",
       " '0375764852 isbn 13',\n",
       " '039 christmas in',\n",
       " '039 donate blood',\n",
       " '039 happy hour',\n",
       " '039 no one',\n",
       " '039 play video',\n",
       " '03bocuhbjj coon leon',\n",
       " '03s8desezq should go',\n",
       " '04 06 2014',\n",
       " '04 other race',\n",
       " '04 promo happy',\n",
       " '041809 article by',\n",
       " '0423 0929 0558',\n",
       " '0441 0606 0249',\n",
       " '0450 on fresh',\n",
       " '04pm utc so',\n",
       " '05 11 2010',\n",
       " '05 16 all',\n",
       " '05 2016 happy',\n",
       " '05 examples aside',\n",
       " '05 gabourey sidibe',\n",
       " '05 million people',\n",
       " '05 million why',\n",
       " '05 of rain',\n",
       " '05 sb getting',\n",
       " '050802 html my',\n",
       " '05235fd083ad408 hick yes',\n",
       " '0547 6323 5532',\n",
       " '0558 0179 0333',\n",
       " '05pm chucking it',\n",
       " '05professor bet he',\n",
       " '05professor charlie sheen',\n",
       " '05professor columbus found',\n",
       " '05professor idontbekaren kelseysocrazy',\n",
       " '05professor that what',\n",
       " '06 05 2016',\n",
       " '06 06 16',\n",
       " '06 09 bihday',\n",
       " '06 11 16',\n",
       " '06 11 55',\n",
       " '06 12 2016',\n",
       " '06 12 35',\n",
       " '06 12 in',\n",
       " '06 13 01',\n",
       " '06 13 20',\n",
       " '06 14 00',\n",
       " '06 14 28',\n",
       " '06 14 30',\n",
       " '06 15 00',\n",
       " '06 15 37',\n",
       " '06 16 00',\n",
       " '06 16 30',\n",
       " '06 16 47',\n",
       " '06 16 at',\n",
       " '06 16 cute',\n",
       " '06 16 for',\n",
       " '06 16 theduchessofcambridge',\n",
       " '06 17 30',\n",
       " '06 18 12',\n",
       " '06 18 26',\n",
       " '06 19 00',\n",
       " '06 19 08',\n",
       " '06 20 00',\n",
       " '06 20 2016',\n",
       " '06 20 30',\n",
       " '06 2014 text',\n",
       " '06 2016 pizza',\n",
       " '06 2016 throwback',\n",
       " '06 2016 tomorrow',\n",
       " '06 21 01',\n",
       " '06 22 30',\n",
       " '06 24 on',\n",
       " '06 24 user',\n",
       " '06 anyone interested',\n",
       " '06 berli gioese',\n",
       " '06 left in',\n",
       " '06 movies 06shor',\n",
       " '06 update social',\n",
       " '06 youtube chantcd',\n",
       " '0606 0249 0290',\n",
       " '0606 malaysian 18',\n",
       " '0608 wed なつきちゃん',\n",
       " '0609 tokyodisneyland easter',\n",
       " '0610 bihdaypresent thankyou',\n",
       " '0612 bihday mayukoday',\n",
       " '0612 breakfast tangerine',\n",
       " '0612 thanks enjoy',\n",
       " '0613 is my',\n",
       " '0616 my bihday',\n",
       " '0618 love friend',\n",
       " '0618 saturday 7months',\n",
       " '0619 sunday fathersday',\n",
       " '0620 purple_heart purple_heart',\n",
       " '0622 28th anniversary',\n",
       " '0627 received 14',\n",
       " '06e77bgwbx fr lulwhore',\n",
       " '06jank patrickosgood all',\n",
       " '06jank patrickosgood blah',\n",
       " '06jank patrickosgood erdogan',\n",
       " '06jank patrickosgood give',\n",
       " '06jank patrickosgood he',\n",
       " '06jank patrickosgood stupid',\n",
       " '06jank patrickosgood where',\n",
       " '06shor htmlyoutube newboyhttp',\n",
       " '07 109826 shtmlhttp',\n",
       " '07 109855 shtmlhttp',\n",
       " '07 am bout',\n",
       " '07 il kidnap',\n",
       " '07 reverie on',\n",
       " '071301714 html uzodinma',\n",
       " '0745 compare the',\n",
       " '07788427999 for enquir',\n",
       " '07cannon divamonroe2uhoe you',\n",
       " '07cannon fuck you',\n",
       " '07cannon maaan most',\n",
       " '07cannon quote and',\n",
       " '07cannon rosegoldracks quote',\n",
       " '07cannon this new',\n",
       " '07cannon two hoes',\n",
       " '08 06 13',\n",
       " '08 06 15',\n",
       " '08 06 16',\n",
       " '08 06 18',\n",
       " '08 06 20',\n",
       " '08 13 06',\n",
       " '08 24 1950',\n",
       " '08 and 12',\n",
       " '08 index htmlhttp',\n",
       " '08 update social',\n",
       " '0830 blog silver',\n",
       " '085 2455043 between',\n",
       " '0857 come one',\n",
       " '0882 1515 0547',\n",
       " '09 06 2016',\n",
       " '09 13 docx',\n",
       " '09 13 pdfmswordfile',\n",
       " '09 24 us',\n",
       " '09 bihday natalie',\n",
       " '09 february 2016',\n",
       " '09 for the',\n",
       " '09 native hawaiian',\n",
       " '09 that years',\n",
       " '0909 0882 1515',\n",
       " '0929 0558 0179',\n",
       " '095m below forecasts',\n",
       " '0_facingreality finna punch',\n",
       " '0_oitscrunch def whiny',\n",
       " '0beythelau huntermoore bitch',\n",
       " '0beythelau huntermoore that',\n",
       " '0beyyourmaster real lil',\n",
       " '0beyyourmaster smiling_cat_face_with_heart eyes',\n",
       " '0beyyourmaster traybonmartin says',\n",
       " '0biwankobe zielonkoo peterbyers24',\n",
       " '0cclus think women',\n",
       " '0ddment could fuck',\n",
       " '0ddtoddler when people',\n",
       " '0g sugar cal',\n",
       " '0hallis0n bitch caught',\n",
       " '0hallis0n this is',\n",
       " '0k in may',\n",
       " '0kkaren it looks',\n",
       " '0ljpk elated search',\n",
       " '0lrablmhb2 http co',\n",
       " '0panscimew this bitch',\n",
       " '0qc5mz3pdl weary_face face_with_tears_of_joy',\n",
       " '0qcfpycw5p when was',\n",
       " '0rwellian labor islam',\n",
       " '0shares reprint subs',\n",
       " '0tolerancemovie nattaway2 f4f',\n",
       " '0wfal3svwm http co',\n",
       " '0xabad1dea bm is',\n",
       " '0xabad1dea bug closed',\n",
       " '0xabad1dea but amazon',\n",
       " '0xabad1dea certain threads',\n",
       " '0xabad1dea hard to',\n",
       " '0xabad1dea hate everyone',\n",
       " '0xabad1dea http co',\n",
       " '0xabad1dea it is',\n",
       " '0xabad1dea kelseytheodore2 have',\n",
       " '0xabad1dea kelseytheodore2 twitter',\n",
       " '0xabad1dea oh my',\n",
       " '0xabad1dea people love',\n",
       " '0xabad1dea sure he',\n",
       " '0xabad1dea the swap',\n",
       " '0xabad1dea the video',\n",
       " '0xabad1dea these are',\n",
       " '0xabad1dea unless you',\n",
       " '0xabad1dea was lucky',\n",
       " '0xabad1dea which is',\n",
       " '0xabad1dea you are',\n",
       " '0xjared m_m_myers zython86',\n",
       " '0xjared zython86 m_m_myers',\n",
       " '0zsu3zqixd she slammed',\n",
       " '10 00 187',\n",
       " '10 00 dh',\n",
       " '10 00 gauleiter',\n",
       " '10 00 iconoclast14',\n",
       " '10 00 scipio',\n",
       " '10 00 total',\n",
       " '10 000 deaths',\n",
       " '10 000 dinner',\n",
       " '10 000 nigerians',\n",
       " '10 000 of',\n",
       " '10 000 teams',\n",
       " '10 000 the',\n",
       " '10 000 to',\n",
       " '10 000 ways',\n",
       " '10 01 yankee',\n",
       " '10 0375764852 isbn',\n",
       " '10 06 16',\n",
       " '10 064 ft',\n",
       " '10 10 10',\n",
       " '10 10 and',\n",
       " '10 10 mkr',\n",
       " '10 10 times',\n",
       " '10 10 to',\n",
       " '10 1007 s00439',\n",
       " '10 11 vm',\n",
       " '10 13 story',\n",
       " '10 15 11',\n",
       " '10 15 year',\n",
       " '10 15freeway interchange',\n",
       " '10 16 healthy',\n",
       " '10 17 confident',\n",
       " '10 17 summer',\n",
       " '10 18 of',\n",
       " '10 1903 douglass',\n",
       " '10 20 artists',\n",
       " '10 2014 bangerztour',\n",
       " '10 23 12',\n",
       " '10 24 2010',\n",
       " '10 27 million',\n",
       " '10 28 16',\n",
       " '10 28 http',\n",
       " '10 29 10',\n",
       " '10 2pm 120',\n",
       " '10 30 am',\n",
       " '10 30 feel',\n",
       " '10 30 my',\n",
       " '10 30pm at',\n",
       " '10 41 pm',\n",
       " '10 44 am',\n",
       " '10 59am june',\n",
       " '10 all the',\n",
       " '10 all type',\n",
       " '10 allot of',\n",
       " '10 am actually',\n",
       " '10 am set',\n",
       " '10 an acceptable',\n",
       " '10 and 12',\n",
       " '10 and 15',\n",
       " '10 and 20',\n",
       " '10 and have',\n",
       " '10 and no',\n",
       " '10 and none',\n",
       " '10 and wheat',\n",
       " '10 as eating',\n",
       " '10 as you',\n",
       " '10 awesome lovewine',\n",
       " '10 barely human',\n",
       " '10 been trash',\n",
       " '10 best adam',\n",
       " '10 bestbuyfind goodfind',\n",
       " '10 beta version',\n",
       " '10 birds your',\n",
       " '10 bitch gonna',\n",
       " '10 black kids',\n",
       " '10 black london',\n",
       " '10 boa you',\n",
       " '10 body counts',\n",
       " '10 breaking11 suck',\n",
       " '10 brownie points',\n",
       " '10 but most',\n",
       " '10 but we',\n",
       " '10 butter electric',\n",
       " '10 car 4wd',\n",
       " '10 cents more',\n",
       " '10 cherry 12',\n",
       " '10 cocktails 7pm',\n",
       " '10 countries in',\n",
       " '10 dates then',\n",
       " '10 days before',\n",
       " '10 days late',\n",
       " '10 days off',\n",
       " '10 days sharkweek',\n",
       " '10 days till',\n",
       " '10 days to',\n",
       " '10 days using',\n",
       " '10 days vacation',\n",
       " '10 dec police',\n",
       " '10 dollars lol',\n",
       " '10 episodes each',\n",
       " '10 exact years',\n",
       " '10 extra trees',\n",
       " '10 fat dickless',\n",
       " '10 feet from',\n",
       " '10 feet in',\n",
       " '10 fields to',\n",
       " '10 filters and',\n",
       " '10 fml still',\n",
       " '10 food items',\n",
       " '10 foot chicken',\n",
       " '10 for the',\n",
       " '10 for your',\n",
       " '10 from crowd',\n",
       " '10 from previous',\n",
       " '10 games tampa',\n",
       " '10 gb of',\n",
       " '10 grade sad',\n",
       " '10 gram joint',\n",
       " '10 grand to',\n",
       " '10 guns ablazing',\n",
       " '10 habits of',\n",
       " '10 he has',\n",
       " '10 here mkr',\n",
       " '10 hoes kiss',\n",
       " '10 hour video',\n",
       " '10 hours of',\n",
       " '10 hours till',\n",
       " '10 how ghetto',\n",
       " '10 how many',\n",
       " '10 hrs karachi',\n",
       " '10 hrs user',\n",
       " '10 http co',\n",
       " '10 if she',\n",
       " '10 in 14',\n",
       " '10 inc foodlaterlife',\n",
       " '10 is 300',\n",
       " '10 is coming',\n",
       " '10 it is',\n",
       " '10 items in',\n",
       " '10 keys tell',\n",
       " '10 kids who',\n",
       " '10 km from',\n",
       " '10 lay on',\n",
       " '10 live births',\n",
       " '10 lol am',\n",
       " '10 male comedians',\n",
       " '10 mandingos for',\n",
       " '10 message things',\n",
       " '10 mil naira',\n",
       " '10 miles to',\n",
       " '10 miles west',\n",
       " '10 million naira',\n",
       " '10 million views',\n",
       " '10 millionth visitor',\n",
       " '10 mind blowingly',\n",
       " '10 mins ago',\n",
       " '10 mins cantwait',\n",
       " '10 mins later',\n",
       " '10 mins of',\n",
       " '10 mins to',\n",
       " '10 minutes around',\n",
       " '10 minutes my',\n",
       " '10 minutes so',\n",
       " '10 minutes you',\n",
       " '10 mkr playingthegame',\n",
       " '10 moment of',\n",
       " '10 month highs',\n",
       " '10 month to',\n",
       " '10 months for',\n",
       " '10 months jump',\n",
       " '10 more daesh',\n",
       " '10 more days',\n",
       " '10 mygirl inlove',\n",
       " '10 natty daddy',\n",
       " '10 never saw',\n",
       " '10 new double',\n",
       " '10 niggas had',\n",
       " '10 no dark',\n",
       " '10 not the',\n",
       " '10 now you',\n",
       " '10 odd years',\n",
       " '10 of the',\n",
       " '10 of them',\n",
       " '10 of those',\n",
       " '10 of you',\n",
       " '10 off premium',\n",
       " '10 on the',\n",
       " '10 on their',\n",
       " '10 or 15',\n",
       " '10 or better',\n",
       " '10 or more',\n",
       " '10 or so',\n",
       " '10 or something',\n",
       " '10 other white',\n",
       " '10 ounce bottles',\n",
       " '10 pay gbp',\n",
       " '10 paytm cashback',\n",
       " '10 percent what',\n",
       " '10 pics you',\n",
       " '10 piece crib',\n",
       " '10 poetry world',\n",
       " '10 point guard',\n",
       " '10 point so',\n",
       " '10 points for',\n",
       " '10 pop lol',\n",
       " '10 porn video',\n",
       " '10 ppl goin',\n",
       " '10 premium staer',\n",
       " '10 progress confident',\n",
       " '10 proven habits',\n",
       " '10 put in',\n",
       " '10 raised_hand face_with_tears_of_joy',\n",
       " '10 released before',\n",
       " '10 remington magnum',\n",
       " '10 restaurants in',\n",
       " '10 right there',\n",
       " '10 roxe hogaye',\n",
       " '10 rt paradoxicalmike',\n",
       " '10 rt taxstone',\n",
       " '10 rules for',\n",
       " '10 sandwich ca',\n",
       " '10 science backed',\n",
       " '10 second soundbite',\n",
       " '10 seconds and',\n",
       " '10 seconds before',\n",
       " '10 seconds to',\n",
       " '10 secrets to',\n",
       " '10 sex positions',\n",
       " '10 she hoe',\n",
       " '10 silences taliban',\n",
       " '10 simple tips',\n",
       " '10 smiling_cat_face_with_heart eyes',\n",
       " '10 special years',\n",
       " '10 standup 20',\n",
       " '10 symptoms of',\n",
       " '10 taking walk',\n",
       " '10 texts from',\n",
       " '10 there are',\n",
       " '10 they is',\n",
       " '10 they will',\n",
       " '10 things people',\n",
       " '10 things that',\n",
       " '10 things to',\n",
       " '10 this bitch',\n",
       " '10 this plus',\n",
       " '10 times in',\n",
       " '10 times less',\n",
       " '10 times out',\n",
       " '10 times smiling_face_with_heart',\n",
       " '10 tips for',\n",
       " '10 to be',\n",
       " '10 to call',\n",
       " '10 to get',\n",
       " '10 to make',\n",
       " '10 to odds',\n",
       " '10 to zip',\n",
       " '10 under in',\n",
       " '10 under the',\n",
       " '10 unless you',\n",
       " '10 updates via',\n",
       " '10 upside down_face',\n",
       " '10 via user',\n",
       " '10 ways to',\n",
       " '10 weeks days',\n",
       " '10 weeks dliming35',\n",
       " '10 weeks until',\n",
       " '10 went to',\n",
       " '10 what happens',\n",
       " '10 wickets in',\n",
       " '10 winking_face_with_tongue winking_face_with_tongue',\n",
       " '10 with charlie',\n",
       " '10 with inch',\n",
       " '10 women cannot',\n",
       " '10 words from',\n",
       " '10 wwdc2016 user',\n",
       " '10 yard line',\n",
       " '10 year engineer',\n",
       " '10 year note',\n",
       " '10 year old',\n",
       " '10 year olds',\n",
       " '10 years ago',\n",
       " '10 years do',\n",
       " '10 years http',\n",
       " '10 years not',\n",
       " '10 years of',\n",
       " '10 years old',\n",
       " '10 years peaceandlove',\n",
       " '10 years pulse',\n",
       " '10 years to',\n",
       " '10 years will',\n",
       " '10 years you',\n",
       " '10 you have',\n",
       " '10 you should',\n",
       " '10 yr anniversary',\n",
       " '10 yr old',\n",
       " '10 yrs ago',\n",
       " '10 yrs lmfao',\n",
       " '10 yrs you',\n",
       " '100 00 octavian',\n",
       " '100 00 on',\n",
       " '100 000 000',\n",
       " '100 000 agree',\n",
       " '100 000 dollars',\n",
       " '100 000 has',\n",
       " '100 000 that',\n",
       " '100 000 worth',\n",
       " '100 000 years',\n",
       " '100 100 white',\n",
       " '100 1000 on',\n",
       " '100 200 demonstrators',\n",
       " '100 350 and',\n",
       " '100 about dudes',\n",
       " '100 about russia',\n",
       " '100 acceptable bro',\n",
       " '100 accurate but',\n",
       " '100 accurate just',\n",
       " '100 acre wood',\n",
       " '100 already mugtheduck',\n",
       " '100 amazing health',\n",
       " '100 answers will',\n",
       " '100 beauty enjoy',\n",
       " '100 because of',\n",
       " '100 best ever',\n",
       " '100 better now',\n",
       " '100 bid to',\n",
       " '100 billion and',\n",
       " '100 bitches unfollowed',\n",
       " '100 black 100',\n",
       " '100 black with',\n",
       " '100 bricks now',\n",
       " '100 bucks will',\n",
       " '100 but the',\n",
       " '100 by keeping',\n",
       " '100 cash willing',\n",
       " '100 certain its',\n",
       " '100 certain this',\n",
       " '100 chance you',\n",
       " '100 cm 1000',\n",
       " '100 cranberry with',\n",
       " '100 crowd funded',\n",
       " '100 daesh lies',\n",
       " '100 days left',\n",
       " '100 days til',\n",
       " '100 do not',\n",
       " '100 equal rights',\n",
       " '100 fake get',\n",
       " '100 feeling the',\n",
       " '100 female characters',\n",
       " '100 followers on',\n",
       " '100 followers today',\n",
       " '100 fun end',\n",
       " '100 grads already',\n",
       " '100 gratulation successful',\n",
       " '100 guarantee of',\n",
       " '100 ho smh',\n",
       " '100 hoes real',\n",
       " '100 hopefully soon',\n",
       " '100 http co',\n",
       " '100 hungarian anyone',\n",
       " '100 ignorant of',\n",
       " '100 incidence of',\n",
       " '100 intervention possible',\n",
       " '100 irish all',\n",
       " '100 is going',\n",
       " '100 islam terrorist',\n",
       " '100 islamic terrorist',\n",
       " '100 islamic terrorists',\n",
       " '100 islamist terrorists',\n",
       " '100 it had',\n",
       " '100 jtidyman themitch182',\n",
       " '100 judging 56',\n",
       " '100 juice pineapple',\n",
       " '100 large terrorist',\n",
       " '100 lbs lost',\n",
       " '100 led fairy',\n",
       " '100 lgbt people',\n",
       " '100 liar you',\n",
       " '100 lie from',\n",
       " '100 likes and',\n",
       " '100 me right',\n",
       " '100 members so',\n",
       " '100 mile dead',\n",
       " '100 mile free',\n",
       " '100 mile wide',\n",
       " '100 miles away',\n",
       " '100 million dollars',\n",
       " '100 million figure',\n",
       " '100 million to',\n",
       " '100 millitants killed',\n",
       " '100 month insurance',\n",
       " '100 muslim terrorist',\n",
       " '100 my beautiful',\n",
       " '100 nd when',\n",
       " '100 negroid killing',\n",
       " '100 new followers',\n",
       " '100 niggas to',\n",
       " '100 night out',\n",
       " '100 no naturalized',\n",
       " '100 not the',\n",
       " '100 nv leaflets',\n",
       " '100 of jews',\n",
       " '100 of our',\n",
       " '100 of people',\n",
       " '100 of the',\n",
       " '100 of them',\n",
       " '100 of white',\n",
       " '100 of you',\n",
       " '100 operating terrorist',\n",
       " '100 opinion right',\n",
       " '100 people were',\n",
       " '100 percent negro',\n",
       " '100 percent that',\n",
       " '100 pink 900',\n",
       " '100 points on',\n",
       " '100 posto belac',\n",
       " '100 pounds of',\n",
       " '100 precincts counted',\n",
       " '100 quite few',\n",
       " '100 real its',\n",
       " '100 real quick',\n",
       " '100 relationships but',\n",
       " '100 retweets discouraged',\n",
       " '100 rounds it',\n",
       " '100 runs and',\n",
       " '100 saoirse ronan',\n",
       " '100 she turn',\n",
       " '100 shit cuff',\n",
       " '100 steal that',\n",
       " '100 steps forward',\n",
       " '100 still is',\n",
       " '100 stop being',\n",
       " '100 stupid people',\n",
       " '100 submissive bottom',\n",
       " '100 subs humans',\n",
       " '100 sure the',\n",
       " '100 sure where',\n",
       " '100 tea fall',\n",
       " '100 terroris groups',\n",
       " '100 terrorist groups',\n",
       " '100 thank you',\n",
       " '100 things to',\n",
       " '100 things work',\n",
       " '100 thousand miles',\n",
       " '100 times day',\n",
       " '100 times more',\n",
       " '100 times that',\n",
       " '100 true qanda',\n",
       " '100 twitter mark',\n",
       " '100 typical of',\n",
       " '100 unaware that',\n",
       " '100 up to',\n",
       " '100 videos when',\n",
       " '100 week sma',\n",
       " '100 white 100',\n",
       " '100 white and',\n",
       " '100 white except',\n",
       " '100 white folks',\n",
       " '100 white however',\n",
       " '100 white power',\n",
       " '100 will be',\n",
       " '100 with her',\n",
       " '100 with this',\n",
       " '100 wrong http',\n",
       " '100 yards or',\n",
       " '100 years ago',\n",
       " '100 years since',\n",
       " '100 years to',\n",
       " '100 years virtually',\n",
       " '100 you dirty',\n",
       " '100 you have',\n",
       " '100 yr in',\n",
       " '1000 ad called',\n",
       " '1000 camera and',\n",
       " '1000 cc aerox',\n",
       " '1000 daesh for',\n",
       " '1000 followers party_popper',\n",
       " '1000 followers will',\n",
       " '1000 mm 25',\n",
       " '1000 of israely',\n",
       " '1000 on things',\n",
       " '1000 pictures with',\n",
       " '1000 plays with',\n",
       " '1000 princess_medium light_skin_tone',\n",
       " '1000 rts and',\n",
       " '1000 stairs friends',\n",
       " '1000 sunscreen mkr',\n",
       " '1000 terrorist attacks',\n",
       " '1000 times the',\n",
       " '1000 user pornstars',\n",
       " '1000 westpac blog',\n",
       " '1000 years ago',\n",
       " '1000 years behind',\n",
       " '1000 years islam',\n",
       " '1000 years mohammed',\n",
       " '1000 years muslims',\n",
       " '1000 years of',\n",
       " '1000 yr in',\n",
       " '100000 per year',\n",
       " '100000 you are',\n",
       " '10000x scrutiny when',\n",
       " '10003 education winesolveseverything',\n",
       " '10003 today bhagmojobhag',\n",
       " '100046729 _beautifulkeezy 100046729',\n",
       " '100046729 _beautifulkeezy let',\n",
       " '100046729 _beautifulkeezy lmfao',\n",
       " '100046729 _beautifulkeezy maxnostalgia',\n",
       " '100046729 _beautifulkeezy wassup',\n",
       " '100046729 _beautifulkeezy where',\n",
       " '100046729 _getmeauxmoney nobody',\n",
       " '100046729 bitch face_with_tears_of_joy',\n",
       " '100046729 bitches so',\n",
       " '100046729 fuck you',\n",
       " '100046729 grow up',\n",
       " '100046729 leelucas_ bitch',\n",
       " '100046729 leelucas_ prettykells',\n",
       " '100046729 lifeof_brandon bitch',\n",
       " '100046729 lol be',\n",
       " '100046729 lol what',\n",
       " '100046729 man bitch',\n",
       " '100046729 maxnostalgia http',\n",
       " '100046729 mo bitch',\n",
       " '100046729 need bitch',\n",
       " '100046729 oomf lying',\n",
       " '100046729 prettykells lol',\n",
       " '100046729 small ass',\n",
       " '100046729 that fucked',\n",
       " '100046729 they cannot',\n",
       " '100046729 this bitch',\n",
       " '100046729 we will',\n",
       " '100046729 wonder if',\n",
       " '100046729 wtf bitch',\n",
       " '100046729 you been',\n",
       " '100046729 you need',\n",
       " '10007 love happy',\n",
       " '1000ccm youtube yep',\n",
       " '1000gramsbee hate ah',\n",
       " '1000s have been',\n",
       " '1000th follower will',\n",
       " '1000th photo just',\n",
       " '1000x cuter than',\n",
       " '1000x wud blackonblack',\n",
       " '10014 library it',\n",
       " '100209_pearcy_massacre htmhttp www',\n",
       " '10021 love education',\n",
       " '10025 love food',\n",
       " '10040 education freshers',\n",
       " '1007 s00439 001',\n",
       " '100band_rell all yaw',\n",
       " '100d the way',\n",
       " '100d_ real shiit',\n",
       " '100daysofcode today and',\n",
       " '100daysofpigpaintings the100dayproject jumpingforjoy',\n",
       " '100daysoftea adamsel tea',\n",
       " '100faces gaming videogames',\n",
       " '100gram sugar delight',\n",
       " '100granhman iammrechols almartinez32',\n",
       " '100granhman it is',\n",
       " '100granhman it okay',\n",
       " '100happydays day40 payplanning',\n",
       " '100happysongs all written',\n",
       " '100k donations by',\n",
       " '100k followers by',\n",
       " '100k for booking',\n",
       " '100k for calling',\n",
       " ...]"
      ]
     },
     "execution_count": 60,
     "metadata": {},
     "output_type": "execute_result"
    }
   ],
   "source": [
    "cvec.get_feature_names()"
   ]
  },
  {
   "cell_type": "code",
   "execution_count": 61,
   "metadata": {
    "ExecuteTime": {
     "end_time": "2020-03-05T18:35:56.073732Z",
     "start_time": "2020-03-05T18:35:56.064831Z"
    }
   },
   "outputs": [
    {
     "data": {
      "text/html": [
       "<div>\n",
       "<style scoped>\n",
       "    .dataframe tbody tr th:only-of-type {\n",
       "        vertical-align: middle;\n",
       "    }\n",
       "\n",
       "    .dataframe tbody tr th {\n",
       "        vertical-align: top;\n",
       "    }\n",
       "\n",
       "    .dataframe thead th {\n",
       "        text-align: right;\n",
       "    }\n",
       "</style>\n",
       "<table border=\"1\" class=\"dataframe\">\n",
       "  <thead>\n",
       "    <tr style=\"text-align: right;\">\n",
       "      <th></th>\n",
       "      <th>negative</th>\n",
       "      <th>positive</th>\n",
       "      <th>total</th>\n",
       "    </tr>\n",
       "  </thead>\n",
       "  <tbody>\n",
       "    <tr>\n",
       "      <th>00 187 00</th>\n",
       "      <td>0</td>\n",
       "      <td>2</td>\n",
       "      <td>2</td>\n",
       "    </tr>\n",
       "    <tr>\n",
       "      <th>00 32 00</th>\n",
       "      <td>0</td>\n",
       "      <td>2</td>\n",
       "      <td>2</td>\n",
       "    </tr>\n",
       "    <tr>\n",
       "      <th>00 48 00</th>\n",
       "      <td>0</td>\n",
       "      <td>2</td>\n",
       "      <td>2</td>\n",
       "    </tr>\n",
       "    <tr>\n",
       "      <th>00 added 10</th>\n",
       "      <td>0</td>\n",
       "      <td>4</td>\n",
       "      <td>4</td>\n",
       "    </tr>\n",
       "    <tr>\n",
       "      <th>00 added 30</th>\n",
       "      <td>0</td>\n",
       "      <td>2</td>\n",
       "      <td>2</td>\n",
       "    </tr>\n",
       "    <tr>\n",
       "      <th>...</th>\n",
       "      <td>...</td>\n",
       "      <td>...</td>\n",
       "      <td>...</td>\n",
       "    </tr>\n",
       "    <tr>\n",
       "      <th>축하해요 6yearswithinfinite 6th</th>\n",
       "      <td>0</td>\n",
       "      <td>0</td>\n",
       "      <td>0</td>\n",
       "    </tr>\n",
       "    <tr>\n",
       "      <th>친구 친스타그램 cat</th>\n",
       "      <td>0</td>\n",
       "      <td>0</td>\n",
       "      <td>0</td>\n",
       "    </tr>\n",
       "    <tr>\n",
       "      <th>친스타그램 cat tokyo</th>\n",
       "      <td>0</td>\n",
       "      <td>0</td>\n",
       "      <td>0</td>\n",
       "    </tr>\n",
       "    <tr>\n",
       "      <th>호시 hoshi day</th>\n",
       "      <td>0</td>\n",
       "      <td>0</td>\n",
       "      <td>0</td>\n",
       "    </tr>\n",
       "    <tr>\n",
       "      <th>ｈａｐｐｙ tuesday coffee</th>\n",
       "      <td>0</td>\n",
       "      <td>0</td>\n",
       "      <td>0</td>\n",
       "    </tr>\n",
       "  </tbody>\n",
       "</table>\n",
       "<p>811045 rows × 3 columns</p>\n",
       "</div>"
      ],
      "text/plain": [
       "                             negative  positive  total\n",
       "00 187 00                           0         2      2\n",
       "00 32 00                            0         2      2\n",
       "00 48 00                            0         2      2\n",
       "00 added 10                         0         4      4\n",
       "00 added 30                         0         2      2\n",
       "...                               ...       ...    ...\n",
       "축하해요 6yearswithinfinite 6th         0         0      0\n",
       "친구 친스타그램 cat                        0         0      0\n",
       "친스타그램 cat tokyo                     0         0      0\n",
       "호시 hoshi day                        0         0      0\n",
       "ｈａｐｐｙ tuesday coffee                0         0      0\n",
       "\n",
       "[811045 rows x 3 columns]"
      ]
     },
     "execution_count": 61,
     "metadata": {},
     "output_type": "execute_result"
    }
   ],
   "source": [
    "term_freq_df_all"
   ]
  },
  {
   "cell_type": "code",
   "execution_count": 43,
   "metadata": {
    "ExecuteTime": {
     "end_time": "2020-02-06T09:16:20.808490Z",
     "start_time": "2020-02-06T09:16:20.795816Z"
    }
   },
   "outputs": [
    {
     "data": {
      "text/html": [
       "<div>\n",
       "<style scoped>\n",
       "    .dataframe tbody tr th:only-of-type {\n",
       "        vertical-align: middle;\n",
       "    }\n",
       "\n",
       "    .dataframe tbody tr th {\n",
       "        vertical-align: top;\n",
       "    }\n",
       "\n",
       "    .dataframe thead th {\n",
       "        text-align: right;\n",
       "    }\n",
       "</style>\n",
       "<table border=\"1\" class=\"dataframe\">\n",
       "  <thead>\n",
       "    <tr style=\"text-align: right;\">\n",
       "      <th></th>\n",
       "      <th>negative</th>\n",
       "      <th>positive</th>\n",
       "      <th>total</th>\n",
       "    </tr>\n",
       "  </thead>\n",
       "  <tbody>\n",
       "    <tr>\n",
       "      <th>the</th>\n",
       "      <td>3250</td>\n",
       "      <td>5824</td>\n",
       "      <td>9074</td>\n",
       "    </tr>\n",
       "    <tr>\n",
       "      <th>is</th>\n",
       "      <td>2762</td>\n",
       "      <td>4849</td>\n",
       "      <td>7611</td>\n",
       "    </tr>\n",
       "    <tr>\n",
       "      <th>to</th>\n",
       "      <td>2269</td>\n",
       "      <td>4050</td>\n",
       "      <td>6319</td>\n",
       "    </tr>\n",
       "    <tr>\n",
       "      <th>you</th>\n",
       "      <td>1887</td>\n",
       "      <td>3628</td>\n",
       "      <td>5515</td>\n",
       "    </tr>\n",
       "    <tr>\n",
       "      <th>and</th>\n",
       "      <td>1894</td>\n",
       "      <td>3280</td>\n",
       "      <td>5174</td>\n",
       "    </tr>\n",
       "    <tr>\n",
       "      <th>are</th>\n",
       "      <td>1394</td>\n",
       "      <td>2530</td>\n",
       "      <td>3924</td>\n",
       "    </tr>\n",
       "    <tr>\n",
       "      <th>of</th>\n",
       "      <td>1374</td>\n",
       "      <td>2460</td>\n",
       "      <td>3834</td>\n",
       "    </tr>\n",
       "    <tr>\n",
       "      <th>he</th>\n",
       "      <td>1141</td>\n",
       "      <td>1984</td>\n",
       "      <td>3125</td>\n",
       "    </tr>\n",
       "    <tr>\n",
       "      <th>that</th>\n",
       "      <td>1174</td>\n",
       "      <td>1873</td>\n",
       "      <td>3047</td>\n",
       "    </tr>\n",
       "    <tr>\n",
       "      <th>not</th>\n",
       "      <td>968</td>\n",
       "      <td>1842</td>\n",
       "      <td>2810</td>\n",
       "    </tr>\n",
       "  </tbody>\n",
       "</table>\n",
       "</div>"
      ],
      "text/plain": [
       "      negative  positive  total\n",
       "the       3250      5824   9074\n",
       "is        2762      4849   7611\n",
       "to        2269      4050   6319\n",
       "you       1887      3628   5515\n",
       "and       1894      3280   5174\n",
       "are       1394      2530   3924\n",
       "of        1374      2460   3834\n",
       "he        1141      1984   3125\n",
       "that      1174      1873   3047\n",
       "not        968      1842   2810"
      ]
     },
     "execution_count": 43,
     "metadata": {},
     "output_type": "execute_result"
    }
   ],
   "source": [
    "term_freq_df_all.columns = ['negative', 'positive']\n",
    "term_freq_df_all['total'] = term_freq_df_all['negative'] + term_freq_df_all['positive']\n",
    "term_freq_df_all.sort_values(by='total', ascending=False).iloc[:10]"
   ]
  },
  {
   "cell_type": "code",
   "execution_count": 44,
   "metadata": {
    "ExecuteTime": {
     "end_time": "2020-02-06T09:17:10.634698Z",
     "start_time": "2020-02-06T09:17:09.741752Z"
    }
   },
   "outputs": [
    {
     "data": {
      "image/png": "[encoded data removed]",
      "text/plain": [
       "<Figure size 864x720 with 1 Axes>"
      ]
     },
     "metadata": {
      "needs_background": "light"
     },
     "output_type": "display_data"
    }
   ],
   "source": [
    "y_pos = np.arange(50)\n",
    "y = term_freq_df_all.sort_values(by='total', ascending=False)['total'][:50]\n",
    "plt.figure(figsize=(12,10))\n",
    "plt.barh(y_pos, term_freq_df_all.sort_values(by='total', ascending=False)['total'][:50], align='center', alpha=0.5, color = 'blue')\n",
    "plt.yticks(y_pos, term_freq_df_all.sort_values(by='total', ascending=False)['total'][:50].index,)\n",
    "plt.xlabel('Frequency')\n",
    "\n",
    "for i, v in enumerate(y):\n",
    "    plt.text(v, i, \" \"+str(v), va='center',fontsize=8, color = 'gray')\n",
    "\n",
    "    \n",
    "#plt.ylabel('Top 50 negative tokens')\n",
    "plt.title('Top 50 tokens in all tweets')\n",
    "plt.savefig('./diagrams/olid_no_lem_tokens_negative.png', dpi=200)\n",
    "\n"
   ]
  },
  {
   "cell_type": "code",
   "execution_count": 63,
   "metadata": {
    "ExecuteTime": {
     "end_time": "2020-03-05T18:37:30.459744Z",
     "start_time": "2020-03-05T18:37:29.067267Z"
    }
   },
   "outputs": [
    {
     "data": {
      "image/png": "[encoded data removed]",
      "text/plain": [
       "<Figure size 864x720 with 1 Axes>"
      ]
     },
     "metadata": {
      "needs_background": "light"
     },
     "output_type": "display_data"
    }
   ],
   "source": [
    "y_pos = np.arange(50)\n",
    "y = term_freq_df_all.sort_values(by='total', ascending=False)['total'][:50]\n",
    "plt.figure(figsize=(12,10))\n",
    "plt.barh(y_pos, term_freq_df_all.sort_values(by='total', ascending=False)['total'][:50], align='center', \n",
    "         alpha=0.5, color = 'green')\n",
    "plt.yticks(y_pos, term_freq_df_all.sort_values(by='total', ascending=False)['total'][:50].index,)\n",
    "plt.xlabel('Frequency')\n",
    "\n",
    "for i, v in enumerate(y):\n",
    "    plt.text(v, i, \" \"+str(v), va='center',fontsize=8, color = 'gray')\n",
    "\n",
    "    \n",
    "#plt.ylabel('Top 50 negative tokens')\n",
    "plt.title('Top 50 tokens in all tweets')\n",
    "plt.savefig('./diagrams/all_data_no_lem_tokens_negative_3_gram.png', dpi=200)"
   ]
  },
  {
   "cell_type": "code",
   "execution_count": 45,
   "metadata": {
    "ExecuteTime": {
     "end_time": "2020-02-06T09:17:44.003108Z",
     "start_time": "2020-02-06T09:17:43.131517Z"
    }
   },
   "outputs": [
    {
     "data": {
      "image/png": "[encoded data removed]",
      "text/plain": [
       "<Figure size 864x720 with 1 Axes>"
      ]
     },
     "metadata": {
      "needs_background": "light"
     },
     "output_type": "display_data"
    }
   ],
   "source": [
    "y_pos = np.arange(50)\n",
    "y = term_freq_df_all.sort_values(by='positive', ascending=False)['positive'][:50]\n",
    "plt.figure(figsize=(12,10))\n",
    "plt.barh(y_pos, term_freq_df_all.sort_values(by='positive', ascending=False)['positive'][:50],\n",
    "         align='center', \n",
    "         #width=1,\n",
    "         alpha=0.5, \n",
    "         color = 'green')\n",
    "ax.invert_yaxis()\n",
    "ax.invert_xaxis()\n",
    "plt.yticks(y_pos, term_freq_df_all.sort_values(by='positive', ascending=False)['positive'][:50].index)\n",
    "plt.xlabel('Frequency')\n",
    "#plt.ylabel('Top 50 positive tokens')\n",
    "\n",
    "for i, v in enumerate(y):\n",
    "    plt.text(v, i, \" \"+str(v), va='center',fontsize=8, color = 'gray')\n",
    "\n",
    "plt.title('Top 50 tokens in non abusive tweets')\n",
    "plt.savefig('./diagrams/olid_no_lem_tokens_positive', dpi=200)"
   ]
  },
  {
   "cell_type": "code",
   "execution_count": 51,
   "metadata": {
    "ExecuteTime": {
     "end_time": "2020-03-05T17:49:45.453244Z",
     "start_time": "2020-03-05T17:49:44.258273Z"
    }
   },
   "outputs": [
    {
     "data": {
      "image/png": "[encoded data removed]",
      "text/plain": [
       "<Figure size 864x720 with 1 Axes>"
      ]
     },
     "metadata": {
      "needs_background": "light"
     },
     "output_type": "display_data"
    }
   ],
   "source": [
    "y_pos = np.arange(50)\n",
    "y = term_freq_df_all.sort_values(by='positive', ascending=False)['positive'][:50]\n",
    "plt.figure(figsize=(12,10))\n",
    "plt.barh(y_pos, term_freq_df_all.sort_values(by='positive', ascending=False)['positive'][:50],\n",
    "         align='center', \n",
    "         #width=1,\n",
    "         alpha=0.5, \n",
    "         color = 'green')\n",
    "ax.invert_yaxis()\n",
    "ax.invert_xaxis()\n",
    "plt.yticks(y_pos, term_freq_df_all.sort_values(by='positive', ascending=False)['positive'][:50].index)\n",
    "plt.xlabel('Frequency')\n",
    "#plt.ylabel('Top 50 positive tokens')\n",
    "\n",
    "for i, v in enumerate(y):\n",
    "    plt.text(v, i, \" \"+str(v), va='center',fontsize=8, color = 'gray')\n",
    "\n",
    "plt.title('Top 50 tokens in non abusive tweets')\n",
    "plt.savefig('./diagrams/all_data_no_lem_tokens_positive', dpi=200)"
   ]
  },
  {
   "cell_type": "code",
   "execution_count": 46,
   "metadata": {
    "ExecuteTime": {
     "end_time": "2020-02-06T09:18:06.499818Z",
     "start_time": "2020-02-06T09:18:05.658352Z"
    }
   },
   "outputs": [
    {
     "data": {
      "image/png": "[encoded data removed]",
      "text/plain": [
       "<Figure size 864x720 with 1 Axes>"
      ]
     },
     "metadata": {
      "needs_background": "light"
     },
     "output_type": "display_data"
    }
   ],
   "source": [
    "y_pos = np.arange(50)\n",
    "y = term_freq_df_all.sort_values(by='negative', ascending=False)['negative'][:50]\n",
    "plt.figure(figsize=(12,10))\n",
    "plt.barh(y_pos, term_freq_df_all.sort_values(by='negative', ascending=False)['negative'][:50],\n",
    "         align='center', \n",
    "         #width=1,\n",
    "         alpha=0.5, \n",
    "         color = 'red')\n",
    "ax.invert_yaxis()\n",
    "ax.invert_xaxis()\n",
    "plt.yticks(y_pos, term_freq_df_all.sort_values(by='negative', ascending=False)['negative'][:50].index)\n",
    "plt.xlabel('Frequency')\n",
    "#plt.ylabel('Top 50 positive tokens')\n",
    "\n",
    "for i, v in enumerate(y):\n",
    "    plt.text(v, i, \" \"+str(v), va='center',fontsize=8, color = 'gray')\n",
    "\n",
    "plt.title('Top 50 tokens in abusive tweets')\n",
    "plt.savefig('./diagrams/olid_no_lem_tokens_negative', dpi=200)"
   ]
  },
  {
   "cell_type": "code",
   "execution_count": 47,
   "metadata": {
    "ExecuteTime": {
     "end_time": "2020-02-06T09:20:17.530778Z",
     "start_time": "2020-02-06T09:20:17.528429Z"
    }
   },
   "outputs": [],
   "source": [
    "#same with lem, remove punctuiation, etc"
   ]
  },
  {
   "cell_type": "code",
   "execution_count": 41,
   "metadata": {
    "ExecuteTime": {
     "end_time": "2020-03-06T10:42:10.090632Z",
     "start_time": "2020-03-06T10:42:09.796961Z"
    }
   },
   "outputs": [],
   "source": [
    "nlp = spacy.load('en', disable=['parser', 'tagger', 'ner'])\n",
    "nlp.Defaults.stop_words.add(\"rt\")\n",
    "nlp.Defaults.stop_words.add(\"it\")\n",
    "nlp.Defaults.stop_words.add(\"mkr\")"
   ]
  },
  {
   "cell_type": "code",
   "execution_count": 23,
   "metadata": {
    "ExecuteTime": {
     "end_time": "2020-03-06T10:35:07.345440Z",
     "start_time": "2020-03-06T10:35:07.343308Z"
    }
   },
   "outputs": [],
   "source": [
    "from spacy.lang.en.stop_words import STOP_WORDS"
   ]
  },
  {
   "cell_type": "code",
   "execution_count": 68,
   "metadata": {
    "ExecuteTime": {
     "end_time": "2020-03-06T10:48:11.871349Z",
     "start_time": "2020-03-06T10:48:11.864313Z"
    }
   },
   "outputs": [
    {
     "data": {
      "text/plain": [
       "{'a',\n",
       " 'about',\n",
       " 'above',\n",
       " 'across',\n",
       " 'after',\n",
       " 'afterwards',\n",
       " 'again',\n",
       " 'against',\n",
       " 'all',\n",
       " 'almost',\n",
       " 'alone',\n",
       " 'along',\n",
       " 'already',\n",
       " 'also',\n",
       " 'although',\n",
       " 'always',\n",
       " 'am',\n",
       " 'among',\n",
       " 'amongst',\n",
       " 'amount',\n",
       " 'an',\n",
       " 'and',\n",
       " 'another',\n",
       " 'any',\n",
       " 'anyhow',\n",
       " 'anyone',\n",
       " 'anything',\n",
       " 'anyway',\n",
       " 'anywhere',\n",
       " 'are',\n",
       " 'around',\n",
       " 'as',\n",
       " 'at',\n",
       " 'back',\n",
       " 'be',\n",
       " 'became',\n",
       " 'because',\n",
       " 'become',\n",
       " 'becomes',\n",
       " 'becoming',\n",
       " 'been',\n",
       " 'before',\n",
       " 'beforehand',\n",
       " 'behind',\n",
       " 'being',\n",
       " 'below',\n",
       " 'beside',\n",
       " 'besides',\n",
       " 'between',\n",
       " 'beyond',\n",
       " 'both',\n",
       " 'bottom',\n",
       " 'but',\n",
       " 'by',\n",
       " 'ca',\n",
       " 'call',\n",
       " 'can',\n",
       " 'cannot',\n",
       " 'could',\n",
       " 'did',\n",
       " 'do',\n",
       " 'does',\n",
       " 'doing',\n",
       " 'done',\n",
       " 'down',\n",
       " 'due',\n",
       " 'during',\n",
       " 'each',\n",
       " 'eight',\n",
       " 'either',\n",
       " 'eleven',\n",
       " 'else',\n",
       " 'elsewhere',\n",
       " 'empty',\n",
       " 'enough',\n",
       " 'even',\n",
       " 'ever',\n",
       " 'every',\n",
       " 'everyone',\n",
       " 'everything',\n",
       " 'everywhere',\n",
       " 'except',\n",
       " 'few',\n",
       " 'fifteen',\n",
       " 'fifty',\n",
       " 'first',\n",
       " 'five',\n",
       " 'for',\n",
       " 'former',\n",
       " 'formerly',\n",
       " 'forty',\n",
       " 'four',\n",
       " 'from',\n",
       " 'front',\n",
       " 'full',\n",
       " 'further',\n",
       " 'get',\n",
       " 'give',\n",
       " 'go',\n",
       " 'had',\n",
       " 'has',\n",
       " 'have',\n",
       " 'he',\n",
       " 'hence',\n",
       " 'her',\n",
       " 'here',\n",
       " 'hereafter',\n",
       " 'hereby',\n",
       " 'herein',\n",
       " 'hereupon',\n",
       " 'hers',\n",
       " 'herself',\n",
       " 'him',\n",
       " 'himself',\n",
       " 'his',\n",
       " 'how',\n",
       " 'however',\n",
       " 'hundred',\n",
       " 'i',\n",
       " 'if',\n",
       " 'in',\n",
       " 'indeed',\n",
       " 'into',\n",
       " 'is',\n",
       " 'it',\n",
       " 'it ',\n",
       " 'its',\n",
       " 'itself',\n",
       " 'just',\n",
       " 'keep',\n",
       " 'last',\n",
       " 'latter',\n",
       " 'latterly',\n",
       " 'least',\n",
       " 'less',\n",
       " 'made',\n",
       " 'make',\n",
       " 'many',\n",
       " 'may',\n",
       " 'me',\n",
       " 'meanwhile',\n",
       " 'might',\n",
       " 'mine',\n",
       " 'mkr',\n",
       " 'more',\n",
       " 'moreover',\n",
       " 'most',\n",
       " 'mostly',\n",
       " 'move',\n",
       " 'much',\n",
       " 'must',\n",
       " 'my',\n",
       " 'myself',\n",
       " 'name',\n",
       " 'namely',\n",
       " 'neither',\n",
       " 'never',\n",
       " 'nevertheless',\n",
       " 'next',\n",
       " 'nine',\n",
       " 'no',\n",
       " 'nobody',\n",
       " 'none',\n",
       " 'noone',\n",
       " 'nor',\n",
       " 'not',\n",
       " 'nothing',\n",
       " 'now',\n",
       " 'nowhere',\n",
       " 'of',\n",
       " 'off',\n",
       " 'often',\n",
       " 'on',\n",
       " 'once',\n",
       " 'one',\n",
       " 'only',\n",
       " 'onto',\n",
       " 'or',\n",
       " 'other',\n",
       " 'others',\n",
       " 'otherwise',\n",
       " 'our',\n",
       " 'ours',\n",
       " 'ourselves',\n",
       " 'out',\n",
       " 'over',\n",
       " 'own',\n",
       " 'part',\n",
       " 'per',\n",
       " 'perhaps',\n",
       " 'please',\n",
       " 'put',\n",
       " 'quite',\n",
       " 'rather',\n",
       " 're',\n",
       " 'really',\n",
       " 'regarding',\n",
       " 'rt',\n",
       " 'same',\n",
       " 'say',\n",
       " 'see',\n",
       " 'seem',\n",
       " 'seemed',\n",
       " 'seeming',\n",
       " 'seems',\n",
       " 'serious',\n",
       " 'several',\n",
       " 'she',\n",
       " 'should',\n",
       " 'show',\n",
       " 'side',\n",
       " 'since',\n",
       " 'six',\n",
       " 'sixty',\n",
       " 'so',\n",
       " 'some',\n",
       " 'somehow',\n",
       " 'someone',\n",
       " 'something',\n",
       " 'sometime',\n",
       " 'sometimes',\n",
       " 'somewhere',\n",
       " 'still',\n",
       " 'such',\n",
       " 'take',\n",
       " 'ten',\n",
       " 'than',\n",
       " 'that',\n",
       " 'the',\n",
       " 'their',\n",
       " 'them',\n",
       " 'themselves',\n",
       " 'then',\n",
       " 'thence',\n",
       " 'there',\n",
       " 'thereafter',\n",
       " 'thereby',\n",
       " 'therefore',\n",
       " 'therein',\n",
       " 'thereupon',\n",
       " 'these',\n",
       " 'they',\n",
       " 'third',\n",
       " 'this',\n",
       " 'those',\n",
       " 'though',\n",
       " 'three',\n",
       " 'through',\n",
       " 'throughout',\n",
       " 'thru',\n",
       " 'thus',\n",
       " 'to',\n",
       " 'together',\n",
       " 'too',\n",
       " 'top',\n",
       " 'toward',\n",
       " 'towards',\n",
       " 'twelve',\n",
       " 'twenty',\n",
       " 'two',\n",
       " 'under',\n",
       " 'unless',\n",
       " 'until',\n",
       " 'up',\n",
       " 'upon',\n",
       " 'us',\n",
       " 'used',\n",
       " 'using',\n",
       " 'various',\n",
       " 'very',\n",
       " 'via',\n",
       " 'was',\n",
       " 'we',\n",
       " 'well',\n",
       " 'were',\n",
       " 'what',\n",
       " 'whatever',\n",
       " 'when',\n",
       " 'whence',\n",
       " 'whenever',\n",
       " 'where',\n",
       " 'whereafter',\n",
       " 'whereas',\n",
       " 'whereby',\n",
       " 'wherein',\n",
       " 'whereupon',\n",
       " 'wherever',\n",
       " 'whether',\n",
       " 'which',\n",
       " 'while',\n",
       " 'whither',\n",
       " 'who',\n",
       " 'whoever',\n",
       " 'whole',\n",
       " 'whom',\n",
       " 'whose',\n",
       " 'why',\n",
       " 'will',\n",
       " 'with',\n",
       " 'within',\n",
       " 'without',\n",
       " 'would',\n",
       " 'yet',\n",
       " 'you',\n",
       " 'your',\n",
       " 'yours',\n",
       " 'yourself',\n",
       " 'yourselves'}"
      ]
     },
     "execution_count": 68,
     "metadata": {},
     "output_type": "execute_result"
    }
   ],
   "source": [
    "STOP_WORDS"
   ]
  },
  {
   "cell_type": "code",
   "execution_count": 69,
   "metadata": {
    "ExecuteTime": {
     "end_time": "2020-03-06T10:48:40.147883Z",
     "start_time": "2020-03-06T10:48:39.668444Z"
    }
   },
   "outputs": [],
   "source": [
    "df_tweets_all['sw_spacy_1_1'] = df_tweets_all['tweet_tidy_1'].apply(remove_stopwords, stopword_list = STOP_WORDS)"
   ]
  },
  {
   "cell_type": "code",
   "execution_count": 70,
   "metadata": {
    "ExecuteTime": {
     "end_time": "2020-03-06T10:48:45.030826Z",
     "start_time": "2020-03-06T10:48:42.158530Z"
    }
   },
   "outputs": [
    {
     "data": {
      "text/plain": [
       "CountVectorizer(analyzer='word', binary=False, decode_error='strict',\n",
       "                dtype=<class 'numpy.int64'>, encoding='utf-8', input='content',\n",
       "                lowercase=True, max_df=1.0, max_features=None, min_df=1,\n",
       "                ngram_range=(1, 1), preprocessor=None, stop_words=None,\n",
       "                strip_accents=None, token_pattern='(?u)\\\\b\\\\w\\\\w+\\\\b',\n",
       "                tokenizer=None, vocabulary=None)"
      ]
     },
     "execution_count": 70,
     "metadata": {},
     "output_type": "execute_result"
    }
   ],
   "source": [
    "cvec_stop_unigram = cvec.fit(df_tweets_all.sw_spacy)\n",
    "\n",
    "\n",
    "cvec_stop_uni_bigram = CountVectorizer(ngram_range=(1, 1))\n",
    "cvec_stop_uni_bigram.fit(df_tweets_all.tweet_tidy_1)\n",
    "\n",
    "#cvec_stop_bigram = CountVectorizer(ngram_range=(2, 2))\n",
    "#cvec_stop_bigram.fit(df_tweets_all.tweet_tidy_1)\n"
   ]
  },
  {
   "cell_type": "code",
   "execution_count": 71,
   "metadata": {
    "ExecuteTime": {
     "end_time": "2020-03-06T10:48:45.123626Z",
     "start_time": "2020-03-06T10:48:45.114803Z"
    }
   },
   "outputs": [
    {
     "data": {
      "text/html": [
       "<div>\n",
       "<style scoped>\n",
       "    .dataframe tbody tr th:only-of-type {\n",
       "        vertical-align: middle;\n",
       "    }\n",
       "\n",
       "    .dataframe tbody tr th {\n",
       "        vertical-align: top;\n",
       "    }\n",
       "\n",
       "    .dataframe thead th {\n",
       "        text-align: right;\n",
       "    }\n",
       "</style>\n",
       "<table border=\"1\" class=\"dataframe\">\n",
       "  <thead>\n",
       "    <tr style=\"text-align: right;\">\n",
       "      <th></th>\n",
       "      <th>tweet</th>\n",
       "      <th>label_all</th>\n",
       "      <th>tweet_no_html</th>\n",
       "      <th>tweet_tidy_1</th>\n",
       "      <th>sw_spacy</th>\n",
       "      <th>sw_spacy_1_1</th>\n",
       "    </tr>\n",
       "  </thead>\n",
       "  <tbody>\n",
       "    <tr>\n",
       "      <th>0</th>\n",
       "      <td>@user when a father is dysfunctional and is so selfish he drags his kids into his dysfunction.   #run</td>\n",
       "      <td>0</td>\n",
       "      <td>@user when a father is dysfunctional and is so selfish he drags his kids into his dysfunction.   #run</td>\n",
       "      <td>@user when a father is dysfunctional and is so selfish he drags his kids into his dysfunction.   #run</td>\n",
       "      <td>@user father dysfunctional selfish drags kids dysfunction. #run</td>\n",
       "      <td>@user father dysfunctional selfish drags kids dysfunction. #run</td>\n",
       "    </tr>\n",
       "    <tr>\n",
       "      <th>1</th>\n",
       "      <td>@user @user thanks for #lyft credit i can't use cause they don't offer wheelchair vans in pdx.    #disapointed #getthanked</td>\n",
       "      <td>0</td>\n",
       "      <td>@user @user thanks for #lyft credit i can't use cause they don't offer wheelchair vans in pdx.    #disapointed #getthanked</td>\n",
       "      <td>@user @user thanks for #lyft credit i cannot use cause they do not offer wheelchair vans in pdx.    #disapointed #getthanked</td>\n",
       "      <td>@user @user thanks #lyft credit use cause offer wheelchair vans pdx. #disapointed #getthanked</td>\n",
       "      <td>@user @user thanks #lyft credit use cause offer wheelchair vans pdx. #disapointed #getthanked</td>\n",
       "    </tr>\n",
       "    <tr>\n",
       "      <th>2</th>\n",
       "      <td>bihday your majesty</td>\n",
       "      <td>0</td>\n",
       "      <td>bihday your majesty</td>\n",
       "      <td>bihday your majesty</td>\n",
       "      <td>bihday majesty</td>\n",
       "      <td>bihday majesty</td>\n",
       "    </tr>\n",
       "    <tr>\n",
       "      <th>3</th>\n",
       "      <td>#model   i love u take with u all the time in urÃ°ÂŸÂ“Â±!!! Ã°ÂŸÂ˜Â™Ã°ÂŸÂ˜ÂŽÃ°ÂŸÂ‘Â„Ã°ÂŸÂ‘Â…Ã°ÂŸÂ’Â¦Ã°ÂŸÂ’Â¦Ã°ÂŸÂ’Â¦</td>\n",
       "      <td>0</td>\n",
       "      <td>#model   i love u take with u all the time in urÃ°ÂŸÂ“Â±!!! Ã°ÂŸÂ˜Â™Ã°ÂŸÂ˜ÂŽÃ°ÂŸÂ‘Â„Ã°ÂŸÂ‘Â…Ã°ÂŸÂ’Â¦Ã°ÂŸÂ’Â¦Ã°ÂŸÂ’Â¦</td>\n",
       "      <td>#model   i love u take with u all the time in ur:mobile_phone:!!! :kissing_face_with_smiling_eyes::smiling_face_with_sunglasses::mouth::tongue::sweat_droplets::sweat_droplets::sweat_droplets:</td>\n",
       "      <td>#model love u u time ur:mobile_phone:!!! :kissing_face_with_smiling_eyes::smiling_face_with_sunglasses::mouth::tongue::sweat_droplets::sweat_droplets::sweat_droplets:</td>\n",
       "      <td>#model love u u time ur:mobile_phone:!!! :kissing_face_with_smiling_eyes::smiling_face_with_sunglasses::mouth::tongue::sweat_droplets::sweat_droplets::sweat_droplets:</td>\n",
       "    </tr>\n",
       "    <tr>\n",
       "      <th>4</th>\n",
       "      <td>factsguide: society now    #motivation</td>\n",
       "      <td>0</td>\n",
       "      <td>factsguide: society now    #motivation</td>\n",
       "      <td>factsguide: society now    #motivation</td>\n",
       "      <td>factsguide: society #motivation</td>\n",
       "      <td>factsguide: society #motivation</td>\n",
       "    </tr>\n",
       "  </tbody>\n",
       "</table>\n",
       "</div>"
      ],
      "text/plain": [
       "                                                                                                                        tweet  \\\n",
       "0                       @user when a father is dysfunctional and is so selfish he drags his kids into his dysfunction.   #run   \n",
       "1  @user @user thanks for #lyft credit i can't use cause they don't offer wheelchair vans in pdx.    #disapointed #getthanked   \n",
       "2                                                                                                         bihday your majesty   \n",
       "3        #model   i love u take with u all the time in urÃ°ÂŸÂ“Â±!!! Ã°ÂŸÂ˜Â™Ã°ÂŸÂ˜ÂŽÃ°ÂŸÂ‘Â„Ã°ÂŸÂ‘Â…Ã°ÂŸÂ’Â¦Ã°ÂŸÂ’Â¦Ã°ÂŸÂ’Â¦   \n",
       "4                                                                                      factsguide: society now    #motivation   \n",
       "\n",
       "   label_all  \\\n",
       "0          0   \n",
       "1          0   \n",
       "2          0   \n",
       "3          0   \n",
       "4          0   \n",
       "\n",
       "                                                                                                                tweet_no_html  \\\n",
       "0                       @user when a father is dysfunctional and is so selfish he drags his kids into his dysfunction.   #run   \n",
       "1  @user @user thanks for #lyft credit i can't use cause they don't offer wheelchair vans in pdx.    #disapointed #getthanked   \n",
       "2                                                                                                         bihday your majesty   \n",
       "3        #model   i love u take with u all the time in urÃ°ÂŸÂ“Â±!!! Ã°ÂŸÂ˜Â™Ã°ÂŸÂ˜ÂŽÃ°ÂŸÂ‘Â„Ã°ÂŸÂ‘Â…Ã°ÂŸÂ’Â¦Ã°ÂŸÂ’Â¦Ã°ÂŸÂ’Â¦   \n",
       "4                                                                                      factsguide: society now    #motivation   \n",
       "\n",
       "                                                                                                                                                                                      tweet_tidy_1  \\\n",
       "0                                                                                            @user when a father is dysfunctional and is so selfish he drags his kids into his dysfunction.   #run   \n",
       "1                                                                     @user @user thanks for #lyft credit i cannot use cause they do not offer wheelchair vans in pdx.    #disapointed #getthanked   \n",
       "2                                                                                                                                                                              bihday your majesty   \n",
       "3  #model   i love u take with u all the time in ur:mobile_phone:!!! :kissing_face_with_smiling_eyes::smiling_face_with_sunglasses::mouth::tongue::sweat_droplets::sweat_droplets::sweat_droplets:   \n",
       "4                                                                                                                                                           factsguide: society now    #motivation   \n",
       "\n",
       "                                                                                                                                                                 sw_spacy  \\\n",
       "0                                                                                                         @user father dysfunctional selfish drags kids dysfunction. #run   \n",
       "1                                                                           @user @user thanks #lyft credit use cause offer wheelchair vans pdx. #disapointed #getthanked   \n",
       "2                                                                                                                                                          bihday majesty   \n",
       "3  #model love u u time ur:mobile_phone:!!! :kissing_face_with_smiling_eyes::smiling_face_with_sunglasses::mouth::tongue::sweat_droplets::sweat_droplets::sweat_droplets:   \n",
       "4                                                                                                                                         factsguide: society #motivation   \n",
       "\n",
       "                                                                                                                                                             sw_spacy_1_1  \n",
       "0                                                                                                         @user father dysfunctional selfish drags kids dysfunction. #run  \n",
       "1                                                                           @user @user thanks #lyft credit use cause offer wheelchair vans pdx. #disapointed #getthanked  \n",
       "2                                                                                                                                                          bihday majesty  \n",
       "3  #model love u u time ur:mobile_phone:!!! :kissing_face_with_smiling_eyes::smiling_face_with_sunglasses::mouth::tongue::sweat_droplets::sweat_droplets::sweat_droplets:  \n",
       "4                                                                                                                                         factsguide: society #motivation  "
      ]
     },
     "execution_count": 71,
     "metadata": {},
     "output_type": "execute_result"
    }
   ],
   "source": [
    "df_tweets_all.head()"
   ]
  },
  {
   "cell_type": "code",
   "execution_count": 72,
   "metadata": {
    "ExecuteTime": {
     "end_time": "2020-03-06T10:49:21.350519Z",
     "start_time": "2020-03-06T10:49:14.850701Z"
    }
   },
   "outputs": [],
   "source": [
    "neg_doc_matrix = cvec_stop_unigram.transform(df_tweets_all[df_tweets_all.label_all == 1].sw_spacy_1_1)\n",
    "pos_doc_matrix = cvec_stop_unigram.transform(df_tweets_all[df_tweets_all.label_all == 0].sw_spacy_1_1)\n",
    "\n",
    "neg_tf = np.sum(neg_doc_matrix,axis=0)\n",
    "pos_tf = np.sum(pos_doc_matrix,axis=0)\n",
    "\n",
    "\n",
    "neg_all = np.squeeze(np.asarray(neg_tf))\n",
    "pos = np.squeeze(np.asarray(pos_tf))\n",
    "\n",
    "\n",
    "term_freq_df_all = pd.DataFrame([neg_all,pos],columns=cvec.get_feature_names()).transpose()"
   ]
  },
  {
   "cell_type": "code",
   "execution_count": 73,
   "metadata": {
    "ExecuteTime": {
     "end_time": "2020-03-06T10:49:23.783817Z",
     "start_time": "2020-03-06T10:49:23.776024Z"
    }
   },
   "outputs": [
    {
     "data": {
      "text/html": [
       "<div>\n",
       "<style scoped>\n",
       "    .dataframe tbody tr th:only-of-type {\n",
       "        vertical-align: middle;\n",
       "    }\n",
       "\n",
       "    .dataframe tbody tr th {\n",
       "        vertical-align: top;\n",
       "    }\n",
       "\n",
       "    .dataframe thead th {\n",
       "        text-align: right;\n",
       "    }\n",
       "</style>\n",
       "<table border=\"1\" class=\"dataframe\">\n",
       "  <thead>\n",
       "    <tr style=\"text-align: right;\">\n",
       "      <th></th>\n",
       "      <th>0</th>\n",
       "      <th>1</th>\n",
       "    </tr>\n",
       "  </thead>\n",
       "  <tbody>\n",
       "    <tr>\n",
       "      <th>00</th>\n",
       "      <td>2</td>\n",
       "      <td>141</td>\n",
       "    </tr>\n",
       "    <tr>\n",
       "      <th>000</th>\n",
       "      <td>37</td>\n",
       "      <td>149</td>\n",
       "    </tr>\n",
       "    <tr>\n",
       "      <th>0000000000000</th>\n",
       "      <td>1</td>\n",
       "      <td>0</td>\n",
       "    </tr>\n",
       "    <tr>\n",
       "      <th>000001</th>\n",
       "      <td>0</td>\n",
       "      <td>2</td>\n",
       "    </tr>\n",
       "    <tr>\n",
       "      <th>001</th>\n",
       "      <td>2</td>\n",
       "      <td>3</td>\n",
       "    </tr>\n",
       "    <tr>\n",
       "      <th>...</th>\n",
       "      <td>...</td>\n",
       "      <td>...</td>\n",
       "    </tr>\n",
       "    <tr>\n",
       "      <th>축하해요</th>\n",
       "      <td>0</td>\n",
       "      <td>2</td>\n",
       "    </tr>\n",
       "    <tr>\n",
       "      <th>친구</th>\n",
       "      <td>0</td>\n",
       "      <td>3</td>\n",
       "    </tr>\n",
       "    <tr>\n",
       "      <th>친스타그램</th>\n",
       "      <td>0</td>\n",
       "      <td>1</td>\n",
       "    </tr>\n",
       "    <tr>\n",
       "      <th>호시</th>\n",
       "      <td>0</td>\n",
       "      <td>1</td>\n",
       "    </tr>\n",
       "    <tr>\n",
       "      <th>ｈａｐｐｙ</th>\n",
       "      <td>0</td>\n",
       "      <td>1</td>\n",
       "    </tr>\n",
       "  </tbody>\n",
       "</table>\n",
       "<p>87287 rows × 2 columns</p>\n",
       "</div>"
      ],
      "text/plain": [
       "                0    1\n",
       "00              2  141\n",
       "000            37  149\n",
       "0000000000000   1    0\n",
       "000001          0    2\n",
       "001             2    3\n",
       "...            ..  ...\n",
       "축하해요            0    2\n",
       "친구              0    3\n",
       "친스타그램           0    1\n",
       "호시              0    1\n",
       "ｈａｐｐｙ           0    1\n",
       "\n",
       "[87287 rows x 2 columns]"
      ]
     },
     "execution_count": 73,
     "metadata": {},
     "output_type": "execute_result"
    }
   ],
   "source": [
    "term_freq_df_all"
   ]
  },
  {
   "cell_type": "code",
   "execution_count": 76,
   "metadata": {
    "ExecuteTime": {
     "end_time": "2020-03-06T11:17:04.935676Z",
     "start_time": "2020-03-06T11:17:04.917812Z"
    }
   },
   "outputs": [
    {
     "data": {
      "text/html": [
       "<div>\n",
       "<style scoped>\n",
       "    .dataframe tbody tr th:only-of-type {\n",
       "        vertical-align: middle;\n",
       "    }\n",
       "\n",
       "    .dataframe tbody tr th {\n",
       "        vertical-align: top;\n",
       "    }\n",
       "\n",
       "    .dataframe thead th {\n",
       "        text-align: right;\n",
       "    }\n",
       "</style>\n",
       "<table border=\"1\" class=\"dataframe\">\n",
       "  <thead>\n",
       "    <tr style=\"text-align: right;\">\n",
       "      <th></th>\n",
       "      <th>negative</th>\n",
       "      <th>positive</th>\n",
       "      <th>total</th>\n",
       "    </tr>\n",
       "  </thead>\n",
       "  <tbody>\n",
       "    <tr>\n",
       "      <th>user</th>\n",
       "      <td>1866</td>\n",
       "      <td>15765</td>\n",
       "      <td>17631</td>\n",
       "    </tr>\n",
       "    <tr>\n",
       "      <th>bitch</th>\n",
       "      <td>8443</td>\n",
       "      <td>80</td>\n",
       "      <td>8523</td>\n",
       "    </tr>\n",
       "    <tr>\n",
       "      <th>http</th>\n",
       "      <td>2876</td>\n",
       "      <td>4102</td>\n",
       "      <td>6978</td>\n",
       "    </tr>\n",
       "    <tr>\n",
       "      <th>co</th>\n",
       "      <td>3017</td>\n",
       "      <td>3868</td>\n",
       "      <td>6885</td>\n",
       "    </tr>\n",
       "    <tr>\n",
       "      <th>like</th>\n",
       "      <td>3298</td>\n",
       "      <td>3484</td>\n",
       "      <td>6782</td>\n",
       "    </tr>\n",
       "    <tr>\n",
       "      <th>mkr</th>\n",
       "      <td>895</td>\n",
       "      <td>3985</td>\n",
       "      <td>4880</td>\n",
       "    </tr>\n",
       "    <tr>\n",
       "      <th>love</th>\n",
       "      <td>719</td>\n",
       "      <td>3326</td>\n",
       "      <td>4045</td>\n",
       "    </tr>\n",
       "    <tr>\n",
       "      <th>face_with_tears_of_joy</th>\n",
       "      <td>3115</td>\n",
       "      <td>769</td>\n",
       "      <td>3884</td>\n",
       "    </tr>\n",
       "    <tr>\n",
       "      <th>people</th>\n",
       "      <td>848</td>\n",
       "      <td>2701</td>\n",
       "      <td>3549</td>\n",
       "    </tr>\n",
       "    <tr>\n",
       "      <th>day</th>\n",
       "      <td>403</td>\n",
       "      <td>2951</td>\n",
       "      <td>3354</td>\n",
       "    </tr>\n",
       "    <tr>\n",
       "      <th>white</th>\n",
       "      <td>1016</td>\n",
       "      <td>2221</td>\n",
       "      <td>3237</td>\n",
       "    </tr>\n",
       "    <tr>\n",
       "      <th>bitches</th>\n",
       "      <td>3145</td>\n",
       "      <td>32</td>\n",
       "      <td>3177</td>\n",
       "    </tr>\n",
       "    <tr>\n",
       "      <th>time</th>\n",
       "      <td>563</td>\n",
       "      <td>2179</td>\n",
       "      <td>2742</td>\n",
       "    </tr>\n",
       "    <tr>\n",
       "      <th>good</th>\n",
       "      <td>671</td>\n",
       "      <td>2002</td>\n",
       "      <td>2673</td>\n",
       "    </tr>\n",
       "    <tr>\n",
       "      <th>got</th>\n",
       "      <td>1331</td>\n",
       "      <td>1263</td>\n",
       "      <td>2594</td>\n",
       "    </tr>\n",
       "    <tr>\n",
       "      <th>know</th>\n",
       "      <td>1026</td>\n",
       "      <td>1547</td>\n",
       "      <td>2573</td>\n",
       "    </tr>\n",
       "    <tr>\n",
       "      <th>it</th>\n",
       "      <td>804</td>\n",
       "      <td>1631</td>\n",
       "      <td>2435</td>\n",
       "    </tr>\n",
       "    <tr>\n",
       "      <th>hoes</th>\n",
       "      <td>2396</td>\n",
       "      <td>26</td>\n",
       "      <td>2422</td>\n",
       "    </tr>\n",
       "    <tr>\n",
       "      <th>want</th>\n",
       "      <td>796</td>\n",
       "      <td>1480</td>\n",
       "      <td>2276</td>\n",
       "    </tr>\n",
       "    <tr>\n",
       "      <th>pussy</th>\n",
       "      <td>2165</td>\n",
       "      <td>51</td>\n",
       "      <td>2216</td>\n",
       "    </tr>\n",
       "    <tr>\n",
       "      <th>think</th>\n",
       "      <td>738</td>\n",
       "      <td>1404</td>\n",
       "      <td>2142</td>\n",
       "    </tr>\n",
       "    <tr>\n",
       "      <th>happy</th>\n",
       "      <td>179</td>\n",
       "      <td>1917</td>\n",
       "      <td>2096</td>\n",
       "    </tr>\n",
       "    <tr>\n",
       "      <th>new</th>\n",
       "      <td>367</td>\n",
       "      <td>1690</td>\n",
       "      <td>2057</td>\n",
       "    </tr>\n",
       "    <tr>\n",
       "      <th>hoe</th>\n",
       "      <td>1922</td>\n",
       "      <td>41</td>\n",
       "      <td>1963</td>\n",
       "    </tr>\n",
       "    <tr>\n",
       "      <th>fuck</th>\n",
       "      <td>1542</td>\n",
       "      <td>298</td>\n",
       "      <td>1840</td>\n",
       "    </tr>\n",
       "  </tbody>\n",
       "</table>\n",
       "</div>"
      ],
      "text/plain": [
       "                        negative  positive  total\n",
       "user                        1866     15765  17631\n",
       "bitch                       8443        80   8523\n",
       "http                        2876      4102   6978\n",
       "co                          3017      3868   6885\n",
       "like                        3298      3484   6782\n",
       "mkr                          895      3985   4880\n",
       "love                         719      3326   4045\n",
       "face_with_tears_of_joy      3115       769   3884\n",
       "people                       848      2701   3549\n",
       "day                          403      2951   3354\n",
       "white                       1016      2221   3237\n",
       "bitches                     3145        32   3177\n",
       "time                         563      2179   2742\n",
       "good                         671      2002   2673\n",
       "got                         1331      1263   2594\n",
       "know                        1026      1547   2573\n",
       "it                           804      1631   2435\n",
       "hoes                        2396        26   2422\n",
       "want                         796      1480   2276\n",
       "pussy                       2165        51   2216\n",
       "think                        738      1404   2142\n",
       "happy                        179      1917   2096\n",
       "new                          367      1690   2057\n",
       "hoe                         1922        41   1963\n",
       "fuck                        1542       298   1840"
      ]
     },
     "execution_count": 76,
     "metadata": {},
     "output_type": "execute_result"
    }
   ],
   "source": [
    "#term_freq_df_all.columns = ['negative', 'positive']\n",
    "#term_freq_df_all['total'] = term_freq_df_all['negative'] + term_freq_df_all['positive']\n",
    "term_freq_df_all.sort_values(by='total', ascending=False).iloc[:25]"
   ]
  },
  {
   "cell_type": "code",
   "execution_count": 64,
   "metadata": {
    "ExecuteTime": {
     "end_time": "2020-02-06T09:38:16.223469Z",
     "start_time": "2020-02-06T09:38:15.189208Z"
    }
   },
   "outputs": [
    {
     "data": {
      "image/png": "[encoded data removed]",
      "text/plain": [
       "<Figure size 864x720 with 1 Axes>"
      ]
     },
     "metadata": {
      "needs_background": "light"
     },
     "output_type": "display_data"
    }
   ],
   "source": [
    "y_pos = np.arange(50)\n",
    "y = term_freq_df_all.sort_values(by='total', ascending=False)['total'][:50]\n",
    "plt.figure(figsize=(12,10))\n",
    "plt.barh(y_pos, term_freq_df_all.sort_values(by='total', ascending=False)['total'][:50], align='center', alpha=0.5, color = 'blue')\n",
    "plt.yticks(y_pos, term_freq_df_all.sort_values(by='total', ascending=False)['total'][:50].index,)\n",
    "plt.xlabel('Frequency')\n",
    "\n",
    "for i, v in enumerate(y):\n",
    "    plt.text(v, i, \" \"+str(v), va='center',fontsize=8, color = 'gray')\n",
    "\n",
    "    \n",
    "#plt.ylabel('Top 50 negative tokens')\n",
    "plt.title('Top 50 tokens in all tweets')\n",
    "plt.savefig('./diagrams/olid_stop_tokens_negative.png', dpi=200)"
   ]
  },
  {
   "cell_type": "code",
   "execution_count": 65,
   "metadata": {
    "ExecuteTime": {
     "end_time": "2020-02-06T09:41:25.751004Z",
     "start_time": "2020-02-06T09:41:24.861426Z"
    }
   },
   "outputs": [
    {
     "data": {
      "image/png": "[encoded data removed]",
      "text/plain": [
       "<Figure size 864x720 with 1 Axes>"
      ]
     },
     "metadata": {
      "needs_background": "light"
     },
     "output_type": "display_data"
    }
   ],
   "source": [
    "y_pos = np.arange(50)\n",
    "y = term_freq_df_all.sort_values(by='positive', ascending=False)['positive'][:50]\n",
    "plt.figure(figsize=(12,10))\n",
    "plt.barh(y_pos, term_freq_df_all.sort_values(by='positive', ascending=False)['positive'][:50],\n",
    "         align='center', \n",
    "         #width=1,\n",
    "         alpha=0.5, \n",
    "         color = 'green')\n",
    "ax.invert_yaxis()\n",
    "ax.invert_xaxis()\n",
    "plt.yticks(y_pos, term_freq_df_all.sort_values(by='positive', ascending=False)['positive'][:50].index)\n",
    "plt.xlabel('Frequency')\n",
    "#plt.ylabel('Top 50 positive tokens')\n",
    "\n",
    "for i, v in enumerate(y):\n",
    "    plt.text(v, i, \" \"+str(v), va='center',fontsize=8, color = 'gray')\n",
    "\n",
    "plt.title('Top 50 tokens in non abusive tweets')\n",
    "plt.savefig('./diagrams/olid_stop_tokens_positive', dpi=200)"
   ]
  },
  {
   "cell_type": "code",
   "execution_count": 66,
   "metadata": {
    "ExecuteTime": {
     "end_time": "2020-02-06T09:41:51.604950Z",
     "start_time": "2020-02-06T09:41:50.731876Z"
    }
   },
   "outputs": [
    {
     "data": {
      "image/png": "[encoded data removed]",
      "text/plain": [
       "<Figure size 864x720 with 1 Axes>"
      ]
     },
     "metadata": {
      "needs_background": "light"
     },
     "output_type": "display_data"
    }
   ],
   "source": [
    "y_pos = np.arange(50)\n",
    "y = term_freq_df_all.sort_values(by='negative', ascending=False)['negative'][:50]\n",
    "plt.figure(figsize=(12,10))\n",
    "plt.barh(y_pos, term_freq_df_all.sort_values(by='negative', ascending=False)['negative'][:50],\n",
    "         align='center', \n",
    "         #width=1,\n",
    "         alpha=0.5, \n",
    "         color = 'red')\n",
    "ax.invert_yaxis()\n",
    "ax.invert_xaxis()\n",
    "plt.yticks(y_pos, term_freq_df_all.sort_values(by='negative', ascending=False)['negative'][:50].index)\n",
    "plt.xlabel('Frequency')\n",
    "#plt.ylabel('Top 50 positive tokens')\n",
    "\n",
    "for i, v in enumerate(y):\n",
    "    plt.text(v, i, \" \"+str(v), va='center',fontsize=8, color = 'gray')\n",
    "\n",
    "plt.title('Top 50 tokens in abusive tweets')\n",
    "plt.savefig('./diagrams/olid_stop_tokens_negative', dpi=200)"
   ]
  },
  {
   "cell_type": "code",
   "execution_count": 80,
   "metadata": {
    "ExecuteTime": {
     "end_time": "2020-02-10T14:31:46.600083Z",
     "start_time": "2020-02-10T14:31:46.524131Z"
    }
   },
   "outputs": [
    {
     "data": {
      "text/plain": [
       "2097"
      ]
     },
     "execution_count": 80,
     "metadata": {},
     "output_type": "execute_result"
    }
   ],
   "source": [
    "df_tweets_all.tweet.str.count(\"rt \").sum()"
   ]
  },
  {
   "cell_type": "code",
   "execution_count": 82,
   "metadata": {
    "ExecuteTime": {
     "end_time": "2020-02-10T14:31:51.161835Z",
     "start_time": "2020-02-10T14:31:51.087126Z"
    }
   },
   "outputs": [
    {
     "data": {
      "text/plain": [
       "2097"
      ]
     },
     "execution_count": 82,
     "metadata": {},
     "output_type": "execute_result"
    }
   ],
   "source": [
    "df_tweets_all.tweet_tidy_1.str.count(\"rt \").sum()"
   ]
  },
  {
   "cell_type": "code",
   "execution_count": 84,
   "metadata": {
    "ExecuteTime": {
     "end_time": "2020-02-10T14:32:06.364634Z",
     "start_time": "2020-02-10T14:32:06.291805Z"
    }
   },
   "outputs": [
    {
     "data": {
      "text/plain": [
       "11738"
      ]
     },
     "execution_count": 84,
     "metadata": {},
     "output_type": "execute_result"
    }
   ],
   "source": [
    "df_tweets_all.tweet.str.count(\"RT \").sum()"
   ]
  },
  {
   "cell_type": "code",
   "execution_count": 92,
   "metadata": {
    "ExecuteTime": {
     "end_time": "2020-02-10T17:06:03.530364Z",
     "start_time": "2020-02-10T17:06:03.458920Z"
    }
   },
   "outputs": [
    {
     "data": {
      "text/plain": [
       "11738"
      ]
     },
     "execution_count": 92,
     "metadata": {},
     "output_type": "execute_result"
    }
   ],
   "source": [
    "df_tweets_all.tweet_tidy_1.str.count(\"RT \").sum()"
   ]
  },
  {
   "cell_type": "code",
   "execution_count": 93,
   "metadata": {
    "ExecuteTime": {
     "end_time": "2020-02-10T17:06:04.948372Z",
     "start_time": "2020-02-10T17:06:04.944489Z"
    }
   },
   "outputs": [
    {
     "data": {
      "text/plain": [
       "92853"
      ]
     },
     "execution_count": 93,
     "metadata": {},
     "output_type": "execute_result"
    }
   ],
   "source": [
    "len(df_tweets_all)"
   ]
  },
  {
   "cell_type": "code",
   "execution_count": 96,
   "metadata": {
    "ExecuteTime": {
     "end_time": "2020-02-10T17:07:27.615327Z",
     "start_time": "2020-02-10T17:07:27.543285Z"
    }
   },
   "outputs": [
    {
     "data": {
      "text/plain": [
       "95027"
      ]
     },
     "execution_count": 96,
     "metadata": {},
     "output_type": "execute_result"
    }
   ],
   "source": [
    "df_tweets_all.tweet_tidy_1.str.count(\"@\").sum()"
   ]
  },
  {
   "cell_type": "code",
   "execution_count": 97,
   "metadata": {
    "ExecuteTime": {
     "end_time": "2020-02-10T17:07:52.359179Z",
     "start_time": "2020-02-10T17:07:52.277631Z"
    }
   },
   "outputs": [
    {
     "data": {
      "text/plain": [
       "0         1\n",
       "1         2\n",
       "2         0\n",
       "3         0\n",
       "4         0\n",
       "         ..\n",
       "92848     1\n",
       "92849     0\n",
       "92850     1\n",
       "92851     1\n",
       "92852    16\n",
       "Name: tweet_tidy_1, Length: 92853, dtype: int64"
      ]
     },
     "execution_count": 97,
     "metadata": {},
     "output_type": "execute_result"
    }
   ],
   "source": [
    "df_tweets_all.tweet_tidy_1.str.count(\"@\")"
   ]
  },
  {
   "cell_type": "code",
   "execution_count": null,
   "metadata": {},
   "outputs": [],
   "source": []
  }
 ],
 "metadata": {
  "kernelspec": {
   "display_name": "Python 3",
   "language": "python",
   "name": "python3"
  },
  "language_info": {
   "codemirror_mode": {
    "name": "ipython",
    "version": 3
   },
   "file_extension": ".py",
   "mimetype": "text/x-python",
   "name": "python",
   "nbconvert_exporter": "python",
   "pygments_lexer": "ipython3",
   "version": "3.7.4"
  },
  "toc": {
   "base_numbering": 1,
   "nav_menu": {},
   "number_sections": true,
   "sideBar": true,
   "skip_h1_title": false,
   "title_cell": "Table of Contents",
   "title_sidebar": "Contents",
   "toc_cell": false,
   "toc_position": {},
   "toc_section_display": true,
   "toc_window_display": false
  },
  "varInspector": {
   "cols": {
    "lenName": 16,
    "lenType": 16,
    "lenVar": 40
   },
   "kernels_config": {
    "python": {
     "delete_cmd_postfix": "",
     "delete_cmd_prefix": "del ",
     "library": "var_list.py",
     "varRefreshCmd": "print(var_dic_list())"
    },
    "r": {
     "delete_cmd_postfix": ") ",
     "delete_cmd_prefix": "rm(",
     "library": "var_list.r",
     "varRefreshCmd": "cat(var_dic_list()) "
    }
   },
   "types_to_exclude": [
    "module",
    "function",
    "builtin_function_or_method",
    "instance",
    "_Feature"
   ],
   "window_display": false
  }
 },
 "nbformat": 4,
 "nbformat_minor": 2
}
