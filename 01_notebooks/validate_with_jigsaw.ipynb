{
 "cells": [
  {
   "cell_type": "code",
   "execution_count": 75,
   "metadata": {
    "ExecuteTime": {
     "end_time": "2020-03-08T06:41:32.271483Z",
     "start_time": "2020-03-08T06:41:32.269166Z"
    }
   },
   "outputs": [],
   "source": [
    "# predict testdata und jigswa Dta"
   ]
  },
  {
   "cell_type": "code",
   "execution_count": 76,
   "metadata": {
    "ExecuteTime": {
     "end_time": "2020-03-08T06:41:32.566348Z",
     "start_time": "2020-03-08T06:41:32.563717Z"
    }
   },
   "outputs": [],
   "source": [
    "import ktrain\n",
    "import re"
   ]
  },
  {
   "cell_type": "code",
   "execution_count": 77,
   "metadata": {
    "ExecuteTime": {
     "end_time": "2020-03-08T06:41:32.980431Z",
     "start_time": "2020-03-08T06:41:32.975686Z"
    }
   },
   "outputs": [],
   "source": [
    "import time\n",
    "import pandas as pd\n",
    "import numpy  as np\n",
    "import re\n",
    "from sklearn.metrics import confusion_matrix\n",
    "from sklearn.metrics import classification_report\n",
    "import scikitplot as skplt"
   ]
  },
  {
   "cell_type": "code",
   "execution_count": 78,
   "metadata": {
    "ExecuteTime": {
     "end_time": "2020-03-08T06:41:33.742506Z",
     "start_time": "2020-03-08T06:41:33.739655Z"
    }
   },
   "outputs": [],
   "source": [
    "# export df that for reuse\n",
    "outpath = '../data'\n",
    "outpath_predictor = '../predictor'\n",
    "filename = \"df_jigsaw_validation_20200307.csv\""
   ]
  },
  {
   "cell_type": "code",
   "execution_count": 79,
   "metadata": {
    "ExecuteTime": {
     "end_time": "2020-03-08T06:41:34.830999Z",
     "start_time": "2020-03-08T06:41:34.807286Z"
    }
   },
   "outputs": [],
   "source": [
    "df_jigsaw_validation = pd.read_csv(outpath + \"/\" + filename,\n",
    "                        encoding='utf-8')"
   ]
  },
  {
   "cell_type": "code",
   "execution_count": null,
   "metadata": {
    "ExecuteTime": {
     "end_time": "2020-03-08T06:51:13.490396Z",
     "start_time": "2020-03-08T06:51:13.475523Z"
    }
   },
   "outputs": [],
   "source": [
    "df_jigsaw_validation.tail(10)"
   ]
  },
  {
   "cell_type": "code",
   "execution_count": 129,
   "metadata": {
    "ExecuteTime": {
     "end_time": "2020-03-08T18:31:08.644860Z",
     "start_time": "2020-03-08T18:29:59.022172Z"
    }
   },
   "outputs": [],
   "source": [
    "predictor = ktrain.load_predictor(outpath_predictor + \"/\" + 'dectet_hatespeech_79000_ep_1')"
   ]
  },
  {
   "cell_type": "code",
   "execution_count": null,
   "metadata": {
    "ExecuteTime": {
     "end_time": "2020-03-08T09:37:03.731346Z",
     "start_time": "2020-03-08T09:33:24.856442Z"
    }
   },
   "outputs": [],
   "source": [
    "df_jigsaw_validation['pred_bert'] = df_jigsaw_validation['tweet_tidy_1'].apply(predictor.predict,return_proba=True)"
   ]
  },
  {
   "cell_type": "code",
   "execution_count": 90,
   "metadata": {
    "ExecuteTime": {
     "end_time": "2020-03-08T07:17:53.854033Z",
     "start_time": "2020-03-08T07:17:53.848036Z"
    }
   },
   "outputs": [],
   "source": [
    "def set_bert_label(input_predArray):\n",
    "    print(input_predArray)\n",
    "    return (0 if input_predArray[0] >= 0.5 else  1)\n"
   ]
  },
  {
   "cell_type": "code",
   "execution_count": null,
   "metadata": {
    "ExecuteTime": {
     "end_time": "2020-03-08T09:42:06.581331Z",
     "start_time": "2020-03-08T09:42:06.412811Z"
    }
   },
   "outputs": [],
   "source": [
    "df_jigsaw_validation['pred_bert_clean'] = df_jigsaw_validation['pred_bert'].apply(set_bert_label)"
   ]
  },
  {
   "cell_type": "code",
   "execution_count": 111,
   "metadata": {
    "ExecuteTime": {
     "end_time": "2020-03-08T09:42:11.461667Z",
     "start_time": "2020-03-08T09:42:11.456258Z"
    }
   },
   "outputs": [
    {
     "data": {
      "text/plain": [
       "0    625\n",
       "1    375\n",
       "Name: pred_bert_clean_3, dtype: int64"
      ]
     },
     "execution_count": 111,
     "metadata": {},
     "output_type": "execute_result"
    }
   ],
   "source": [
    "df_jigsaw_validation['pred_bert_clean'].value_counts()"
   ]
  },
  {
   "cell_type": "code",
   "execution_count": 113,
   "metadata": {
    "ExecuteTime": {
     "end_time": "2020-03-08T09:42:20.969845Z",
     "start_time": "2020-03-08T09:42:20.967261Z"
    }
   },
   "outputs": [],
   "source": [
    "y_true = df_jigsaw_validation['hate']\n",
    "y_pred = df_jigsaw_validation['pred_bert_clean']"
   ]
  },
  {
   "cell_type": "code",
   "execution_count": 71,
   "metadata": {
    "ExecuteTime": {
     "end_time": "2020-03-08T06:29:07.317343Z",
     "start_time": "2020-03-08T06:29:07.308617Z"
    }
   },
   "outputs": [
    {
     "name": "stdout",
     "output_type": "stream",
     "text": [
      "              precision    recall  f1-score   support\n",
      "\n",
      "           0       0.81      0.94      0.87       500\n",
      "           1       0.93      0.77      0.85       500\n",
      "\n",
      "    accuracy                           0.86      1000\n",
      "   macro avg       0.87      0.86      0.86      1000\n",
      "weighted avg       0.87      0.86      0.86      1000\n",
      "\n"
     ]
    }
   ],
   "source": [
    "print(classification_report(y_true, y_pred))"
   ]
  },
  {
   "cell_type": "code",
   "execution_count": 115,
   "metadata": {
    "ExecuteTime": {
     "end_time": "2020-03-08T09:43:19.318874Z",
     "start_time": "2020-03-08T09:43:19.140236Z"
    }
   },
   "outputs": [
    {
     "data": {
      "text/plain": [
       "<matplotlib.axes._subplots.AxesSubplot at 0x39a18ad50>"
      ]
     },
     "execution_count": 115,
     "metadata": {},
     "output_type": "execute_result"
    },
    {
     "data": {
      "image/png": "[encoded data removed]",
      "text/plain": [
       "<Figure size 432x288 with 2 Axes>"
      ]
     },
     "metadata": {
      "needs_background": "light"
     },
     "output_type": "display_data"
    }
   ],
   "source": [
    "skplt.metrics.plot_confusion_matrix(y_true, y_pred, normalize=True)"
   ]
  },
  {
   "cell_type": "code",
   "execution_count": 116,
   "metadata": {
    "ExecuteTime": {
     "end_time": "2020-03-08T09:43:47.818117Z",
     "start_time": "2020-03-08T09:43:47.812132Z"
    }
   },
   "outputs": [
    {
     "data": {
      "text/plain": [
       "array([[475,  25],\n",
       "       [150, 350]])"
      ]
     },
     "execution_count": 116,
     "metadata": {},
     "output_type": "execute_result"
    }
   ],
   "source": [
    "confusion_matrix(y_true, y_pred, normalize = True)"
   ]
  },
  {
   "cell_type": "code",
   "execution_count": null,
   "metadata": {},
   "outputs": [],
   "source": []
  },
  {
   "cell_type": "code",
   "execution_count": 125,
   "metadata": {
    "ExecuteTime": {
     "end_time": "2020-03-08T18:24:25.942110Z",
     "start_time": "2020-03-08T18:24:25.938442Z"
    }
   },
   "outputs": [],
   "source": [
    "test_data = ['happy sunshine in my world. whish  you the best',\n",
    "             'you stuipid asshole motherfucker cocksucker',\n",
    "             'I am a man',\n",
    "             'I am a woman', \n",
    "             'I am a lesbian', \n",
    "             'I am a gay', \n",
    "             'I am a gay man', \n",
    "             'I am dyke', \n",
    "             'I am a white man', \n",
    "             'I am a gay woman',\n",
    "             'I am a white woman', \n",
    "             'I am a gay white man', \n",
    "             'I am a black man',\n",
    "             'I am a gay black man', \n",
    "             'I am a black woman', \n",
    "             'I am a black gay woman',\n",
    "             'Poor white kids being forced to treat apes and parasites as their equals.',\n",
    "             'Islam is a false religion however unlike some other false religions it is crude and appeals to crude people such as arabs.',\n",
    "             'I am musilm and like the islam']"
   ]
  },
  {
   "cell_type": "code",
   "execution_count": 128,
   "metadata": {
    "ExecuteTime": {
     "end_time": "2020-03-08T18:27:51.932880Z",
     "start_time": "2020-03-08T18:27:40.604083Z"
    }
   },
   "outputs": [
    {
     "data": {
      "text/html": [],
      "text/plain": [
       "<IPython.core.display.HTML object>"
      ]
     },
     "metadata": {},
     "output_type": "display_data"
    },
    {
     "data": {
      "text/plain": [
       "array([[9.9947423e-01, 5.2573491e-04],\n",
       "       [8.3491663e-03, 9.9165076e-01],\n",
       "       [9.9189055e-01, 8.1094205e-03],\n",
       "       [9.7788405e-01, 2.2116024e-02],\n",
       "       [9.9436629e-01, 5.6337365e-03],\n",
       "       [9.9089199e-01, 9.1080628e-03],\n",
       "       [9.9404019e-01, 5.9597860e-03],\n",
       "       [8.3576757e-03, 9.9164236e-01],\n",
       "       [9.9697745e-01, 3.0225802e-03],\n",
       "       [9.9691868e-01, 3.0813713e-03],\n",
       "       [9.9495900e-01, 5.0410237e-03],\n",
       "       [9.9560237e-01, 4.3976679e-03],\n",
       "       [9.4725102e-01, 5.2748911e-02],\n",
       "       [9.8992187e-01, 1.0078058e-02],\n",
       "       [8.0594635e-01, 1.9405368e-01],\n",
       "       [9.8765576e-01, 1.2344166e-02],\n",
       "       [7.4076109e-02, 9.2592382e-01],\n",
       "       [4.1951882e-03, 9.9580485e-01],\n",
       "       [9.7749466e-01, 2.2505360e-02]], dtype=float32)"
      ]
     },
     "execution_count": 128,
     "metadata": {},
     "output_type": "execute_result"
    }
   ],
   "source": [
    "predictor.predict_proba(test_data)"
   ]
  },
  {
   "cell_type": "code",
   "execution_count": 130,
   "metadata": {
    "ExecuteTime": {
     "end_time": "2020-03-08T18:31:56.983621Z",
     "start_time": "2020-03-08T18:31:44.707793Z"
    }
   },
   "outputs": [
    {
     "data": {
      "text/html": [],
      "text/plain": [
       "<IPython.core.display.HTML object>"
      ]
     },
     "metadata": {},
     "output_type": "display_data"
    },
    {
     "data": {
      "text/plain": [
       "array([[0.99449795, 0.00550206],\n",
       "       [0.00628152, 0.9937185 ],\n",
       "       [0.9451113 , 0.05488876],\n",
       "       [0.8184348 , 0.18156518],\n",
       "       [0.6614897 , 0.33851022],\n",
       "       [0.7679186 , 0.23208143],\n",
       "       [0.843538  , 0.15646201],\n",
       "       [0.05846157, 0.9415384 ],\n",
       "       [0.6046983 , 0.39530167],\n",
       "       [0.78662145, 0.21337861],\n",
       "       [0.4929344 , 0.5070656 ],\n",
       "       [0.57568717, 0.4243128 ],\n",
       "       [0.5591903 , 0.44080973],\n",
       "       [0.6005981 , 0.39940193],\n",
       "       [0.44555563, 0.5544444 ],\n",
       "       [0.49295178, 0.5070482 ],\n",
       "       [0.4651826 , 0.53481734],\n",
       "       [0.11205959, 0.88794035],\n",
       "       [0.55266804, 0.4473319 ]], dtype=float32)"
      ]
     },
     "execution_count": 130,
     "metadata": {},
     "output_type": "execute_result"
    }
   ],
   "source": [
    "predictor.predict_proba(test_data)"
   ]
  },
  {
   "cell_type": "code",
   "execution_count": null,
   "metadata": {},
   "outputs": [],
   "source": []
  }
 ],
 "metadata": {
  "kernelspec": {
   "display_name": "Python 3",
   "language": "python",
   "name": "python3"
  },
  "language_info": {
   "codemirror_mode": {
    "name": "ipython",
    "version": 3
   },
   "file_extension": ".py",
   "mimetype": "text/x-python",
   "name": "python",
   "nbconvert_exporter": "python",
   "pygments_lexer": "ipython3",
   "version": "3.7.4"
  },
  "toc": {
   "base_numbering": 1,
   "nav_menu": {},
   "number_sections": true,
   "sideBar": true,
   "skip_h1_title": false,
   "title_cell": "Table of Contents",
   "title_sidebar": "Contents",
   "toc_cell": false,
   "toc_position": {},
   "toc_section_display": true,
   "toc_window_display": false
  },
  "varInspector": {
   "cols": {
    "lenName": 16,
    "lenType": 16,
    "lenVar": 40
   },
   "kernels_config": {
    "python": {
     "delete_cmd_postfix": "",
     "delete_cmd_prefix": "del ",
     "library": "var_list.py",
     "varRefreshCmd": "print(var_dic_list())"
    },
    "r": {
     "delete_cmd_postfix": ") ",
     "delete_cmd_prefix": "rm(",
     "library": "var_list.r",
     "varRefreshCmd": "cat(var_dic_list()) "
    }
   },
   "types_to_exclude": [
    "module",
    "function",
    "builtin_function_or_method",
    "instance",
    "_Feature"
   ],
   "window_display": false
  }
 },
 "nbformat": 4,
 "nbformat_minor": 2
}
