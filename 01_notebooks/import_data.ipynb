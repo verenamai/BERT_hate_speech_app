{
 "cells": [
  {
   "cell_type": "code",
   "execution_count": 80,
   "metadata": {
    "ExecuteTime": {
     "end_time": "2020-03-01T09:40:31.786323Z",
     "start_time": "2020-03-01T09:40:31.783775Z"
    }
   },
   "outputs": [],
   "source": [
    "import pandas as pd\n",
    "import time"
   ]
  },
  {
   "cell_type": "code",
   "execution_count": 81,
   "metadata": {
    "ExecuteTime": {
     "end_time": "2020-03-01T09:40:32.150117Z",
     "start_time": "2020-03-01T09:40:32.147038Z"
    }
   },
   "outputs": [],
   "source": [
    "# \"If max_cols is exceeded, switch to truncate view\"\n",
    "pd.set_option('display.max_columns', 5400)\n",
    "# \"The maximum width in characters of a column\"\n",
    "pd.set_option('display.max_colwidth', 500)"
   ]
  },
  {
   "cell_type": "code",
   "execution_count": 82,
   "metadata": {
    "ExecuteTime": {
     "end_time": "2020-03-01T09:40:32.613874Z",
     "start_time": "2020-03-01T09:40:32.509121Z"
    }
   },
   "outputs": [],
   "source": [
    "df_cas_pml_tweets = pd.read_csv('../data/cas_pml_tweets_concat.csv', \n",
    "                        delimiter='|',encoding='utf-8', usecols = [\"tweet\", \"label_all\"])"
   ]
  },
  {
   "cell_type": "code",
   "execution_count": null,
   "metadata": {
    "ExecuteTime": {
     "end_time": "2020-03-01T09:40:32.943784Z",
     "start_time": "2020-03-01T09:40:32.934754Z"
    }
   },
   "outputs": [],
   "source": [
    "df_cas_pml_tweets"
   ]
  },
  {
   "cell_type": "code",
   "execution_count": 84,
   "metadata": {
    "ExecuteTime": {
     "end_time": "2020-03-01T09:40:33.482470Z",
     "start_time": "2020-03-01T09:40:33.475872Z"
    }
   },
   "outputs": [
    {
     "data": {
      "text/plain": [
       "0    50726\n",
       "1    28887\n",
       "Name: label_all, dtype: int64"
      ]
     },
     "execution_count": 84,
     "metadata": {},
     "output_type": "execute_result"
    }
   ],
   "source": [
    "df_cas_pml_tweets['label_all'].value_counts()"
   ]
  },
  {
   "cell_type": "code",
   "execution_count": 85,
   "metadata": {
    "ExecuteTime": {
     "end_time": "2020-03-01T09:40:33.934936Z",
     "start_time": "2020-03-01T09:40:33.914853Z"
    }
   },
   "outputs": [],
   "source": [
    "df_storm = pd.read_csv('../data/merged_result_frame.csv', \n",
    "                        delimiter='|',encoding='utf-8', usecols = [\"text\", \"label\" , 'text_length'])\n",
    "\n",
    "\n",
    "\n"
   ]
  },
  {
   "cell_type": "code",
   "execution_count": null,
   "metadata": {
    "ExecuteTime": {
     "end_time": "2020-03-01T09:40:34.559723Z",
     "start_time": "2020-03-01T09:40:34.548557Z"
    }
   },
   "outputs": [],
   "source": [
    "df_storm"
   ]
  },
  {
   "cell_type": "code",
   "execution_count": 87,
   "metadata": {
    "ExecuteTime": {
     "end_time": "2020-03-01T09:40:35.220977Z",
     "start_time": "2020-03-01T09:40:35.214351Z"
    }
   },
   "outputs": [
    {
     "data": {
      "text/plain": [
       "noHate      9506\n",
       "hate        1196\n",
       "relation     168\n",
       "idk/skip      73\n",
       "Name: label, dtype: int64"
      ]
     },
     "execution_count": 87,
     "metadata": {},
     "output_type": "execute_result"
    }
   ],
   "source": [
    "df_storm['label'].value_counts()"
   ]
  },
  {
   "cell_type": "code",
   "execution_count": 88,
   "metadata": {
    "ExecuteTime": {
     "end_time": "2020-03-01T09:40:35.962668Z",
     "start_time": "2020-03-01T09:40:35.956208Z"
    }
   },
   "outputs": [],
   "source": [
    "df_storm.drop(df_storm[df_storm['label'] == 'relation'].index, inplace = True) "
   ]
  },
  {
   "cell_type": "code",
   "execution_count": 89,
   "metadata": {
    "ExecuteTime": {
     "end_time": "2020-03-01T09:40:36.540969Z",
     "start_time": "2020-03-01T09:40:36.534911Z"
    }
   },
   "outputs": [],
   "source": [
    "df_storm.drop(df_storm[df_storm['label'] == 'idk/skip'].index, inplace = True) "
   ]
  },
  {
   "cell_type": "code",
   "execution_count": 90,
   "metadata": {
    "ExecuteTime": {
     "end_time": "2020-03-01T09:40:37.071230Z",
     "start_time": "2020-03-01T09:40:37.067383Z"
    }
   },
   "outputs": [],
   "source": [
    "df_storm.drop(['text_length'], axis=1, inplace = True)"
   ]
  },
  {
   "cell_type": "code",
   "execution_count": 93,
   "metadata": {
    "ExecuteTime": {
     "end_time": "2020-03-01T09:40:40.118458Z",
     "start_time": "2020-03-01T09:40:40.114578Z"
    }
   },
   "outputs": [
    {
     "data": {
      "text/plain": [
       "10702"
      ]
     },
     "execution_count": 93,
     "metadata": {},
     "output_type": "execute_result"
    }
   ],
   "source": [
    "len(df_storm)"
   ]
  },
  {
   "cell_type": "code",
   "execution_count": 94,
   "metadata": {
    "ExecuteTime": {
     "end_time": "2020-03-01T09:40:40.999137Z",
     "start_time": "2020-03-01T09:40:40.995965Z"
    }
   },
   "outputs": [],
   "source": [
    "def conditions(s):\n",
    "    if (s['label'] == 'hate'):\n",
    "        return 1\n",
    "    else:\n",
    "        return 0"
   ]
  },
  {
   "cell_type": "code",
   "execution_count": null,
   "metadata": {
    "ExecuteTime": {
     "end_time": "2020-03-01T09:40:41.720975Z",
     "start_time": "2020-03-01T09:40:41.674361Z"
    }
   },
   "outputs": [],
   "source": [
    "df_storm['label'] = df_storm.apply(conditions, axis=1)"
   ]
  },
  {
   "cell_type": "code",
   "execution_count": 92,
   "metadata": {
    "ExecuteTime": {
     "end_time": "2020-03-01T09:40:39.422421Z",
     "start_time": "2020-03-01T09:40:39.419438Z"
    }
   },
   "outputs": [],
   "source": [
    "df_storm.columns = ['tweet', 'label_all']"
   ]
  },
  {
   "cell_type": "code",
   "execution_count": 45,
   "metadata": {
    "ExecuteTime": {
     "end_time": "2020-03-01T09:26:06.308000Z",
     "start_time": "2020-03-01T09:26:06.281202Z"
    }
   },
   "outputs": [],
   "source": [
    "df_olid = pd.read_csv('../data/olid_changed.csv', \n",
    "                        delimiter='|',encoding='utf-8')"
   ]
  },
  {
   "cell_type": "code",
   "execution_count": null,
   "metadata": {
    "ExecuteTime": {
     "end_time": "2020-03-01T09:26:11.063857Z",
     "start_time": "2020-03-01T09:26:11.049945Z"
    }
   },
   "outputs": [],
   "source": [
    "df_olid"
   ]
  },
  {
   "cell_type": "code",
   "execution_count": 55,
   "metadata": {
    "ExecuteTime": {
     "end_time": "2020-03-01T09:34:21.982886Z",
     "start_time": "2020-03-01T09:34:21.975946Z"
    }
   },
   "outputs": [
    {
     "name": "stdout",
     "output_type": "stream",
     "text": [
      "done with change concat\n"
     ]
    }
   ],
   "source": [
    "pdList = [df_cas_pml_tweets, df_storm, df_storm]  # List of your dataframes\n",
    "df_tweets_all = pd.concat(pdList, join='inner', sort=False)\n",
    "\n",
    "print('done with change concat')"
   ]
  },
  {
   "cell_type": "code",
   "execution_count": 63,
   "metadata": {
    "ExecuteTime": {
     "end_time": "2020-03-01T09:35:45.205914Z",
     "start_time": "2020-03-01T09:35:45.202783Z"
    }
   },
   "outputs": [
    {
     "name": "stdout",
     "output_type": "stream",
     "text": [
      "length df_all: 101007\n"
     ]
    }
   ],
   "source": [
    "print('length df_tweets_all: ' + str(len(df_tweets_all)))"
   ]
  },
  {
   "cell_type": "code",
   "execution_count": 65,
   "metadata": {
    "ExecuteTime": {
     "end_time": "2020-03-01T09:37:01.568750Z",
     "start_time": "2020-03-01T09:37:01.563210Z"
    }
   },
   "outputs": [
    {
     "name": "stdout",
     "output_type": "stream",
     "text": [
      "0    69728\n",
      "1    31279\n",
      "Name: label_all, dtype: int64\n"
     ]
    }
   ],
   "source": [
    "print(df_tweets_all['label_all'].value_counts())"
   ]
  },
  {
   "cell_type": "code",
   "execution_count": null,
   "metadata": {},
   "outputs": [],
   "source": [
    "print('done')"
   ]
  }
 ],
 "metadata": {
  "kernelspec": {
   "display_name": "Python 3",
   "language": "python",
   "name": "python3"
  },
  "language_info": {
   "codemirror_mode": {
    "name": "ipython",
    "version": 3
   },
   "file_extension": ".py",
   "mimetype": "text/x-python",
   "name": "python",
   "nbconvert_exporter": "python",
   "pygments_lexer": "ipython3",
   "version": "3.7.4"
  },
  "toc": {
   "base_numbering": 1,
   "nav_menu": {},
   "number_sections": true,
   "sideBar": true,
   "skip_h1_title": false,
   "title_cell": "Table of Contents",
   "title_sidebar": "Contents",
   "toc_cell": false,
   "toc_position": {},
   "toc_section_display": true,
   "toc_window_display": false
  },
  "varInspector": {
   "cols": {
    "lenName": 16,
    "lenType": 16,
    "lenVar": 40
   },
   "kernels_config": {
    "python": {
     "delete_cmd_postfix": "",
     "delete_cmd_prefix": "del ",
     "library": "var_list.py",
     "varRefreshCmd": "print(var_dic_list())"
    },
    "r": {
     "delete_cmd_postfix": ") ",
     "delete_cmd_prefix": "rm(",
     "library": "var_list.r",
     "varRefreshCmd": "cat(var_dic_list()) "
    }
   },
   "types_to_exclude": [
    "module",
    "function",
    "builtin_function_or_method",
    "instance",
    "_Feature"
   ],
   "window_display": false
  }
 },
 "nbformat": 4,
 "nbformat_minor": 2
}
