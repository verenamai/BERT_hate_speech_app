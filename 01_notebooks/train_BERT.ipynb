{
 "cells": [
  {
   "cell_type": "code",
   "execution_count": 2,
   "metadata": {
    "ExecuteTime": {
     "end_time": "2020-03-01T10:30:57.584721Z",
     "start_time": "2020-03-01T10:30:27.060487Z"
    }
   },
   "outputs": [
    {
     "name": "stdout",
     "output_type": "stream",
     "text": [
      "done with change concat\n",
      "length df_tweets_all: 101017\n",
      "0    69738\n",
      "1    31279\n",
      "Name: label_all, dtype: int64\n",
      "done\n",
      "replaced = hello world this replaced_url is a sentence replaced_url with replaced_url urls replaced_url\n",
      "done\n"
     ]
    }
   ],
   "source": [
    "%run preprocess_data.ipynb"
   ]
  },
  {
   "cell_type": "code",
   "execution_count": null,
   "metadata": {
    "ExecuteTime": {
     "end_time": "2020-03-01T10:31:40.753731Z",
     "start_time": "2020-03-01T10:31:38.954523Z"
    }
   },
   "outputs": [],
   "source": [
    "import ktrain\n",
    "from ktrain import text\n",
    "from keras.models import load_model"
   ]
  },
  {
   "cell_type": "code",
   "execution_count": 21,
   "metadata": {
    "ExecuteTime": {
     "end_time": "2020-03-03T07:42:23.099065Z",
     "start_time": "2020-03-03T07:42:23.092203Z"
    }
   },
   "outputs": [
    {
     "name": "stdout",
     "output_type": "stream",
     "text": [
      "../predictor/dectet_hatespeech_full_ep_3_20200303\n"
     ]
    }
   ],
   "source": [
    "outpath_model = '../models'\n",
    "outpath_predictor = '../predictor'\n",
    "\n",
    "filename = \"df_tweets_all\"+(time.strftime(\"%Y%m%d\")+\".csv\")\n",
    "\n",
    "predictorname  = \"dectet_hatespeech_full_ep_3_\"+(time.strftime(\"%Y%m%d\"))\n",
    "\n",
    "print(outpath_predictor + \"/\" + predictorname)"
   ]
  },
  {
   "cell_type": "code",
   "execution_count": 12,
   "metadata": {
    "ExecuteTime": {
     "end_time": "2020-03-01T10:42:27.258866Z",
     "start_time": "2020-03-01T10:42:04.625438Z"
    }
   },
   "outputs": [
    {
     "name": "stdout",
     "output_type": "stream",
     "text": [
      "CPU times: user 3 µs, sys: 1 µs, total: 4 µs\n",
      "Wall time: 6.91 µs\n",
      "preprocessing train...\n",
      "language: en\n"
     ]
    },
    {
     "data": {
      "text/html": [
       "done."
      ],
      "text/plain": [
       "<IPython.core.display.HTML object>"
      ]
     },
     "metadata": {},
     "output_type": "display_data"
    },
    {
     "name": "stdout",
     "output_type": "stream",
     "text": [
      "preprocessing test...\n",
      "language: en\n"
     ]
    },
    {
     "data": {
      "text/html": [
       "done."
      ],
      "text/plain": [
       "<IPython.core.display.HTML object>"
      ]
     },
     "metadata": {},
     "output_type": "display_data"
    }
   ],
   "source": [
    "%time\n",
    "(x_train, y_train), (x_test, y_test), preproc = text.texts_from_df(df_tweets_all,\n",
    "                                                                  'tweet_tidy_1',\n",
    "                                                                   maxlen=125, \n",
    "                                                                   preprocess_mode='bert',\n",
    "                                                                   label_columns =['label_all'])"
   ]
  },
  {
   "cell_type": "code",
   "execution_count": 13,
   "metadata": {
    "ExecuteTime": {
     "end_time": "2020-03-01T10:43:14.885266Z",
     "start_time": "2020-03-01T10:42:43.826581Z"
    }
   },
   "outputs": [
    {
     "name": "stdout",
     "output_type": "stream",
     "text": [
      "Is Multi-Label? False\n",
      "maxlen is 125\n",
      "done.\n"
     ]
    }
   ],
   "source": [
    "model = text.text_classifier('bert', \n",
    "                             (x_train, y_train), \n",
    "                             preproc=preproc)"
   ]
  },
  {
   "cell_type": "code",
   "execution_count": 14,
   "metadata": {
    "ExecuteTime": {
     "end_time": "2020-03-01T10:43:17.428707Z",
     "start_time": "2020-03-01T10:43:16.024182Z"
    }
   },
   "outputs": [],
   "source": [
    "learner = ktrain.get_learner(model,train_data=(x_train, y_train), \n",
    "                             val_data=(x_test, y_test), \n",
    "                             batch_size=64)"
   ]
  },
  {
   "cell_type": "code",
   "execution_count": 60,
   "metadata": {
    "ExecuteTime": {
     "end_time": "2020-03-06T18:24:02.947602Z",
     "start_time": "2020-03-06T17:38:23.088456Z"
    }
   },
   "outputs": [
    {
     "name": "stdout",
     "output_type": "stream",
     "text": [
      "simulating training for different learning rates... this may take a few moments...\n",
      "Epoch 1/1024\n",
      " 6720/90915 [=>............................] - ETA: 9:25:02 - loss: 0.0564 - acc: 0.9812"
     ]
    }
   ],
   "source": [
    "learner.lr_find()"
   ]
  },
  {
   "cell_type": "code",
   "execution_count": 16,
   "metadata": {
    "ExecuteTime": {
     "end_time": "2020-03-02T20:25:34.738177Z",
     "start_time": "2020-03-01T10:57:04.647112Z"
    }
   },
   "outputs": [
    {
     "name": "stdout",
     "output_type": "stream",
     "text": [
      "\n",
      "\n",
      "begin training using onecycle policy with max lr of 2e-05...\n",
      "Train on 90915 samples, validate on 10102 samples\n",
      "Epoch 1/3\n",
      "90915/90915 [==============================] - 38065s 419ms/step - loss: 0.2633 - acc: 0.8889 - val_loss: 0.1880 - val_acc: 0.9241\n",
      "Epoch 2/3\n",
      "90915/90915 [==============================] - 38902s 428ms/step - loss: 0.1651 - acc: 0.9353 - val_loss: 0.1708 - val_acc: 0.9337\n",
      "Epoch 3/3\n",
      "90915/90915 [==============================] - 43543s 479ms/step - loss: 0.0903 - acc: 0.9673 - val_loss: 0.1533 - val_acc: 0.9479\n"
     ]
    },
    {
     "data": {
      "text/plain": [
       "<keras.callbacks.History at 0x1b8a09c50>"
      ]
     },
     "execution_count": 16,
     "metadata": {},
     "output_type": "execute_result"
    }
   ],
   "source": [
    "learner.fit_onecycle(2e-5, 3)"
   ]
  },
  {
   "cell_type": "code",
   "execution_count": 17,
   "metadata": {
    "ExecuteTime": {
     "end_time": "2020-03-03T07:42:01.740265Z",
     "start_time": "2020-03-03T07:18:25.025000Z"
    }
   },
   "outputs": [
    {
     "name": "stdout",
     "output_type": "stream",
     "text": [
      "              precision    recall  f1-score   support\n",
      "\n",
      "           0       0.96      0.97      0.96      6988\n",
      "           1       0.93      0.90      0.91      3114\n",
      "\n",
      "    accuracy                           0.95     10102\n",
      "   macro avg       0.94      0.94      0.94     10102\n",
      "weighted avg       0.95      0.95      0.95     10102\n",
      "\n"
     ]
    },
    {
     "data": {
      "text/plain": [
       "array([[6768,  220],\n",
       "       [ 306, 2808]])"
      ]
     },
     "execution_count": 17,
     "metadata": {},
     "output_type": "execute_result"
    }
   ],
   "source": [
    "learner.validate(val_data=(x_test, y_test), \n",
    "               #  class_names=['label_all'],\n",
    "                print_report=True)"
   ]
  },
  {
   "cell_type": "code",
   "execution_count": 18,
   "metadata": {
    "ExecuteTime": {
     "end_time": "2020-03-03T07:42:13.036733Z",
     "start_time": "2020-03-03T07:42:13.024274Z"
    }
   },
   "outputs": [],
   "source": [
    "predictor = ktrain.get_predictor(learner.model, preproc)"
   ]
  },
  {
   "cell_type": "code",
   "execution_count": 19,
   "metadata": {
    "ExecuteTime": {
     "end_time": "2020-03-03T07:42:17.548082Z",
     "start_time": "2020-03-03T07:42:17.543514Z"
    }
   },
   "outputs": [],
   "source": [
    "data = [ 'you stupid son of a bitch',\n",
    "         'Tyou can suck my dick your black nigger',\n",
    "        'fuck off',\n",
    "        'Nice to see you jewish bastrad',\n",
    "        'Black mother fucker',\n",
    "        '@USER Someone should veTaken\" this piece of shit to a volcano. 😂\"',\n",
    "        '@USER She should ask a few native Americans what their take on this is.',\n",
    "        '@USER @USER Go home you’re drunk!!! @USER #MAGA #Trump2020 👊🇺🇸👊 URL'\n",
    "         ]"
   ]
  },
  {
   "cell_type": "code",
   "execution_count": 22,
   "metadata": {
    "ExecuteTime": {
     "end_time": "2020-03-03T07:42:26.120124Z",
     "start_time": "2020-03-03T07:42:26.116046Z"
    }
   },
   "outputs": [
    {
     "data": {
      "text/plain": [
       "'dectet_hatespeech_full_ep_3_20200303'"
      ]
     },
     "execution_count": 22,
     "metadata": {},
     "output_type": "execute_result"
    }
   ],
   "source": [
    "predictorname"
   ]
  },
  {
   "cell_type": "code",
   "execution_count": 23,
   "metadata": {
    "ExecuteTime": {
     "end_time": "2020-03-03T07:42:31.132241Z",
     "start_time": "2020-03-03T07:42:27.775872Z"
    }
   },
   "outputs": [],
   "source": [
    "model.save(predictorname)"
   ]
  },
  {
   "cell_type": "code",
   "execution_count": 61,
   "metadata": {
    "ExecuteTime": {
     "end_time": "2020-03-06T19:03:34.113226Z",
     "start_time": "2020-03-06T19:03:32.314245Z"
    }
   },
   "outputs": [],
   "source": [
    "predictor.save(predictorname)"
   ]
  },
  {
   "cell_type": "code",
   "execution_count": 24,
   "metadata": {
    "ExecuteTime": {
     "end_time": "2020-03-03T07:43:05.486520Z",
     "start_time": "2020-03-03T07:43:04.149588Z"
    }
   },
   "outputs": [
    {
     "data": {
      "text/html": [],
      "text/plain": [
       "<IPython.core.display.HTML object>"
      ]
     },
     "metadata": {},
     "output_type": "display_data"
    },
    {
     "data": {
      "text/plain": [
       "array([[0.00101226, 0.99898773],\n",
       "       [0.00113858, 0.99886143],\n",
       "       [0.14234313, 0.85765684],\n",
       "       [0.98801243, 0.01198756],\n",
       "       [0.01170991, 0.9882901 ],\n",
       "       [0.9227954 , 0.07720462],\n",
       "       [0.9808138 , 0.01918627],\n",
       "       [0.20315288, 0.7968471 ]], dtype=float32)"
      ]
     },
     "execution_count": 24,
     "metadata": {},
     "output_type": "execute_result"
    }
   ],
   "source": [
    "predictor.predict_proba(data)"
   ]
  }
 ],
 "metadata": {
  "kernelspec": {
   "display_name": "Python 3",
   "language": "python",
   "name": "python3"
  },
  "language_info": {
   "codemirror_mode": {
    "name": "ipython",
    "version": 3
   },
   "file_extension": ".py",
   "mimetype": "text/x-python",
   "name": "python",
   "nbconvert_exporter": "python",
   "pygments_lexer": "ipython3",
   "version": "3.7.4"
  },
  "toc": {
   "base_numbering": 1,
   "nav_menu": {},
   "number_sections": true,
   "sideBar": true,
   "skip_h1_title": false,
   "title_cell": "Table of Contents",
   "title_sidebar": "Contents",
   "toc_cell": false,
   "toc_position": {},
   "toc_section_display": true,
   "toc_window_display": false
  },
  "varInspector": {
   "cols": {
    "lenName": 16,
    "lenType": 16,
    "lenVar": 40
   },
   "kernels_config": {
    "python": {
     "delete_cmd_postfix": "",
     "delete_cmd_prefix": "del ",
     "library": "var_list.py",
     "varRefreshCmd": "print(var_dic_list())"
    },
    "r": {
     "delete_cmd_postfix": ") ",
     "delete_cmd_prefix": "rm(",
     "library": "var_list.r",
     "varRefreshCmd": "cat(var_dic_list()) "
    }
   },
   "types_to_exclude": [
    "module",
    "function",
    "builtin_function_or_method",
    "instance",
    "_Feature"
   ],
   "window_display": false
  }
 },
 "nbformat": 4,
 "nbformat_minor": 2
}
