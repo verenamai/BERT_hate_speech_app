{
 "cells": [
  {
   "cell_type": "code",
   "execution_count": 33,
   "metadata": {
    "ExecuteTime": {
     "end_time": "2020-01-01T18:04:44.920431Z",
     "start_time": "2020-01-01T18:04:44.917560Z"
    }
   },
   "outputs": [],
   "source": [
    "import numpy as np\n",
    "import pandas as pd\n",
    "import time\n",
    "\n",
    "import ktrain\n",
    "from ktrain import text\n",
    "from keras.models import load_model\n",
    "\n",
    "import sklearn"
   ]
  },
  {
   "cell_type": "code",
   "execution_count": 89,
   "metadata": {
    "ExecuteTime": {
     "end_time": "2020-01-02T14:52:58.946007Z",
     "start_time": "2020-01-02T14:52:58.941577Z"
    }
   },
   "outputs": [],
   "source": [
    "#path for export data\n",
    "outpath_predictor = '../predictor'\n",
    "outpath_pics = '../pics'\n",
    "\n",
    "predictorname  = \"dectet_hatespeech_1000_ep_5_\"+(time.strftime(\"%Y%m%d\"))\n",
    "\n",
    "heatmapname = 'heatmap_1000_ep_5_'+(time.strftime(\"%Y%m%d\")) +'.jpg'\n",
    "\n",
    "\n"
   ]
  },
  {
   "cell_type": "code",
   "execution_count": 29,
   "metadata": {
    "ExecuteTime": {
     "end_time": "2020-01-01T17:50:15.075468Z",
     "start_time": "2020-01-01T17:50:14.990634Z"
    }
   },
   "outputs": [
    {
     "name": "stdout",
     "output_type": "stream",
     "text": [
      "done with import train-file\n"
     ]
    }
   ],
   "source": [
    "df_tweets = pd.read_csv('../data/df_tweets_final_20200101.csv', sep = '|')\n",
    "\n",
    "print('done with import train-file')"
   ]
  },
  {
   "cell_type": "code",
   "execution_count": null,
   "metadata": {
    "ExecuteTime": {
     "end_time": "2020-01-01T17:50:17.198459Z",
     "start_time": "2020-01-01T17:50:17.187525Z"
    }
   },
   "outputs": [],
   "source": [
    "df_tweets.sample(10)"
   ]
  },
  {
   "cell_type": "code",
   "execution_count": 9,
   "metadata": {
    "ExecuteTime": {
     "end_time": "2020-01-01T17:24:02.034002Z",
     "start_time": "2020-01-01T17:24:02.028319Z"
    }
   },
   "outputs": [],
   "source": [
    "df_tweets_1000 = df_tweets.sample(1000)"
   ]
  },
  {
   "cell_type": "code",
   "execution_count": 34,
   "metadata": {
    "ExecuteTime": {
     "end_time": "2020-01-01T18:04:49.128089Z",
     "start_time": "2020-01-01T18:04:49.113468Z"
    }
   },
   "outputs": [
    {
     "name": "stdout",
     "output_type": "stream",
     "text": [
      "../data/df_tweets_1000_20200101.csv\n"
     ]
    }
   ],
   "source": [
    "#save dataframe to csv for traceability\n",
    "filename = \"df_tweets_1000_\"+(time.strftime(\"%Y%m%d\")+\".csv\")\n",
    "\n",
    "df_tweets_1000.to_csv(outpath_data + \"/\" + filename, sep = '|')\n",
    "\n",
    "print(outpath_data + \"/\" + filename)"
   ]
  },
  {
   "cell_type": "code",
   "execution_count": 13,
   "metadata": {
    "ExecuteTime": {
     "end_time": "2020-01-01T17:25:54.066291Z",
     "start_time": "2020-01-01T17:25:54.060618Z"
    }
   },
   "outputs": [
    {
     "data": {
      "text/plain": [
       "0    635\n",
       "1    365\n",
       "Name: label_all, dtype: int64"
      ]
     },
     "execution_count": 13,
     "metadata": {},
     "output_type": "execute_result"
    }
   ],
   "source": [
    "df_tweets_1000['label_all'].value_counts()"
   ]
  },
  {
   "cell_type": "code",
   "execution_count": 41,
   "metadata": {
    "ExecuteTime": {
     "end_time": "2020-01-01T19:12:34.647479Z",
     "start_time": "2020-01-01T19:12:34.125417Z"
    }
   },
   "outputs": [
    {
     "name": "stdout",
     "output_type": "stream",
     "text": [
      "preprocessing train...\n",
      "language: en\n"
     ]
    },
    {
     "data": {
      "text/html": [
       "done."
      ],
      "text/plain": [
       "<IPython.core.display.HTML object>"
      ]
     },
     "metadata": {},
     "output_type": "display_data"
    },
    {
     "name": "stdout",
     "output_type": "stream",
     "text": [
      "preprocessing test...\n",
      "language: en\n"
     ]
    },
    {
     "data": {
      "text/html": [
       "done."
      ],
      "text/plain": [
       "<IPython.core.display.HTML object>"
      ]
     },
     "metadata": {},
     "output_type": "display_data"
    }
   ],
   "source": [
    "(x_train, y_train), (x_test, y_test), preproc = text.texts_from_df(df_tweets_1000,\n",
    "                                                                  'tweet_tidy',\n",
    "                                                                   maxlen=500, \n",
    "                                                                   preprocess_mode='bert',\n",
    "                                                                   label_columns =['label_all'])"
   ]
  },
  {
   "cell_type": "code",
   "execution_count": 42,
   "metadata": {
    "ExecuteTime": {
     "end_time": "2020-01-01T19:13:47.109288Z",
     "start_time": "2020-01-01T19:12:37.691723Z"
    }
   },
   "outputs": [
    {
     "name": "stdout",
     "output_type": "stream",
     "text": [
      "Is Multi-Label? False\n",
      "maxlen is 500\n",
      "done.\n"
     ]
    }
   ],
   "source": [
    "model = text.text_classifier('bert', \n",
    "                             (x_train, y_train), \n",
    "                             preproc=preproc)"
   ]
  },
  {
   "cell_type": "code",
   "execution_count": 43,
   "metadata": {
    "ExecuteTime": {
     "end_time": "2020-01-01T19:13:49.595065Z",
     "start_time": "2020-01-01T19:13:47.143281Z"
    }
   },
   "outputs": [],
   "source": [
    "learner = ktrain.get_learner(model,train_data=(x_train, y_train), \n",
    "                             val_data=(x_test, y_test), \n",
    "                             batch_size=6)"
   ]
  },
  {
   "cell_type": "code",
   "execution_count": 44,
   "metadata": {
    "ExecuteTime": {
     "end_time": "2020-01-01T22:59:22.427636Z",
     "start_time": "2020-01-01T19:13:49.631335Z"
    }
   },
   "outputs": [
    {
     "name": "stdout",
     "output_type": "stream",
     "text": [
      "simulating training for different learning rates... this may take a few moments...\n",
      "Epoch 1/1024\n",
      "900/900 [==============================] - 2013s 2s/step - loss: 0.6818 - acc: 0.5867\n",
      "Epoch 2/1024\n",
      "900/900 [==============================] - 2064s 2s/step - loss: 0.6263 - acc: 0.6611\n",
      "Epoch 3/1024\n",
      "900/900 [==============================] - 1974s 2s/step - loss: 0.4771 - acc: 0.7911\n",
      "Epoch 4/1024\n",
      "900/900 [==============================] - 1960s 2s/step - loss: 0.2813 - acc: 0.8878\n",
      "Epoch 5/1024\n",
      "900/900 [==============================] - 2017s 2s/step - loss: 0.2313 - acc: 0.9111\n",
      "Epoch 6/1024\n",
      "900/900 [==============================] - 1966s 2s/step - loss: 0.5694 - acc: 0.7056\n",
      "Epoch 7/1024\n",
      "666/900 [=====================>........] - ETA: 8:55 - loss: 0.8064 - acc: 0.5841\n",
      "\n",
      "done.\n",
      "Please invoke the Learner.lr_plot() method to visually inspect the loss plot to help identify the maximal learning rate associated with falling loss.\n",
      "CPU times: user 1d 6h 31min 33s, sys: 4h 49min 18s, total: 1d 11h 20min 52s\n",
      "Wall time: 3h 45min 32s\n"
     ]
    }
   ],
   "source": [
    "%%time\n",
    "learner.lr_find()"
   ]
  },
  {
   "cell_type": "code",
   "execution_count": 45,
   "metadata": {
    "ExecuteTime": {
     "end_time": "2020-01-01T23:01:13.302013Z",
     "start_time": "2020-01-01T23:01:12.718659Z"
    }
   },
   "outputs": [
    {
     "data": {
      "image/png": "[encoded data removed]",
      "text/plain": [
       "<Figure size 432x288 with 1 Axes>"
      ]
     },
     "metadata": {
      "needs_background": "light"
     },
     "output_type": "display_data"
    }
   ],
   "source": [
    "learner.lr_plot()\n",
    "#learn.recorder.plot(suggestion=True)"
   ]
  },
  {
   "cell_type": "code",
   "execution_count": 54,
   "metadata": {
    "ExecuteTime": {
     "end_time": "2020-01-02T01:51:04.653875Z",
     "start_time": "2020-01-01T23:10:06.100246Z"
    }
   },
   "outputs": [
    {
     "name": "stdout",
     "output_type": "stream",
     "text": [
      "\n",
      "\n",
      "begin training using onecycle policy with max lr of 2e-05...\n",
      "Train on 900 samples, validate on 100 samples\n",
      "Epoch 1/5\n",
      "900/900 [==============================] - 1951s 2s/step - loss: 0.5509 - acc: 0.7278 - val_loss: 0.3848 - val_acc: 0.8300\n",
      "Epoch 2/5\n",
      "900/900 [==============================] - 1932s 2s/step - loss: 0.3273 - acc: 0.8778 - val_loss: 0.3174 - val_acc: 0.8700\n",
      "Epoch 3/5\n",
      "900/900 [==============================] - 1929s 2s/step - loss: 0.1821 - acc: 0.9356 - val_loss: 0.2584 - val_acc: 0.8600\n",
      "Epoch 4/5\n",
      "900/900 [==============================] - 1923s 2s/step - loss: 0.0661 - acc: 0.9811 - val_loss: 0.3272 - val_acc: 0.8500\n",
      "Epoch 5/5\n",
      "900/900 [==============================] - 1924s 2s/step - loss: 0.0203 - acc: 0.9956 - val_loss: 0.4013 - val_acc: 0.8500\n"
     ]
    },
    {
     "data": {
      "text/plain": [
       "<keras.callbacks.History at 0x13db82350>"
      ]
     },
     "execution_count": 54,
     "metadata": {},
     "output_type": "execute_result"
    }
   ],
   "source": [
    "learner.fit_onecycle(0.00002, 5)"
   ]
  },
  {
   "cell_type": "code",
   "execution_count": null,
   "metadata": {},
   "outputs": [],
   "source": [
    "# fürs testen\n",
    "h = learner.fit_onecycle(0.00002, 5)"
   ]
  },
  {
   "cell_type": "code",
   "execution_count": 55,
   "metadata": {
    "ExecuteTime": {
     "end_time": "2020-01-02T06:08:24.915068Z",
     "start_time": "2020-01-02T06:08:24.748609Z"
    }
   },
   "outputs": [
    {
     "data": {
      "image/png": "[encoded data removed]",
      "text/plain": [
       "<Figure size 432x288 with 1 Axes>"
      ]
     },
     "metadata": {
      "needs_background": "light"
     },
     "output_type": "display_data"
    }
   ],
   "source": [
    "learner.plot('lr')"
   ]
  },
  {
   "cell_type": "code",
   "execution_count": 56,
   "metadata": {
    "ExecuteTime": {
     "end_time": "2020-01-02T06:08:27.965569Z",
     "start_time": "2020-01-02T06:08:27.841175Z"
    }
   },
   "outputs": [
    {
     "data": {
      "image/png": "[encoded data removed]",
      "text/plain": [
       "<Figure size 432x288 with 1 Axes>"
      ]
     },
     "metadata": {
      "needs_background": "light"
     },
     "output_type": "display_data"
    }
   ],
   "source": [
    "learner.plot('momentum')"
   ]
  },
  {
   "cell_type": "code",
   "execution_count": null,
   "metadata": {
    "ExecuteTime": {
     "end_time": "2020-03-08T20:30:46.263616Z",
     "start_time": "2020-03-08T20:30:46.185558Z"
    }
   },
   "outputs": [],
   "source": [
    "plt.plot(h.history['val_loss'], 'r')"
   ]
  },
  {
   "cell_type": "code",
   "execution_count": 61,
   "metadata": {
    "ExecuteTime": {
     "end_time": "2020-01-02T06:09:18.838919Z",
     "start_time": "2020-01-02T06:09:15.256454Z"
    }
   },
   "outputs": [
    {
     "name": "stdout",
     "output_type": "stream",
     "text": [
      "../models/bert_1000_ep_5_20200102.h5\n"
     ]
    }
   ],
   "source": [
    "model.save(outpath_model + \"/\" + modelname_ep_5)\n",
    "\n",
    "print(outpath_model + \"/\" + modelname_ep_5)"
   ]
  },
  {
   "cell_type": "code",
   "execution_count": 65,
   "metadata": {
    "ExecuteTime": {
     "end_time": "2020-01-02T13:19:23.568744Z",
     "start_time": "2020-01-02T13:18:14.115118Z"
    }
   },
   "outputs": [
    {
     "name": "stdout",
     "output_type": "stream",
     "text": [
      "              precision    recall  f1-score   support\n",
      "\n",
      "           0       0.91      0.84      0.87        61\n",
      "           1       0.77      0.87      0.82        39\n",
      "\n",
      "    accuracy                           0.85       100\n",
      "   macro avg       0.84      0.85      0.85       100\n",
      "weighted avg       0.86      0.85      0.85       100\n",
      "\n"
     ]
    },
    {
     "data": {
      "text/plain": [
       "array([[51, 10],\n",
       "       [ 5, 34]])"
      ]
     },
     "execution_count": 65,
     "metadata": {},
     "output_type": "execute_result"
    }
   ],
   "source": [
    "learner.validate(val_data=(x_test, y_test), \n",
    "               #  class_names=['label_all'],\n",
    "                print_report=True)"
   ]
  },
  {
   "cell_type": "code",
   "execution_count": 66,
   "metadata": {
    "ExecuteTime": {
     "end_time": "2020-01-02T13:21:28.863033Z",
     "start_time": "2020-01-02T13:20:20.860927Z"
    }
   },
   "outputs": [],
   "source": [
    "cm =learner.validate(val_data=(x_test, y_test),print_report=False)"
   ]
  },
  {
   "cell_type": "code",
   "execution_count": 90,
   "metadata": {
    "ExecuteTime": {
     "end_time": "2020-01-02T14:54:05.074037Z",
     "start_time": "2020-01-02T14:54:04.898564Z"
    }
   },
   "outputs": [
    {
     "name": "stdout",
     "output_type": "stream",
     "text": [
      "../pics/heatmap_1000_ep_5_20200102.jpg\n"
     ]
    },
    {
     "data": {
      "image/png": "[encoded data removed]",
      "text/plain": [
       "<Figure size 432x288 with 2 Axes>"
      ]
     },
     "metadata": {},
     "output_type": "display_data"
    }
   ],
   "source": [
    "import seaborn as sns\n",
    "import matplotlib.pyplot as plt     \n",
    "\n",
    "ax= plt.subplot()\n",
    "sns.heatmap(cm, annot=True, ax = ax, cmap='Blues',fmt='g',annot_kws={\"size\": 10}) #annot=True to annotate cells\n",
    "\n",
    "# labels, title and ticks\n",
    "ax.set_xlabel('Predicted labels');ax.set_ylabel('True labels') \n",
    "ax.set_title('Confusion Matrix')\n",
    "ax.xaxis.set_ticklabels(['non abusive', 'abusive'])\n",
    "ax.yaxis.set_ticklabels(['non  abusive','abusive'])\n",
    "\n",
    "plt.savefig(outpath_pics + '/' + heatmapname)\n",
    "print(outpath_pics + '/' + heatmapname)"
   ]
  },
  {
   "cell_type": "code",
   "execution_count": 70,
   "metadata": {
    "ExecuteTime": {
     "end_time": "2020-01-02T13:44:13.479726Z",
     "start_time": "2020-01-02T13:44:13.473885Z"
    }
   },
   "outputs": [],
   "source": [
    "predictor = ktrain.get_predictor(learner.model, preproc)"
   ]
  },
  {
   "cell_type": "code",
   "execution_count": 92,
   "metadata": {
    "ExecuteTime": {
     "end_time": "2020-01-05T20:39:28.302559Z",
     "start_time": "2020-01-05T20:39:20.360340Z"
    }
   },
   "outputs": [
    {
     "name": "stdout",
     "output_type": "stream",
     "text": [
      "../predictor/dectet_hatespeech_1000_ep_5_20200102\n"
     ]
    }
   ],
   "source": [
    "predictor.save(outpath_predictor + \"/\" + predictorname)\n",
    "print(outpath_predictor + \"/\" + predictorname)"
   ]
  },
  {
   "cell_type": "code",
   "execution_count": 74,
   "metadata": {
    "ExecuteTime": {
     "end_time": "2020-01-02T13:46:17.619413Z",
     "start_time": "2020-01-02T13:46:17.616048Z"
    }
   },
   "outputs": [],
   "source": [
    "test_data = ['I am a man',\n",
    "             'I am a woman', \n",
    "             'I am a lesbian', \n",
    "             'I am a gay', \n",
    "             'I am a gay man', \n",
    "             'I am dyke', \n",
    "             'I am a white man', \n",
    "             'I am a gay woman',\n",
    "             'I am a white woman', \n",
    "             'I am a gay white man', \n",
    "             'I am a black man',\n",
    "             'I am a gay black man', \n",
    "             'I am a black woman', \n",
    "             'I am a black gay woman',\n",
    "             'Hello sunsine', \n",
    "             'you stuipid asshole motherfucker cocksucker',\n",
    "             'I am musilm.  I like the islam']"
   ]
  },
  {
   "cell_type": "code",
   "execution_count": 75,
   "metadata": {
    "ExecuteTime": {
     "end_time": "2020-01-02T13:46:27.962047Z",
     "start_time": "2020-01-02T13:46:18.180058Z"
    }
   },
   "outputs": [
    {
     "data": {
      "text/html": [],
      "text/plain": [
       "<IPython.core.display.HTML object>"
      ]
     },
     "metadata": {},
     "output_type": "display_data"
    },
    {
     "data": {
      "text/plain": [
       "array([[0.98357993, 0.01642001],\n",
       "       [0.9332882 , 0.06671185],\n",
       "       [0.10986147, 0.89013857],\n",
       "       [0.34927264, 0.65072733],\n",
       "       [0.39335164, 0.6066483 ],\n",
       "       [0.87805223, 0.12194774],\n",
       "       [0.46172598, 0.53827405],\n",
       "       [0.12983929, 0.87016076],\n",
       "       [0.27746516, 0.72253484],\n",
       "       [0.1352964 , 0.8647036 ],\n",
       "       [0.7622597 , 0.23774028],\n",
       "       [0.20218846, 0.79781157],\n",
       "       [0.404536  , 0.595464  ],\n",
       "       [0.0771357 , 0.9228643 ],\n",
       "       [0.99259454, 0.00740544],\n",
       "       [0.0013766 , 0.9986234 ]], dtype=float32)"
      ]
     },
     "execution_count": 75,
     "metadata": {},
     "output_type": "execute_result"
    }
   ],
   "source": [
    "predictor.predict_proba(test_data)"
   ]
  }
 ],
 "metadata": {
  "kernelspec": {
   "display_name": "Python 3",
   "language": "python",
   "name": "python3"
  },
  "language_info": {
   "codemirror_mode": {
    "name": "ipython",
    "version": 3
   },
   "file_extension": ".py",
   "mimetype": "text/x-python",
   "name": "python",
   "nbconvert_exporter": "python",
   "pygments_lexer": "ipython3",
   "version": "3.7.4"
  },
  "toc": {
   "base_numbering": 1,
   "nav_menu": {},
   "number_sections": true,
   "sideBar": true,
   "skip_h1_title": false,
   "title_cell": "Table of Contents",
   "title_sidebar": "Contents",
   "toc_cell": false,
   "toc_position": {},
   "toc_section_display": true,
   "toc_window_display": false
  },
  "varInspector": {
   "cols": {
    "lenName": 16,
    "lenType": 16,
    "lenVar": 40
   },
   "kernels_config": {
    "python": {
     "delete_cmd_postfix": "",
     "delete_cmd_prefix": "del ",
     "library": "var_list.py",
     "varRefreshCmd": "print(var_dic_list())"
    },
    "r": {
     "delete_cmd_postfix": ") ",
     "delete_cmd_prefix": "rm(",
     "library": "var_list.r",
     "varRefreshCmd": "cat(var_dic_list()) "
    }
   },
   "types_to_exclude": [
    "module",
    "function",
    "builtin_function_or_method",
    "instance",
    "_Feature"
   ],
   "window_display": false
  }
 },
 "nbformat": 4,
 "nbformat_minor": 2
}
