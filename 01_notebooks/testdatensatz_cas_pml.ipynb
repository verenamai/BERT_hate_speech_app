{
 "cells": [
  {
   "cell_type": "code",
   "execution_count": null,
   "metadata": {
    "ExecuteTime": {
     "end_time": "2020-02-10T14:55:03.742462Z",
     "start_time": "2020-02-10T14:54:59.824808Z"
    }
   },
   "outputs": [],
   "source": [
    "import numpy as np\n",
    "import pandas as pd\n",
    "import time\n",
    "\n",
    "import ktrain\n",
    "from ktrain import text\n",
    "from keras.models import load_model\n",
    "\n",
    "import sklearn"
   ]
  },
  {
   "cell_type": "code",
   "execution_count": null,
   "metadata": {
    "ExecuteTime": {
     "end_time": "2020-02-10T14:55:31.071987Z",
     "start_time": "2020-02-10T14:55:31.068821Z"
    }
   },
   "outputs": [],
   "source": [
    "test_data = ['I am a man',\n",
    "             'I am a woman', \n",
    "             'I am a lesbian', \n",
    "             'I am a gay', \n",
    "             'I am a gay man', \n",
    "             'I am dyke', \n",
    "             'I am a white man', \n",
    "             'I am a gay woman',\n",
    "             'I am a white woman', \n",
    "             'I am a gay white man', \n",
    "             'I am a black man',\n",
    "             'I am a gay black man', \n",
    "             'I am a black woman', \n",
    "             'I am a black gay woman',\n",
    "             'Hello sunsine', \n",
    "             'you stipid asshole motherfucker cocksucker',\n",
    "             'I am muslim. I love the islam']"
   ]
  },
  {
   "cell_type": "code",
   "execution_count": null,
   "metadata": {
    "ExecuteTime": {
     "end_time": "2020-02-10T14:55:31.082905Z",
     "start_time": "2020-02-10T14:55:31.080008Z"
    }
   },
   "outputs": [],
   "source": [
    "test_sentence = 'Poor white kids being forced to treat apes and parasites as their equals.'"
   ]
  },
  {
   "cell_type": "code",
   "execution_count": null,
   "metadata": {},
   "outputs": [],
   "source": [
    "# Ab hier einlesen der CAS PML Modelle"
   ]
  },
  {
   "cell_type": "code",
   "execution_count": null,
   "metadata": {
    "ExecuteTime": {
     "end_time": "2020-02-10T14:58:01.591141Z",
     "start_time": "2020-02-10T14:58:01.588063Z"
    }
   },
   "outputs": [],
   "source": [
    "from keras.models import load_model\n",
    "from keras.preprocessing.text import Tokenizer\n",
    "from keras.preprocessing.sequence import pad_sequences\n",
    "import pickle\n",
    "from sklearn.externals import joblib"
   ]
  },
  {
   "cell_type": "code",
   "execution_count": null,
   "metadata": {
    "ExecuteTime": {
     "end_time": "2020-02-10T14:58:08.204472Z",
     "start_time": "2020-02-10T14:58:02.420290Z"
    }
   },
   "outputs": [],
   "source": [
    "lstm_model = load_model('/Users/verenamai/Documents/Studium/CASPML/pml_semsterarbeit/flask_app/models/lstm_10_abusive.h5')"
   ]
  },
  {
   "cell_type": "code",
   "execution_count": null,
   "metadata": {
    "ExecuteTime": {
     "end_time": "2020-02-10T14:58:08.733468Z",
     "start_time": "2020-02-10T14:58:08.731202Z"
    }
   },
   "outputs": [],
   "source": [
    "tokenizer_path = '/Users/verenamai/Documents/Studium/CASPML/pml_semsterarbeit/flask_app/models/tokenizer.pickle'"
   ]
  },
  {
   "cell_type": "code",
   "execution_count": null,
   "metadata": {
    "ExecuteTime": {
     "end_time": "2020-02-10T14:58:09.869832Z",
     "start_time": "2020-02-10T14:58:09.821984Z"
    }
   },
   "outputs": [],
   "source": [
    "with open(tokenizer_path, 'rb') as handle:\n",
    "        tokenizer = pickle.load(handle)"
   ]
  },
  {
   "cell_type": "code",
   "execution_count": null,
   "metadata": {
    "ExecuteTime": {
     "end_time": "2020-02-10T15:00:04.135449Z",
     "start_time": "2020-02-10T15:00:04.132255Z"
    }
   },
   "outputs": [],
   "source": [
    "lstm_input = tokenizer.texts_to_sequences(test_data)\n",
    "lstm_input = pad_sequences(lstm_input, maxlen=192)"
   ]
  },
  {
   "cell_type": "code",
   "execution_count": null,
   "metadata": {
    "ExecuteTime": {
     "end_time": "2020-02-10T15:00:04.569331Z",
     "start_time": "2020-02-10T15:00:04.515043Z"
    }
   },
   "outputs": [],
   "source": [
    "%time\n",
    "lstm_pred = lstm_model.predict(lstm_input)"
   ]
  },
  {
   "cell_type": "code",
   "execution_count": null,
   "metadata": {
    "ExecuteTime": {
     "end_time": "2020-02-10T15:00:05.015843Z",
     "start_time": "2020-02-10T15:00:05.012276Z"
    }
   },
   "outputs": [],
   "source": [
    "lstm_pred"
   ]
  },
  {
   "cell_type": "code",
   "execution_count": null,
   "metadata": {
    "ExecuteTime": {
     "end_time": "2020-01-09T10:34:35.714137Z",
     "start_time": "2020-01-09T10:34:35.711460Z"
    }
   },
   "outputs": [],
   "source": [
    "np.set_printoptions(formatter={'float_kind':'{:f}'.format}) \n",
    "#np.format_float_positional(np.float32(lstm_pred))"
   ]
  },
  {
   "cell_type": "code",
   "execution_count": null,
   "metadata": {
    "ExecuteTime": {
     "end_time": "2020-01-03T20:19:41.797470Z",
     "start_time": "2020-01-03T20:19:41.793999Z"
    }
   },
   "outputs": [],
   "source": [
    "df_bsp_satz = pd.DataFrame({'satz': test_data})"
   ]
  },
  {
   "cell_type": "code",
   "execution_count": null,
   "metadata": {
    "ExecuteTime": {
     "end_time": "2020-01-03T20:34:19.985831Z",
     "start_time": "2020-01-03T20:34:19.980608Z"
    }
   },
   "outputs": [],
   "source": [
    "df_bsp_satz['pred_lstm'] = lstm_pred.tolist()"
   ]
  },
  {
   "cell_type": "code",
   "execution_count": null,
   "metadata": {
    "ExecuteTime": {
     "end_time": "2020-01-09T10:33:52.982475Z",
     "start_time": "2020-01-09T10:33:52.940504Z"
    }
   },
   "outputs": [],
   "source": [
    "df_bsp_satz"
   ]
  },
  {
   "cell_type": "code",
   "execution_count": null,
   "metadata": {
    "ExecuteTime": {
     "end_time": "2020-02-10T14:58:41.590232Z",
     "start_time": "2020-02-10T14:58:41.587244Z"
    }
   },
   "outputs": [],
   "source": [
    "mnb_model_path = '../flask_app/models/cls_cvec_Multinomial_NB.pkl'\n",
    "lr_model_path = '../flask_app/models/cls_cvec_Logistic_Regression.pkl'\n",
    "lsvm_model_path = '../flask_app/models/cls_cvec_Linear_SVC.pkl'"
   ]
  },
  {
   "cell_type": "code",
   "execution_count": null,
   "metadata": {
    "ExecuteTime": {
     "end_time": "2020-02-10T14:58:46.901763Z",
     "start_time": "2020-02-10T14:58:42.297623Z"
    }
   },
   "outputs": [],
   "source": [
    "model_mnb = joblib.load(mnb_model_path)\n",
    "model_lr = joblib.load(lr_model_path)\n",
    "model_lsvm = joblib.load(lsvm_model_path)"
   ]
  },
  {
   "cell_type": "code",
   "execution_count": null,
   "metadata": {
    "ExecuteTime": {
     "end_time": "2020-02-10T14:59:13.906022Z",
     "start_time": "2020-02-10T14:59:13.900375Z"
    }
   },
   "outputs": [],
   "source": [
    "%time\n",
    "pred_mnb = model_mnb.predict_proba(test_data)"
   ]
  },
  {
   "cell_type": "code",
   "execution_count": null,
   "metadata": {
    "ExecuteTime": {
     "end_time": "2020-01-04T10:53:03.826143Z",
     "start_time": "2020-01-04T10:53:03.803371Z"
    }
   },
   "outputs": [],
   "source": [
    "%time\n",
    "pred_lr = model_lr.predict_proba(test_data)"
   ]
  },
  {
   "cell_type": "code",
   "execution_count": null,
   "metadata": {
    "ExecuteTime": {
     "end_time": "2020-01-03T21:07:51.146842Z",
     "start_time": "2020-01-03T21:07:51.129346Z"
    }
   },
   "outputs": [],
   "source": [
    "pred_lsvm = model_lsvm.predict(x)"
   ]
  },
  {
   "cell_type": "code",
   "execution_count": null,
   "metadata": {
    "ExecuteTime": {
     "end_time": "2020-01-03T20:47:12.315237Z",
     "start_time": "2020-01-03T20:47:12.311151Z"
    }
   },
   "outputs": [],
   "source": [
    "df_bsp_satz['pred_mnb'] = pred_mnb.tolist()\n",
    "df_bsp_satz['pred_lr'] = pred_lr.tolist()"
   ]
  },
  {
   "cell_type": "code",
   "execution_count": null,
   "metadata": {
    "ExecuteTime": {
     "end_time": "2020-01-09T10:36:21.766626Z",
     "start_time": "2020-01-09T10:36:21.760579Z"
    }
   },
   "outputs": [],
   "source": [
    "df_bsp_satz.to_csv('df_bsp_satz_1.csv', sep = '&', float_format='%.2f', index=False)"
   ]
  },
  {
   "cell_type": "code",
   "execution_count": null,
   "metadata": {
    "ExecuteTime": {
     "end_time": "2020-01-03T21:41:04.369540Z",
     "start_time": "2020-01-03T21:41:04.364194Z"
    }
   },
   "outputs": [],
   "source": [
    "pred_lsvm = np.array([[0.86697545, 0.13302455],\n",
    "       [0.78217451, 0.21782549],\n",
    "       [0.75887949, 0.24112051],\n",
    "       [0.85599529, 0.14400471],\n",
    "       [0.94836919, 0.05163081],\n",
    "       [0.07672431, 0.92327569],\n",
    "       [0.6542864 , 0.3457136 ],\n",
    "       [0.66707383, 0.33292617],\n",
    "       [0.87057766, 0.12942234],\n",
    "       [0.52034811, 0.47965189],\n",
    "       [0.57052591, 0.42947409],\n",
    "       [0.42937664, 0.57062336],\n",
    "       [0.8389154 , 0.1610846 ],\n",
    "       [0.45939357, 0.54060643],\n",
    "       [0.93397486, 0.06602514],\n",
    "       [0.38594307, 0.61405693]])"
   ]
  },
  {
   "cell_type": "code",
   "execution_count": null,
   "metadata": {
    "ExecuteTime": {
     "end_time": "2020-01-04T10:49:12.808642Z",
     "start_time": "2020-01-04T10:49:12.803172Z"
    }
   },
   "outputs": [],
   "source": [
    "pred_lsvm = np.array([[0.8669754496846412, 0.133024550315359],\n",
    "                      [0.7821745119142233, 0.21782548808577654],\n",
    "                      [0.7588794902846596, 0.24112050971534027],\n",
    "                      [0.8559952947591298, 0.1440047052408705],\n",
    "                      [0.9483691882289955, 0.05163081177100437],\n",
    "                      [0.07672430769296788, 0.9232756923070322],\n",
    "                      [0.6542864005125807, 0.3457135994874193],\n",
    "                      [0.6670738321447295, 0.33292616785527057],\n",
    "                      [0.8705776571431373, 0.12942234285686266],\n",
    "                      [0.5203481058440514, 0.47965189415594844],\n",
    "                      [0.570525909659619, 0.4294740903403811],\n",
    "                      [0.4293766396327355, 0.5706233603672645],\n",
    "                      [0.8389154035199532, 0.16108459648004692],\n",
    "                      [0.4593935733799633, 0.5406064266200367],\n",
    "                      [0.9339748568399477, 0.06602514316005242],\n",
    "                      [0.3859430717192557, 0.6140569282807443]])"
   ]
  },
  {
   "cell_type": "code",
   "execution_count": null,
   "metadata": {},
   "outputs": [],
   "source": [
    "[0.8669754496846412, 0.133024550315359]\n",
    "[0.7821745119142233, 0.21782548808577654]\n",
    "[0.7588794902846596, 0.24112050971534027]\n",
    "[0.8559952947591298, 0.1440047052408705]\n",
    "[0.9483691882289955, 0.05163081177100437]\n",
    "[0.07672430769296788, 0.9232756923070322]\n",
    "[0.6542864005125807, 0.3457135994874193]\n",
    "[0.6670738321447295, 0.33292616785527057]\n",
    "[0.8705776571431373, 0.12942234285686266]\n",
    "[0.5203481058440514, 0.47965189415594844]\n",
    "[0.570525909659619, 0.4294740903403811]\n",
    "[0.4293766396327355, 0.5706233603672645]\n",
    "[0.8389154035199532, 0.16108459648004692]\n",
    "[0.4593935733799633, 0.5406064266200367]\n",
    "[0.9339748568399477, 0.06602514316005242]\n",
    "[0.3859430717192557, 0.6140569282807443]\n"
   ]
  },
  {
   "cell_type": "code",
   "execution_count": null,
   "metadata": {
    "ExecuteTime": {
     "end_time": "2020-01-04T10:49:17.541958Z",
     "start_time": "2020-01-04T10:49:17.536861Z"
    }
   },
   "outputs": [],
   "source": [
    "df_bsp_satz['pred_lsvm'] = pred_lsvm.tolist()"
   ]
  },
  {
   "cell_type": "code",
   "execution_count": null,
   "metadata": {},
   "outputs": [],
   "source": []
  }
 ],
 "metadata": {
  "kernelspec": {
   "display_name": "Python 3",
   "language": "python",
   "name": "python3"
  },
  "language_info": {
   "codemirror_mode": {
    "name": "ipython",
    "version": 3
   },
   "file_extension": ".py",
   "mimetype": "text/x-python",
   "name": "python",
   "nbconvert_exporter": "python",
   "pygments_lexer": "ipython3",
   "version": "3.7.4"
  },
  "toc": {
   "base_numbering": 1,
   "nav_menu": {},
   "number_sections": true,
   "sideBar": true,
   "skip_h1_title": false,
   "title_cell": "Table of Contents",
   "title_sidebar": "Contents",
   "toc_cell": false,
   "toc_position": {},
   "toc_section_display": true,
   "toc_window_display": false
  },
  "varInspector": {
   "cols": {
    "lenName": 16,
    "lenType": 16,
    "lenVar": 40
   },
   "kernels_config": {
    "python": {
     "delete_cmd_postfix": "",
     "delete_cmd_prefix": "del ",
     "library": "var_list.py",
     "varRefreshCmd": "print(var_dic_list())"
    },
    "r": {
     "delete_cmd_postfix": ") ",
     "delete_cmd_prefix": "rm(",
     "library": "var_list.r",
     "varRefreshCmd": "cat(var_dic_list()) "
    }
   },
   "types_to_exclude": [
    "module",
    "function",
    "builtin_function_or_method",
    "instance",
    "_Feature"
   ],
   "window_display": false
  }
 },
 "nbformat": 4,
 "nbformat_minor": 2
}
