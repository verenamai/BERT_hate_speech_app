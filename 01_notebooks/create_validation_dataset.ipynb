{
 "cells": [
  {
   "cell_type": "code",
   "execution_count": 3,
   "metadata": {
    "ExecuteTime": {
     "end_time": "2020-03-06T08:46:01.920310Z",
     "start_time": "2020-03-06T08:46:01.918365Z"
    }
   },
   "outputs": [],
   "source": [
    "import pandas as pd\n",
    "import time"
   ]
  },
  {
   "cell_type": "code",
   "execution_count": 22,
   "metadata": {
    "ExecuteTime": {
     "end_time": "2020-03-06T08:53:26.066037Z",
     "start_time": "2020-03-06T08:53:26.062922Z"
    }
   },
   "outputs": [],
   "source": [
    "# \"If max_cols is exceeded, switch to truncate view\"\n",
    "pd.set_option('display.max_columns', 5400)\n",
    "# \"The maximum width in characters of a column\"\n",
    "pd.set_option('display.max_colwidth', 500)"
   ]
  },
  {
   "cell_type": "code",
   "execution_count": 61,
   "metadata": {
    "ExecuteTime": {
     "end_time": "2020-03-07T13:36:15.665516Z",
     "start_time": "2020-03-07T13:36:15.662546Z"
    }
   },
   "outputs": [],
   "source": [
    "outpath = '../data'\n",
    "filename = \"df_jigsaw_validation_\"+(time.strftime(\"%Y%m%d\")+\".csv\")"
   ]
  },
  {
   "cell_type": "code",
   "execution_count": 5,
   "metadata": {
    "ExecuteTime": {
     "end_time": "2020-03-06T08:46:14.333458Z",
     "start_time": "2020-03-06T08:46:13.699194Z"
    }
   },
   "outputs": [],
   "source": [
    "df_jigsaw = pd.read_csv('../data/jigsaw-toxic-comment-classification-challenge/train.csv',encoding='utf-8')"
   ]
  },
  {
   "cell_type": "code",
   "execution_count": null,
   "metadata": {
    "ExecuteTime": {
     "end_time": "2020-03-06T08:53:27.612396Z",
     "start_time": "2020-03-06T08:53:27.602372Z"
    }
   },
   "outputs": [],
   "source": [
    "df_jigsaw.head()"
   ]
  },
  {
   "cell_type": "code",
   "execution_count": 7,
   "metadata": {
    "ExecuteTime": {
     "end_time": "2020-03-06T08:46:44.051237Z",
     "start_time": "2020-03-06T08:46:44.047392Z"
    }
   },
   "outputs": [
    {
     "data": {
      "text/plain": [
       "159571"
      ]
     },
     "execution_count": 7,
     "metadata": {},
     "output_type": "execute_result"
    }
   ],
   "source": [
    "len(df_jigsaw)"
   ]
  },
  {
   "cell_type": "code",
   "execution_count": 9,
   "metadata": {
    "ExecuteTime": {
     "end_time": "2020-03-06T08:47:55.585256Z",
     "start_time": "2020-03-06T08:47:55.580552Z"
    }
   },
   "outputs": [
    {
     "data": {
      "text/plain": [
       "id               object\n",
       "comment_text     object\n",
       "toxic             int64\n",
       "severe_toxic      int64\n",
       "obscene           int64\n",
       "threat            int64\n",
       "insult            int64\n",
       "identity_hate     int64\n",
       "dtype: object"
      ]
     },
     "execution_count": 9,
     "metadata": {},
     "output_type": "execute_result"
    }
   ],
   "source": [
    "df_jigsaw.dtypes"
   ]
  },
  {
   "cell_type": "code",
   "execution_count": 11,
   "metadata": {
    "ExecuteTime": {
     "end_time": "2020-03-06T08:48:19.316841Z",
     "start_time": "2020-03-06T08:48:19.090595Z"
    }
   },
   "outputs": [
    {
     "data": {
      "text/plain": [
       "5895"
      ]
     },
     "execution_count": 11,
     "metadata": {},
     "output_type": "execute_result"
    }
   ],
   "source": [
    "int(df_jigsaw['comment_text'].str.encode(encoding='utf-8').str.len().max())"
   ]
  },
  {
   "cell_type": "code",
   "execution_count": 13,
   "metadata": {
    "ExecuteTime": {
     "end_time": "2020-03-06T08:48:38.086689Z",
     "start_time": "2020-03-06T08:48:37.888053Z"
    }
   },
   "outputs": [
    {
     "data": {
      "text/plain": [
       "6"
      ]
     },
     "execution_count": 13,
     "metadata": {},
     "output_type": "execute_result"
    }
   ],
   "source": [
    "int(df_jigsaw['comment_text'].str.encode(encoding='utf-8').str.len().min())"
   ]
  },
  {
   "cell_type": "code",
   "execution_count": 15,
   "metadata": {
    "ExecuteTime": {
     "end_time": "2020-03-06T08:49:11.907028Z",
     "start_time": "2020-03-06T08:49:11.899497Z"
    }
   },
   "outputs": [
    {
     "data": {
      "text/plain": [
       "0    157976\n",
       "1      1595\n",
       "Name: severe_toxic, dtype: int64"
      ]
     },
     "execution_count": 15,
     "metadata": {},
     "output_type": "execute_result"
    }
   ],
   "source": [
    "df_jigsaw['severe_toxic'].value_counts()"
   ]
  },
  {
   "cell_type": "code",
   "execution_count": 38,
   "metadata": {
    "ExecuteTime": {
     "end_time": "2020-03-07T13:18:55.710584Z",
     "start_time": "2020-03-07T13:18:55.674261Z"
    }
   },
   "outputs": [],
   "source": [
    "def conditions(s):\n",
    "    if s['identity_hate'] == 1:\n",
    "        return 1\n",
    "    else:\n",
    "        return 0"
   ]
  },
  {
   "cell_type": "code",
   "execution_count": null,
   "metadata": {
    "ExecuteTime": {
     "end_time": "2020-03-06T09:13:29.816442Z",
     "start_time": "2020-03-06T09:13:29.800322Z"
    }
   },
   "outputs": [],
   "source": [
    "df_jigsaw[(df_jigsaw.toxic == 0) & (df_jigsaw.identity_hate == 1)]"
   ]
  },
  {
   "cell_type": "code",
   "execution_count": 39,
   "metadata": {
    "ExecuteTime": {
     "end_time": "2020-03-07T13:19:33.875575Z",
     "start_time": "2020-03-07T13:19:31.750085Z"
    }
   },
   "outputs": [],
   "source": [
    "df_jigsaw['hate'] = df_jigsaw.apply(conditions, axis=1)"
   ]
  },
  {
   "cell_type": "code",
   "execution_count": null,
   "metadata": {
    "ExecuteTime": {
     "end_time": "2020-03-07T13:20:00.861472Z",
     "start_time": "2020-03-07T13:20:00.846890Z"
    }
   },
   "outputs": [],
   "source": [
    "df_jigsaw.sample(2)"
   ]
  },
  {
   "cell_type": "code",
   "execution_count": 48,
   "metadata": {
    "ExecuteTime": {
     "end_time": "2020-03-07T13:29:46.658498Z",
     "start_time": "2020-03-07T13:29:46.652591Z"
    }
   },
   "outputs": [],
   "source": [
    "df_jigsaw_subset_hate = df_jigsaw[df_jigsaw.hate == 1].sample(500)"
   ]
  },
  {
   "cell_type": "code",
   "execution_count": 49,
   "metadata": {
    "ExecuteTime": {
     "end_time": "2020-03-07T13:29:47.277202Z",
     "start_time": "2020-03-07T13:29:47.253167Z"
    }
   },
   "outputs": [],
   "source": [
    "df_jigsaw_subset_nohate = df_jigsaw[df_jigsaw.hate == 0].sample(500)"
   ]
  },
  {
   "cell_type": "code",
   "execution_count": 50,
   "metadata": {
    "ExecuteTime": {
     "end_time": "2020-03-07T13:29:55.350200Z",
     "start_time": "2020-03-07T13:29:55.345361Z"
    }
   },
   "outputs": [
    {
     "name": "stdout",
     "output_type": "stream",
     "text": [
      "done with change concat\n"
     ]
    }
   ],
   "source": [
    "pdList = [df_jigsaw_subset_hate, df_jigsaw_subset_nohate]  # List of your dataframes\n",
    "df_jigsaw_subset = pd.concat(pdList, join='inner', sort=False)\n",
    "\n",
    "print('done with change concat')"
   ]
  },
  {
   "cell_type": "code",
   "execution_count": null,
   "metadata": {
    "ExecuteTime": {
     "end_time": "2020-03-07T13:33:44.478070Z",
     "start_time": "2020-03-07T13:33:44.467635Z"
    }
   },
   "outputs": [],
   "source": [
    "df_jigsaw_subset.head()"
   ]
  },
  {
   "cell_type": "code",
   "execution_count": 52,
   "metadata": {
    "ExecuteTime": {
     "end_time": "2020-03-07T13:30:57.226362Z",
     "start_time": "2020-03-07T13:30:57.220972Z"
    }
   },
   "outputs": [
    {
     "data": {
      "text/plain": [
       "1    500\n",
       "0    500\n",
       "Name: hate, dtype: int64"
      ]
     },
     "execution_count": 52,
     "metadata": {},
     "output_type": "execute_result"
    }
   ],
   "source": [
    "df_jigsaw_subset['hate'].value_counts()"
   ]
  },
  {
   "cell_type": "code",
   "execution_count": 56,
   "metadata": {
    "ExecuteTime": {
     "end_time": "2020-03-07T13:33:39.672282Z",
     "start_time": "2020-03-07T13:33:39.669423Z"
    }
   },
   "outputs": [],
   "source": [
    "df_jigsaw_subset.reset_index(drop=True, inplace=True)"
   ]
  },
  {
   "cell_type": "code",
   "execution_count": null,
   "metadata": {
    "ExecuteTime": {
     "end_time": "2020-03-07T13:33:22.612264Z",
     "start_time": "2020-03-07T13:33:22.601614Z"
    }
   },
   "outputs": [],
   "source": [
    "print('done with reset index')"
   ]
  },
  {
   "cell_type": "code",
   "execution_count": 62,
   "metadata": {
    "ExecuteTime": {
     "end_time": "2020-03-07T13:36:19.503107Z",
     "start_time": "2020-03-07T13:36:19.477052Z"
    }
   },
   "outputs": [],
   "source": [
    "df_jigsaw_subset.to_csv(outpath + \"/\" + filename)"
   ]
  },
  {
   "cell_type": "code",
   "execution_count": 63,
   "metadata": {
    "ExecuteTime": {
     "end_time": "2020-03-07T13:36:20.011939Z",
     "start_time": "2020-03-07T13:36:20.008696Z"
    }
   },
   "outputs": [
    {
     "name": "stdout",
     "output_type": "stream",
     "text": [
      "df_jigsaw_validation_20200307.csv\n"
     ]
    }
   ],
   "source": [
    "print(filename)"
   ]
  }
 ],
 "metadata": {
  "kernelspec": {
   "display_name": "Python 3",
   "language": "python",
   "name": "python3"
  },
  "language_info": {
   "codemirror_mode": {
    "name": "ipython",
    "version": 3
   },
   "file_extension": ".py",
   "mimetype": "text/x-python",
   "name": "python",
   "nbconvert_exporter": "python",
   "pygments_lexer": "ipython3",
   "version": "3.7.4"
  },
  "toc": {
   "base_numbering": 1,
   "nav_menu": {},
   "number_sections": true,
   "sideBar": true,
   "skip_h1_title": false,
   "title_cell": "Table of Contents",
   "title_sidebar": "Contents",
   "toc_cell": false,
   "toc_position": {},
   "toc_section_display": true,
   "toc_window_display": false
  },
  "varInspector": {
   "cols": {
    "lenName": 16,
    "lenType": 16,
    "lenVar": 40
   },
   "kernels_config": {
    "python": {
     "delete_cmd_postfix": "",
     "delete_cmd_prefix": "del ",
     "library": "var_list.py",
     "varRefreshCmd": "print(var_dic_list())"
    },
    "r": {
     "delete_cmd_postfix": ") ",
     "delete_cmd_prefix": "rm(",
     "library": "var_list.r",
     "varRefreshCmd": "cat(var_dic_list()) "
    }
   },
   "types_to_exclude": [
    "module",
    "function",
    "builtin_function_or_method",
    "instance",
    "_Feature"
   ],
   "window_display": false
  }
 },
 "nbformat": 4,
 "nbformat_minor": 2
}
