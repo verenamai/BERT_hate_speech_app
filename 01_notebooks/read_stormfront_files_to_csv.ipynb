{
 "cells": [
  {
   "cell_type": "code",
   "execution_count": 1,
   "metadata": {
    "ExecuteTime": {
     "end_time": "2020-03-01T08:23:10.475497Z",
     "start_time": "2020-03-01T08:23:09.838202Z"
    }
   },
   "outputs": [],
   "source": [
    "import glob, os    \n",
    "import time\n",
    "import pandas as pd\n",
    "import matplotlib.pyplot as plt\n",
    "import numpy as np"
   ]
  },
  {
   "cell_type": "code",
   "execution_count": 2,
   "metadata": {
    "ExecuteTime": {
     "end_time": "2020-03-01T08:23:10.583043Z",
     "start_time": "2020-03-01T08:23:10.486605Z"
    }
   },
   "outputs": [],
   "source": [
    "path = \"../data/hate-speech-dataset-master/all_files\"\n",
    "allFiles = glob.glob(os.path.join(path,\"*.txt\"))"
   ]
  },
  {
   "cell_type": "code",
   "execution_count": 3,
   "metadata": {
    "ExecuteTime": {
     "end_time": "2020-03-01T08:23:10.745670Z",
     "start_time": "2020-03-01T08:23:10.727144Z"
    }
   },
   "outputs": [],
   "source": [
    "annotations_path = \"../data/hate-speech-dataset-master/annotations_metadata.csv\"\n",
    "annotations = pd.read_csv(annotations_path, header=0, dtype=str)"
   ]
  },
  {
   "cell_type": "code",
   "execution_count": 4,
   "metadata": {
    "ExecuteTime": {
     "end_time": "2020-03-01T08:23:11.154410Z",
     "start_time": "2020-03-01T08:23:11.150379Z"
    }
   },
   "outputs": [],
   "source": [
    "annotations.rename(columns={\"file_id\":\"filename\"}, inplace=True)"
   ]
  },
  {
   "cell_type": "code",
   "execution_count": 5,
   "metadata": {
    "ExecuteTime": {
     "end_time": "2020-03-01T08:23:11.520806Z",
     "start_time": "2020-03-01T08:23:11.514675Z"
    }
   },
   "outputs": [],
   "source": [
    "# Sort allFiles so that files are being read in the order of the filename\n",
    "allFiles.sort()\n",
    "fullFrame = pd.DataFrame()"
   ]
  },
  {
   "cell_type": "code",
   "execution_count": 6,
   "metadata": {
    "ExecuteTime": {
     "end_time": "2020-03-01T08:23:39.508533Z",
     "start_time": "2020-03-01T08:23:11.878632Z"
    }
   },
   "outputs": [
    {
     "name": "stdout",
     "output_type": "stream",
     "text": [
      "unexpected error encountered while reading file: ../data/hate-speech-dataset-master/all_files/13947255_2.txt. \n",
      "Error: Error tokenizing data. C error: EOF inside string starting at row 0\n"
     ]
    }
   ],
   "source": [
    "for file in allFiles: \n",
    "    #print(file)\n",
    "    try:\n",
    "        temp = pd.read_csv(file, sep=\"\\n\", header=None, dtype=str) # force any text content to be read as string\n",
    "        temp[\"filename\"] = (file.split('/')[-1])[:-4] # add filename but remove \".txt\" and strip Path\n",
    "        fullFrame = fullFrame.append(temp, ignore_index=True)\n",
    "    except Exception as e:\n",
    "        print(\"unexpected error encountered while reading file: {}. \\nError: {}\".format(file, e))"
   ]
  },
  {
   "cell_type": "code",
   "execution_count": 7,
   "metadata": {
    "ExecuteTime": {
     "end_time": "2020-03-01T08:23:39.569783Z",
     "start_time": "2020-03-01T08:23:39.564034Z"
    }
   },
   "outputs": [],
   "source": [
    "# rename the column 0 to 'text'\n",
    "fullFrame.rename(columns={0:\"text\"}, inplace=True)"
   ]
  },
  {
   "cell_type": "code",
   "execution_count": 8,
   "metadata": {
    "ExecuteTime": {
     "end_time": "2020-03-01T08:23:39.624185Z",
     "start_time": "2020-03-01T08:23:39.617376Z"
    }
   },
   "outputs": [
    {
     "data": {
      "text/plain": [
       "(10944, 10943)"
      ]
     },
     "execution_count": 8,
     "metadata": {},
     "output_type": "execute_result"
    }
   ],
   "source": [
    "len(allFiles),len(fullFrame)"
   ]
  },
  {
   "cell_type": "code",
   "execution_count": 9,
   "metadata": {
    "ExecuteTime": {
     "end_time": "2020-03-01T08:23:39.685420Z",
     "start_time": "2020-03-01T08:23:39.661498Z"
    }
   },
   "outputs": [
    {
     "data": {
      "text/html": [
       "<div>\n",
       "<style scoped>\n",
       "    .dataframe tbody tr th:only-of-type {\n",
       "        vertical-align: middle;\n",
       "    }\n",
       "\n",
       "    .dataframe tbody tr th {\n",
       "        vertical-align: top;\n",
       "    }\n",
       "\n",
       "    .dataframe thead th {\n",
       "        text-align: right;\n",
       "    }\n",
       "</style>\n",
       "<table border=\"1\" class=\"dataframe\">\n",
       "  <thead>\n",
       "    <tr style=\"text-align: right;\">\n",
       "      <th></th>\n",
       "      <th>text</th>\n",
       "      <th>filename</th>\n",
       "    </tr>\n",
       "  </thead>\n",
       "  <tbody>\n",
       "  </tbody>\n",
       "</table>\n",
       "</div>"
      ],
      "text/plain": [
       "Empty DataFrame\n",
       "Columns: [text, filename]\n",
       "Index: []"
      ]
     },
     "execution_count": 9,
     "metadata": {},
     "output_type": "execute_result"
    }
   ],
   "source": [
    "# remove pipe | character from text\n",
    "# overwriting column with replaced value of age \n",
    "fullFrame[\"text\"]= fullFrame[\"text\"].replace(\"\\|\", \"\", regex=True) \n",
    "\n",
    "# check if no text with pipe sign remains...  \n",
    "fullFrame[fullFrame['text'].str.contains(pat = \"\\|\", regex=True)]"
   ]
  },
  {
   "cell_type": "code",
   "execution_count": null,
   "metadata": {
    "ExecuteTime": {
     "end_time": "2020-03-01T08:23:39.731132Z",
     "start_time": "2020-03-01T08:23:39.723468Z"
    }
   },
   "outputs": [],
   "source": [
    "fullFrame.head()"
   ]
  },
  {
   "cell_type": "code",
   "execution_count": null,
   "metadata": {},
   "outputs": [],
   "source": [
    "#Some Checks that can be ignored when just interested in the output file"
   ]
  },
  {
   "cell_type": "code",
   "execution_count": 11,
   "metadata": {
    "ExecuteTime": {
     "end_time": "2020-03-01T08:23:39.769873Z",
     "start_time": "2020-03-01T08:23:39.767410Z"
    }
   },
   "outputs": [],
   "source": [
    "#annotations.head()"
   ]
  },
  {
   "cell_type": "code",
   "execution_count": 12,
   "metadata": {
    "ExecuteTime": {
     "end_time": "2020-03-01T08:23:39.811995Z",
     "start_time": "2020-03-01T08:23:39.809257Z"
    }
   },
   "outputs": [],
   "source": [
    "#annotations[annotations['filename'] == '30577556_2']"
   ]
  },
  {
   "cell_type": "code",
   "execution_count": 13,
   "metadata": {
    "ExecuteTime": {
     "end_time": "2020-03-01T08:23:39.854509Z",
     "start_time": "2020-03-01T08:23:39.852067Z"
    }
   },
   "outputs": [],
   "source": [
    "# convert 'text' column to strings (some contain only numbers)\n",
    "# fullFrame['text'] = fullFrame['text'].astype(str)\n",
    "# not needed, as we force the dtype=str when reading it"
   ]
  },
  {
   "cell_type": "code",
   "execution_count": null,
   "metadata": {},
   "outputs": [],
   "source": [
    "## Merge fullFrame and annotations on column 'filename'"
   ]
  },
  {
   "cell_type": "code",
   "execution_count": 14,
   "metadata": {
    "ExecuteTime": {
     "end_time": "2020-03-01T08:23:39.919022Z",
     "start_time": "2020-03-01T08:23:39.901797Z"
    }
   },
   "outputs": [],
   "source": [
    "merged = pd.merge(fullFrame, annotations, on='filename')"
   ]
  },
  {
   "cell_type": "code",
   "execution_count": null,
   "metadata": {
    "ExecuteTime": {
     "end_time": "2020-03-01T08:23:39.982858Z",
     "start_time": "2020-03-01T08:23:39.969309Z"
    }
   },
   "outputs": [],
   "source": [
    "merged.head().append(merged.tail())"
   ]
  },
  {
   "cell_type": "code",
   "execution_count": null,
   "metadata": {},
   "outputs": [],
   "source": [
    "## Sort the merged df by length of the comment in the forum "
   ]
  },
  {
   "cell_type": "code",
   "execution_count": 17,
   "metadata": {
    "ExecuteTime": {
     "end_time": "2020-03-01T08:23:40.094822Z",
     "start_time": "2020-03-01T08:23:40.086133Z"
    }
   },
   "outputs": [],
   "source": [
    "merged['text_length'] = merged['text'].str.len()"
   ]
  },
  {
   "cell_type": "code",
   "execution_count": 18,
   "metadata": {
    "ExecuteTime": {
     "end_time": "2020-03-01T08:23:40.153548Z",
     "start_time": "2020-03-01T08:23:40.146435Z"
    }
   },
   "outputs": [],
   "source": [
    "merged.sort_values(by=['text_length'], inplace=True)"
   ]
  },
  {
   "cell_type": "code",
   "execution_count": null,
   "metadata": {
    "ExecuteTime": {
     "end_time": "2020-03-01T08:23:40.222515Z",
     "start_time": "2020-03-01T08:23:40.206739Z"
    }
   },
   "outputs": [],
   "source": [
    "merged.head().append(merged.tail())"
   ]
  },
  {
   "cell_type": "code",
   "execution_count": null,
   "metadata": {},
   "outputs": [],
   "source": [
    "## Write the merged dataframe as 'merged_result_frame.csv'"
   ]
  },
  {
   "cell_type": "code",
   "execution_count": 22,
   "metadata": {
    "ExecuteTime": {
     "end_time": "2020-02-10T16:10:06.393693Z",
     "start_time": "2020-02-10T16:10:06.324662Z"
    }
   },
   "outputs": [],
   "source": [
    "merged.to_csv(\"../data/merged_result_frame.csv\", sep=\"|\", index=False);"
   ]
  }
 ],
 "metadata": {
  "kernelspec": {
   "display_name": "Python 3",
   "language": "python",
   "name": "python3"
  },
  "language_info": {
   "codemirror_mode": {
    "name": "ipython",
    "version": 3
   },
   "file_extension": ".py",
   "mimetype": "text/x-python",
   "name": "python",
   "nbconvert_exporter": "python",
   "pygments_lexer": "ipython3",
   "version": "3.7.4"
  },
  "toc": {
   "base_numbering": 1,
   "nav_menu": {},
   "number_sections": true,
   "sideBar": true,
   "skip_h1_title": false,
   "title_cell": "Table of Contents",
   "title_sidebar": "Contents",
   "toc_cell": false,
   "toc_position": {},
   "toc_section_display": true,
   "toc_window_display": false
  },
  "varInspector": {
   "cols": {
    "lenName": 16,
    "lenType": 16,
    "lenVar": 40
   },
   "kernels_config": {
    "python": {
     "delete_cmd_postfix": "",
     "delete_cmd_prefix": "del ",
     "library": "var_list.py",
     "varRefreshCmd": "print(var_dic_list())"
    },
    "r": {
     "delete_cmd_postfix": ") ",
     "delete_cmd_prefix": "rm(",
     "library": "var_list.r",
     "varRefreshCmd": "cat(var_dic_list()) "
    }
   },
   "types_to_exclude": [
    "module",
    "function",
    "builtin_function_or_method",
    "instance",
    "_Feature"
   ],
   "window_display": false
  }
 },
 "nbformat": 4,
 "nbformat_minor": 2
}
